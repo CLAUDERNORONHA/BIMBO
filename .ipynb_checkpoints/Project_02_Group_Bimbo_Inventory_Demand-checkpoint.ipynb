{
 "cells": [
  {
   "cell_type": "markdown",
   "metadata": {
    "colab_type": "text",
    "id": "Gs43IKD7QyTF"
   },
   "source": [
    "# **Grupo Bimbo Inventory Demand**\n",
    "\n",
    "*06 de março, 2020*"
   ]
  },
  {
   "cell_type": "markdown",
   "metadata": {
    "colab_type": "text",
    "id": "pEWLHqoL9G2u"
   },
   "source": [
    "## **1.   Descrição geral do problema**"
   ]
  },
  {
   "cell_type": "markdown",
   "metadata": {
    "colab_type": "text",
    "id": "mJh9xZiHsTPI"
   },
   "source": [
    "---\n",
    "\n",
    "![Grupo Bimbo](https://storage.googleapis.com/kaggle-competitions/kaggle/5260/logos/front_page.png)\n",
    "\n",
    "O [Grupo Bimbo](https://www.grupobimbo.com), se esforça para atender a demanda diária dos consumidores por produtos frescos de panificação nas prateleiras de mais de 1 milhão de lojas ao longo das suas 45.000 lojas em todo o México.\n",
    "\n",
    "Atualmente, os cálculos diários de estoque são realizados por funcionários de vendas de entregas diretas, que devem, sozinhos, prever a necessidade de estoque dos produtos e demanda com base em suas experiências pessoais em cada loja. Como alguns pães têm uma vida útil de uma semana, a margem aceitável para o erro é pequena.\n",
    "\n",
    "**Objetivo:** neste projeto de aprendizado de máquina, vamos desenvolver um modelo para prever com precisão a demanda de estoque com base nos dados históricos de vendas. Isso fará com que os consumidores dos mais de 100 produtos de panificação não fiquem olhando para as prateleiras vazias, além de reduzir o valor gasto com reembolsos para os proprietários de lojas com produtos excedentes impróprios para venda. \n",
    "\n",
    "Para a construção desse projeto, utilizaremos a linguagem R e os datasets disponíveis no Kaggle em:\n",
    "\n",
    "* https://www.kaggle.com/c/grupo-bimbo-inventory-demand\n",
    "\n",
    "---"
   ]
  },
  {
   "cell_type": "markdown",
   "metadata": {
    "colab_type": "text",
    "id": "lmMeDJUmSd_K"
   },
   "source": [
    "## **2. Carregando dados**\n"
   ]
  },
  {
   "cell_type": "markdown",
   "metadata": {
    "colab_type": "text",
    "id": "S8je2U4gsbJ8"
   },
   "source": [
    "### **2.1 Importando bibliotecas necessárias**\n",
    "\n",
    "\n"
   ]
  },
  {
   "cell_type": "markdown",
   "metadata": {
    "colab_type": "text",
    "id": "pNcag3h5qm4U"
   },
   "source": [
    "Vamos começar nosso projeto importanto todas as bilbiotecas necessárias para a realização das fases iniciais de exploração e transformação dos dados (*Data Munging*)."
   ]
  },
  {
   "cell_type": "code",
   "execution_count": null,
   "metadata": {
    "colab": {
     "base_uri": "https://localhost:8080/",
     "height": 139
    },
    "colab_type": "code",
    "id": "7GrgX59_OISY",
    "outputId": "1779ea6b-af5d-4462-b7a3-936ec9cd6cb1"
   },
   "outputs": [],
   "source": [
    "# Caso não possua uma das bibliotecas importadas abaixo, a instale com um dos comandos a seguir:\n",
    "\n",
    "install.packages(c(\n",
    "    'data.table',\n",
    "    'bigreadr',\n",
    "    'dplyr',\n",
    "    'ggplot2',\n",
    "    'fasttime',\n",
    "    'lubridate',\n",
    "    'corrplot',\n",
    "    'anomalize',\n",
    "    'stringr'\n",
    "))"
   ]
  },
  {
   "cell_type": "code",
   "execution_count": null,
   "metadata": {
    "colab": {
     "base_uri": "https://localhost:8080/",
     "height": 782
    },
    "colab_type": "code",
    "id": "QrFY4oWKQugd",
    "outputId": "ddf7cbdd-5833-4d02-bb36-7a80ffb9114d"
   },
   "outputs": [],
   "source": [
    "# Definindo a oculatação de warnings.\n",
    "\n",
    "options(warn = -1)\n",
    "\n",
    "# Importando bibliotecas.\n",
    "\n",
    "library(data.table)\n",
    "library(bigreadr)\n",
    "library(dplyr)\n",
    "library(ggplot2)\n",
    "library(fasttime)\n",
    "library(lubridate)\n",
    "library(corrplot)\n",
    "library(anomalize)\n",
    "library(stringr)"
   ]
  },
  {
   "cell_type": "markdown",
   "metadata": {
    "colab_type": "text",
    "id": "u1eZ08QSU1t2"
   },
   "source": [
    "### **2.2 Carregando dados do dataset *cliente_tabla***\n",
    "\n"
   ]
  },
  {
   "cell_type": "code",
   "execution_count": 6,
   "metadata": {
    "colab": {
     "base_uri": "https://localhost:8080/",
     "height": 204
    },
    "colab_type": "code",
    "id": "2QqQgSxMVVuN",
    "outputId": "424c1951-6be7-4bea-e1da-30fb7b69b04d"
   },
   "outputs": [
    {
     "data": {
      "text/html": [
       "<table>\n",
       "<caption>A data.table: 6 × 2</caption>\n",
       "<thead>\n",
       "\t<tr><th scope=col>Cliente_ID</th><th scope=col>NombreCliente</th></tr>\n",
       "\t<tr><th scope=col>&lt;int&gt;</th><th scope=col>&lt;chr&gt;</th></tr>\n",
       "</thead>\n",
       "<tbody>\n",
       "\t<tr><td>0</td><td>SIN NOMBRE                             </td></tr>\n",
       "\t<tr><td>1</td><td>OXXO XINANTECATL                       </td></tr>\n",
       "\t<tr><td>2</td><td>SIN NOMBRE                             </td></tr>\n",
       "\t<tr><td>3</td><td>EL MORENO                              </td></tr>\n",
       "\t<tr><td>4</td><td>SDN SER  DE ALIM  CUERPO SA CIA  DE INT</td></tr>\n",
       "\t<tr><td>4</td><td>SDN SER DE ALIM CUERPO SA CIA DE INT   </td></tr>\n",
       "</tbody>\n",
       "</table>\n"
      ],
      "text/latex": [
       "A data.table: 6 × 2\n",
       "\\begin{tabular}{ll}\n",
       " Cliente\\_ID & NombreCliente\\\\\n",
       " <int> & <chr>\\\\\n",
       "\\hline\n",
       "\t 0 & SIN NOMBRE                             \\\\\n",
       "\t 1 & OXXO XINANTECATL                       \\\\\n",
       "\t 2 & SIN NOMBRE                             \\\\\n",
       "\t 3 & EL MORENO                              \\\\\n",
       "\t 4 & SDN SER  DE ALIM  CUERPO SA CIA  DE INT\\\\\n",
       "\t 4 & SDN SER DE ALIM CUERPO SA CIA DE INT   \\\\\n",
       "\\end{tabular}\n"
      ],
      "text/markdown": [
       "\n",
       "A data.table: 6 × 2\n",
       "\n",
       "| Cliente_ID &lt;int&gt; | NombreCliente &lt;chr&gt; |\n",
       "|---|---|\n",
       "| 0 | SIN NOMBRE                              |\n",
       "| 1 | OXXO XINANTECATL                        |\n",
       "| 2 | SIN NOMBRE                              |\n",
       "| 3 | EL MORENO                               |\n",
       "| 4 | SDN SER  DE ALIM  CUERPO SA CIA  DE INT |\n",
       "| 4 | SDN SER DE ALIM CUERPO SA CIA DE INT    |\n",
       "\n"
      ],
      "text/plain": [
       "  Cliente_ID NombreCliente                          \n",
       "1 0          SIN NOMBRE                             \n",
       "2 1          OXXO XINANTECATL                       \n",
       "3 2          SIN NOMBRE                             \n",
       "4 3          EL MORENO                              \n",
       "5 4          SDN SER  DE ALIM  CUERPO SA CIA  DE INT\n",
       "6 4          SDN SER DE ALIM CUERPO SA CIA DE INT   "
      ]
     },
     "metadata": {
      "tags": []
     },
     "output_type": "display_data"
    }
   ],
   "source": [
    "# Importando dataset.\n",
    "\n",
    "client <- fread('/content/datasets/cliente_tabla.csv')\n",
    "\n",
    "# Verificando as primeiras linhas do dataset.\n",
    "\n",
    "head(client)"
   ]
  },
  {
   "cell_type": "markdown",
   "metadata": {
    "colab_type": "text",
    "id": "dB_2wwudVuPD"
   },
   "source": [
    "### **2.3 Carregando dados do dataset *producto_tabla***\n",
    "\n"
   ]
  },
  {
   "cell_type": "code",
   "execution_count": 7,
   "metadata": {
    "colab": {
     "base_uri": "https://localhost:8080/",
     "height": 0
    },
    "colab_type": "code",
    "id": "nAKI38BBVuPF",
    "outputId": "dd29c6d5-a190-4603-eaa1-0854bdfa2fa9"
   },
   "outputs": [
    {
     "data": {
      "text/html": [
       "<table>\n",
       "<caption>A data.table: 6 × 2</caption>\n",
       "<thead>\n",
       "\t<tr><th scope=col>Producto_ID</th><th scope=col>NombreProducto</th></tr>\n",
       "\t<tr><th scope=col>&lt;int&gt;</th><th scope=col>&lt;chr&gt;</th></tr>\n",
       "</thead>\n",
       "<tbody>\n",
       "\t<tr><td> 0</td><td>NO IDENTIFICADO 0                     </td></tr>\n",
       "\t<tr><td> 9</td><td>Capuccino Moka 750g NES 9             </td></tr>\n",
       "\t<tr><td>41</td><td>Bimbollos Ext sAjonjoli 6p 480g BIM 41</td></tr>\n",
       "\t<tr><td>53</td><td>Burritos Sincro 170g CU LON 53        </td></tr>\n",
       "\t<tr><td>72</td><td>Div Tira Mini Doradita 4p 45g TR 72   </td></tr>\n",
       "\t<tr><td>73</td><td>Pan Multigrano Linaza 540g BIM 73     </td></tr>\n",
       "</tbody>\n",
       "</table>\n"
      ],
      "text/latex": [
       "A data.table: 6 × 2\n",
       "\\begin{tabular}{ll}\n",
       " Producto\\_ID & NombreProducto\\\\\n",
       " <int> & <chr>\\\\\n",
       "\\hline\n",
       "\t  0 & NO IDENTIFICADO 0                     \\\\\n",
       "\t  9 & Capuccino Moka 750g NES 9             \\\\\n",
       "\t 41 & Bimbollos Ext sAjonjoli 6p 480g BIM 41\\\\\n",
       "\t 53 & Burritos Sincro 170g CU LON 53        \\\\\n",
       "\t 72 & Div Tira Mini Doradita 4p 45g TR 72   \\\\\n",
       "\t 73 & Pan Multigrano Linaza 540g BIM 73     \\\\\n",
       "\\end{tabular}\n"
      ],
      "text/markdown": [
       "\n",
       "A data.table: 6 × 2\n",
       "\n",
       "| Producto_ID &lt;int&gt; | NombreProducto &lt;chr&gt; |\n",
       "|---|---|\n",
       "|  0 | NO IDENTIFICADO 0                      |\n",
       "|  9 | Capuccino Moka 750g NES 9              |\n",
       "| 41 | Bimbollos Ext sAjonjoli 6p 480g BIM 41 |\n",
       "| 53 | Burritos Sincro 170g CU LON 53         |\n",
       "| 72 | Div Tira Mini Doradita 4p 45g TR 72    |\n",
       "| 73 | Pan Multigrano Linaza 540g BIM 73      |\n",
       "\n"
      ],
      "text/plain": [
       "  Producto_ID NombreProducto                        \n",
       "1  0          NO IDENTIFICADO 0                     \n",
       "2  9          Capuccino Moka 750g NES 9             \n",
       "3 41          Bimbollos Ext sAjonjoli 6p 480g BIM 41\n",
       "4 53          Burritos Sincro 170g CU LON 53        \n",
       "5 72          Div Tira Mini Doradita 4p 45g TR 72   \n",
       "6 73          Pan Multigrano Linaza 540g BIM 73     "
      ]
     },
     "metadata": {
      "tags": []
     },
     "output_type": "display_data"
    }
   ],
   "source": [
    "# Importando dataset.\n",
    "\n",
    "product <- fread('/content/datasets/producto_tabla.csv')\n",
    "\n",
    "# Verificando as primeiras linhas do dataset.\n",
    "\n",
    "head(product)"
   ]
  },
  {
   "cell_type": "markdown",
   "metadata": {
    "colab_type": "text",
    "id": "2SExmzbUVzxa"
   },
   "source": [
    "### **2.4 Carregando dados do dataset *town_state***\n",
    "\n"
   ]
  },
  {
   "cell_type": "code",
   "execution_count": 8,
   "metadata": {
    "colab": {
     "base_uri": "https://localhost:8080/",
     "height": 204
    },
    "colab_type": "code",
    "id": "uRwgeoudVz7q",
    "outputId": "11f8b4d7-c26c-444a-c92b-924c918aed64"
   },
   "outputs": [
    {
     "data": {
      "text/html": [
       "<table>\n",
       "<caption>A data.table: 6 × 3</caption>\n",
       "<thead>\n",
       "\t<tr><th scope=col>Agencia_ID</th><th scope=col>Town</th><th scope=col>State</th></tr>\n",
       "\t<tr><th scope=col>&lt;int&gt;</th><th scope=col>&lt;chr&gt;</th><th scope=col>&lt;chr&gt;</th></tr>\n",
       "</thead>\n",
       "<tbody>\n",
       "\t<tr><td>1110</td><td>2008 AG. LAGO FILT   </td><td>MÉXICO, D.F.    </td></tr>\n",
       "\t<tr><td>1111</td><td>2002 AG. AZCAPOTZALCO</td><td>MÉXICO, D.F.    </td></tr>\n",
       "\t<tr><td>1112</td><td>2004 AG. CUAUTITLAN  </td><td>ESTADO DE MÉXICO</td></tr>\n",
       "\t<tr><td>1113</td><td>2008 AG. LAGO FILT   </td><td>MÉXICO, D.F.    </td></tr>\n",
       "\t<tr><td>1114</td><td>2029 AG.IZTAPALAPA 2 </td><td>MÉXICO, D.F.    </td></tr>\n",
       "\t<tr><td>1116</td><td>2011 AG. SAN ANTONIO </td><td>MÉXICO, D.F.    </td></tr>\n",
       "</tbody>\n",
       "</table>\n"
      ],
      "text/latex": [
       "A data.table: 6 × 3\n",
       "\\begin{tabular}{lll}\n",
       " Agencia\\_ID & Town & State\\\\\n",
       " <int> & <chr> & <chr>\\\\\n",
       "\\hline\n",
       "\t 1110 & 2008 AG. LAGO FILT    & MÉXICO, D.F.    \\\\\n",
       "\t 1111 & 2002 AG. AZCAPOTZALCO & MÉXICO, D.F.    \\\\\n",
       "\t 1112 & 2004 AG. CUAUTITLAN   & ESTADO DE MÉXICO\\\\\n",
       "\t 1113 & 2008 AG. LAGO FILT    & MÉXICO, D.F.    \\\\\n",
       "\t 1114 & 2029 AG.IZTAPALAPA 2  & MÉXICO, D.F.    \\\\\n",
       "\t 1116 & 2011 AG. SAN ANTONIO  & MÉXICO, D.F.    \\\\\n",
       "\\end{tabular}\n"
      ],
      "text/markdown": [
       "\n",
       "A data.table: 6 × 3\n",
       "\n",
       "| Agencia_ID &lt;int&gt; | Town &lt;chr&gt; | State &lt;chr&gt; |\n",
       "|---|---|---|\n",
       "| 1110 | 2008 AG. LAGO FILT    | MÉXICO, D.F.     |\n",
       "| 1111 | 2002 AG. AZCAPOTZALCO | MÉXICO, D.F.     |\n",
       "| 1112 | 2004 AG. CUAUTITLAN   | ESTADO DE MÉXICO |\n",
       "| 1113 | 2008 AG. LAGO FILT    | MÉXICO, D.F.     |\n",
       "| 1114 | 2029 AG.IZTAPALAPA 2  | MÉXICO, D.F.     |\n",
       "| 1116 | 2011 AG. SAN ANTONIO  | MÉXICO, D.F.     |\n",
       "\n"
      ],
      "text/plain": [
       "  Agencia_ID Town                  State           \n",
       "1 1110       2008 AG. LAGO FILT    MÉXICO, D.F.    \n",
       "2 1111       2002 AG. AZCAPOTZALCO MÉXICO, D.F.    \n",
       "3 1112       2004 AG. CUAUTITLAN   ESTADO DE MÉXICO\n",
       "4 1113       2008 AG. LAGO FILT    MÉXICO, D.F.    \n",
       "5 1114       2029 AG.IZTAPALAPA 2  MÉXICO, D.F.    \n",
       "6 1116       2011 AG. SAN ANTONIO  MÉXICO, D.F.    "
      ]
     },
     "metadata": {
      "tags": []
     },
     "output_type": "display_data"
    }
   ],
   "source": [
    "# Importando dataset.\n",
    "\n",
    "town <- fread('/content/datasets/town_state.csv')\n",
    "\n",
    "# Verificando as primeiras linhas do dataset.\n",
    "\n",
    "head(town)"
   ]
  },
  {
   "cell_type": "markdown",
   "metadata": {
    "colab_type": "text",
    "id": "iySVboz1Vz7p"
   },
   "source": [
    "### **2.5 Carregando dados de treino**\n",
    "\n"
   ]
  },
  {
   "cell_type": "code",
   "execution_count": 9,
   "metadata": {
    "colab": {
     "base_uri": "https://localhost:8080/",
     "height": 204
    },
    "colab_type": "code",
    "id": "ihwiJVPIVzxb",
    "outputId": "ec1f9a3f-44bd-4a48-c16a-5efcc6888b91"
   },
   "outputs": [
    {
     "data": {
      "text/html": [
       "<table>\n",
       "<caption>A data.table: 6 × 11</caption>\n",
       "<thead>\n",
       "\t<tr><th scope=col>Semana</th><th scope=col>Agencia_ID</th><th scope=col>Canal_ID</th><th scope=col>Ruta_SAK</th><th scope=col>Cliente_ID</th><th scope=col>Producto_ID</th><th scope=col>Venta_uni_hoy</th><th scope=col>Venta_hoy</th><th scope=col>Dev_uni_proxima</th><th scope=col>Dev_proxima</th><th scope=col>Demanda_uni_equil</th></tr>\n",
       "\t<tr><th scope=col>&lt;int&gt;</th><th scope=col>&lt;int&gt;</th><th scope=col>&lt;int&gt;</th><th scope=col>&lt;int&gt;</th><th scope=col>&lt;int&gt;</th><th scope=col>&lt;int&gt;</th><th scope=col>&lt;int&gt;</th><th scope=col>&lt;dbl&gt;</th><th scope=col>&lt;int&gt;</th><th scope=col>&lt;dbl&gt;</th><th scope=col>&lt;int&gt;</th></tr>\n",
       "</thead>\n",
       "<tbody>\n",
       "\t<tr><td>3</td><td>1110</td><td>7</td><td>3301</td><td>15766</td><td>1212</td><td>3</td><td>25.14</td><td>0</td><td>0</td><td>3</td></tr>\n",
       "\t<tr><td>3</td><td>1110</td><td>7</td><td>3301</td><td>15766</td><td>1216</td><td>4</td><td>33.52</td><td>0</td><td>0</td><td>4</td></tr>\n",
       "\t<tr><td>3</td><td>1110</td><td>7</td><td>3301</td><td>15766</td><td>1238</td><td>4</td><td>39.32</td><td>0</td><td>0</td><td>4</td></tr>\n",
       "\t<tr><td>3</td><td>1110</td><td>7</td><td>3301</td><td>15766</td><td>1240</td><td>4</td><td>33.52</td><td>0</td><td>0</td><td>4</td></tr>\n",
       "\t<tr><td>3</td><td>1110</td><td>7</td><td>3301</td><td>15766</td><td>1242</td><td>3</td><td>22.92</td><td>0</td><td>0</td><td>3</td></tr>\n",
       "\t<tr><td>3</td><td>1110</td><td>7</td><td>3301</td><td>15766</td><td>1250</td><td>5</td><td>38.20</td><td>0</td><td>0</td><td>5</td></tr>\n",
       "</tbody>\n",
       "</table>\n"
      ],
      "text/latex": [
       "A data.table: 6 × 11\n",
       "\\begin{tabular}{lllllllllll}\n",
       " Semana & Agencia\\_ID & Canal\\_ID & Ruta\\_SAK & Cliente\\_ID & Producto\\_ID & Venta\\_uni\\_hoy & Venta\\_hoy & Dev\\_uni\\_proxima & Dev\\_proxima & Demanda\\_uni\\_equil\\\\\n",
       " <int> & <int> & <int> & <int> & <int> & <int> & <int> & <dbl> & <int> & <dbl> & <int>\\\\\n",
       "\\hline\n",
       "\t 3 & 1110 & 7 & 3301 & 15766 & 1212 & 3 & 25.14 & 0 & 0 & 3\\\\\n",
       "\t 3 & 1110 & 7 & 3301 & 15766 & 1216 & 4 & 33.52 & 0 & 0 & 4\\\\\n",
       "\t 3 & 1110 & 7 & 3301 & 15766 & 1238 & 4 & 39.32 & 0 & 0 & 4\\\\\n",
       "\t 3 & 1110 & 7 & 3301 & 15766 & 1240 & 4 & 33.52 & 0 & 0 & 4\\\\\n",
       "\t 3 & 1110 & 7 & 3301 & 15766 & 1242 & 3 & 22.92 & 0 & 0 & 3\\\\\n",
       "\t 3 & 1110 & 7 & 3301 & 15766 & 1250 & 5 & 38.20 & 0 & 0 & 5\\\\\n",
       "\\end{tabular}\n"
      ],
      "text/markdown": [
       "\n",
       "A data.table: 6 × 11\n",
       "\n",
       "| Semana &lt;int&gt; | Agencia_ID &lt;int&gt; | Canal_ID &lt;int&gt; | Ruta_SAK &lt;int&gt; | Cliente_ID &lt;int&gt; | Producto_ID &lt;int&gt; | Venta_uni_hoy &lt;int&gt; | Venta_hoy &lt;dbl&gt; | Dev_uni_proxima &lt;int&gt; | Dev_proxima &lt;dbl&gt; | Demanda_uni_equil &lt;int&gt; |\n",
       "|---|---|---|---|---|---|---|---|---|---|---|\n",
       "| 3 | 1110 | 7 | 3301 | 15766 | 1212 | 3 | 25.14 | 0 | 0 | 3 |\n",
       "| 3 | 1110 | 7 | 3301 | 15766 | 1216 | 4 | 33.52 | 0 | 0 | 4 |\n",
       "| 3 | 1110 | 7 | 3301 | 15766 | 1238 | 4 | 39.32 | 0 | 0 | 4 |\n",
       "| 3 | 1110 | 7 | 3301 | 15766 | 1240 | 4 | 33.52 | 0 | 0 | 4 |\n",
       "| 3 | 1110 | 7 | 3301 | 15766 | 1242 | 3 | 22.92 | 0 | 0 | 3 |\n",
       "| 3 | 1110 | 7 | 3301 | 15766 | 1250 | 5 | 38.20 | 0 | 0 | 5 |\n",
       "\n"
      ],
      "text/plain": [
       "  Semana Agencia_ID Canal_ID Ruta_SAK Cliente_ID Producto_ID Venta_uni_hoy\n",
       "1 3      1110       7        3301     15766      1212        3            \n",
       "2 3      1110       7        3301     15766      1216        4            \n",
       "3 3      1110       7        3301     15766      1238        4            \n",
       "4 3      1110       7        3301     15766      1240        4            \n",
       "5 3      1110       7        3301     15766      1242        3            \n",
       "6 3      1110       7        3301     15766      1250        5            \n",
       "  Venta_hoy Dev_uni_proxima Dev_proxima Demanda_uni_equil\n",
       "1 25.14     0               0           3                \n",
       "2 33.52     0               0           4                \n",
       "3 39.32     0               0           4                \n",
       "4 33.52     0               0           4                \n",
       "5 22.92     0               0           3                \n",
       "6 38.20     0               0           5                "
      ]
     },
     "metadata": {
      "tags": []
     },
     "output_type": "display_data"
    }
   ],
   "source": [
    "# Importando dataset.\n",
    "\n",
    "train <- fread('/content/datasets/train.csv')\n",
    "\n",
    "# Verificando as primeiras linhas do dataset.\n",
    "\n",
    "head(train)"
   ]
  },
  {
   "cell_type": "markdown",
   "metadata": {
    "colab_type": "text",
    "id": "ZlILC8z8V31k"
   },
   "source": [
    "### **2.6 Carregando dados de teste**\n",
    "\n"
   ]
  },
  {
   "cell_type": "code",
   "execution_count": 10,
   "metadata": {
    "colab": {
     "base_uri": "https://localhost:8080/",
     "height": 204
    },
    "colab_type": "code",
    "id": "DtyroJkuV31o",
    "outputId": "2b1b51f3-0525-4d6a-942d-27e2e5d25993"
   },
   "outputs": [
    {
     "data": {
      "text/html": [
       "<table>\n",
       "<caption>A data.table: 6 × 7</caption>\n",
       "<thead>\n",
       "\t<tr><th scope=col>id</th><th scope=col>Semana</th><th scope=col>Agencia_ID</th><th scope=col>Canal_ID</th><th scope=col>Ruta_SAK</th><th scope=col>Cliente_ID</th><th scope=col>Producto_ID</th></tr>\n",
       "\t<tr><th scope=col>&lt;int&gt;</th><th scope=col>&lt;int&gt;</th><th scope=col>&lt;int&gt;</th><th scope=col>&lt;int&gt;</th><th scope=col>&lt;int&gt;</th><th scope=col>&lt;int&gt;</th><th scope=col>&lt;int&gt;</th></tr>\n",
       "</thead>\n",
       "<tbody>\n",
       "\t<tr><td>0</td><td>11</td><td>4037</td><td>1</td><td>2209</td><td>4639078</td><td>35305</td></tr>\n",
       "\t<tr><td>1</td><td>11</td><td>2237</td><td>1</td><td>1226</td><td>4705135</td><td> 1238</td></tr>\n",
       "\t<tr><td>2</td><td>10</td><td>2045</td><td>1</td><td>2831</td><td>4549769</td><td>32940</td></tr>\n",
       "\t<tr><td>3</td><td>11</td><td>1227</td><td>1</td><td>4448</td><td>4717855</td><td>43066</td></tr>\n",
       "\t<tr><td>4</td><td>11</td><td>1219</td><td>1</td><td>1130</td><td> 966351</td><td> 1277</td></tr>\n",
       "\t<tr><td>5</td><td>11</td><td>1146</td><td>4</td><td>6601</td><td>1741414</td><td>  972</td></tr>\n",
       "</tbody>\n",
       "</table>\n"
      ],
      "text/latex": [
       "A data.table: 6 × 7\n",
       "\\begin{tabular}{lllllll}\n",
       " id & Semana & Agencia\\_ID & Canal\\_ID & Ruta\\_SAK & Cliente\\_ID & Producto\\_ID\\\\\n",
       " <int> & <int> & <int> & <int> & <int> & <int> & <int>\\\\\n",
       "\\hline\n",
       "\t 0 & 11 & 4037 & 1 & 2209 & 4639078 & 35305\\\\\n",
       "\t 1 & 11 & 2237 & 1 & 1226 & 4705135 &  1238\\\\\n",
       "\t 2 & 10 & 2045 & 1 & 2831 & 4549769 & 32940\\\\\n",
       "\t 3 & 11 & 1227 & 1 & 4448 & 4717855 & 43066\\\\\n",
       "\t 4 & 11 & 1219 & 1 & 1130 &  966351 &  1277\\\\\n",
       "\t 5 & 11 & 1146 & 4 & 6601 & 1741414 &   972\\\\\n",
       "\\end{tabular}\n"
      ],
      "text/markdown": [
       "\n",
       "A data.table: 6 × 7\n",
       "\n",
       "| id &lt;int&gt; | Semana &lt;int&gt; | Agencia_ID &lt;int&gt; | Canal_ID &lt;int&gt; | Ruta_SAK &lt;int&gt; | Cliente_ID &lt;int&gt; | Producto_ID &lt;int&gt; |\n",
       "|---|---|---|---|---|---|---|\n",
       "| 0 | 11 | 4037 | 1 | 2209 | 4639078 | 35305 |\n",
       "| 1 | 11 | 2237 | 1 | 1226 | 4705135 |  1238 |\n",
       "| 2 | 10 | 2045 | 1 | 2831 | 4549769 | 32940 |\n",
       "| 3 | 11 | 1227 | 1 | 4448 | 4717855 | 43066 |\n",
       "| 4 | 11 | 1219 | 1 | 1130 |  966351 |  1277 |\n",
       "| 5 | 11 | 1146 | 4 | 6601 | 1741414 |   972 |\n",
       "\n"
      ],
      "text/plain": [
       "  id Semana Agencia_ID Canal_ID Ruta_SAK Cliente_ID Producto_ID\n",
       "1 0  11     4037       1        2209     4639078    35305      \n",
       "2 1  11     2237       1        1226     4705135     1238      \n",
       "3 2  10     2045       1        2831     4549769    32940      \n",
       "4 3  11     1227       1        4448     4717855    43066      \n",
       "5 4  11     1219       1        1130      966351     1277      \n",
       "6 5  11     1146       4        6601     1741414      972      "
      ]
     },
     "metadata": {
      "tags": []
     },
     "output_type": "display_data"
    }
   ],
   "source": [
    "# Importando dataset.\n",
    "\n",
    "test <- fread('/content/datasets/test.csv')\n",
    "\n",
    "# Verificando as primeiras linhas do dataset.\n",
    "\n",
    "head(test)"
   ]
  },
  {
   "cell_type": "markdown",
   "metadata": {
    "colab_type": "text",
    "id": "EvmUvi_JHkwq"
   },
   "source": [
    "## **3. Data Munging - Eliminando inconsistências nos datasets**"
   ]
  },
  {
   "cell_type": "markdown",
   "metadata": {
    "colab_type": "text",
    "id": "4kCTbQ9WIbvB"
   },
   "source": [
    "A [documentação](https://www.kaggle.com/c/grupo-bimbo-inventory-demand/data) nos alerta para a existência de alguns problemas que devem ser tratados dentro do conjunto de dados, como por exemplo registros duplicados. Por isso, iremos fazer uma breve exploração dos datasets para eliminar todas as inconsistências que possuam."
   ]
  },
  {
   "cell_type": "markdown",
   "metadata": {
    "colab_type": "text",
    "id": "m5tIu9ZmaXHI"
   },
   "source": [
    "### **3.1 Dataset *client***"
   ]
  },
  {
   "cell_type": "code",
   "execution_count": 11,
   "metadata": {
    "colab": {
     "base_uri": "https://localhost:8080/",
     "height": 0
    },
    "colab_type": "code",
    "id": "SQaQrE-oanwN",
    "outputId": "6af613d6-c96c-4e75-be7c-5007ec21bb6f"
   },
   "outputs": [
    {
     "data": {
      "text/html": [
       "<table>\n",
       "<caption>A data.table: 10 × 2</caption>\n",
       "<thead>\n",
       "\t<tr><th scope=col>Cliente_ID</th><th scope=col>NombreCliente</th></tr>\n",
       "\t<tr><th scope=col>&lt;int&gt;</th><th scope=col>&lt;chr&gt;</th></tr>\n",
       "</thead>\n",
       "<tbody>\n",
       "\t<tr><td>0</td><td>SIN NOMBRE                             </td></tr>\n",
       "\t<tr><td>1</td><td>OXXO XINANTECATL                       </td></tr>\n",
       "\t<tr><td>2</td><td>SIN NOMBRE                             </td></tr>\n",
       "\t<tr><td>3</td><td>EL MORENO                              </td></tr>\n",
       "\t<tr><td>4</td><td>SDN SER  DE ALIM  CUERPO SA CIA  DE INT</td></tr>\n",
       "\t<tr><td>4</td><td>SDN SER DE ALIM CUERPO SA CIA DE INT   </td></tr>\n",
       "\t<tr><td>5</td><td>LA VAQUITA                             </td></tr>\n",
       "\t<tr><td>6</td><td>LUPITA                                 </td></tr>\n",
       "\t<tr><td>7</td><td>I M EL GUERO                           </td></tr>\n",
       "\t<tr><td>8</td><td>MINI SUPER LOS LUPES                   </td></tr>\n",
       "</tbody>\n",
       "</table>\n"
      ],
      "text/latex": [
       "A data.table: 10 × 2\n",
       "\\begin{tabular}{ll}\n",
       " Cliente\\_ID & NombreCliente\\\\\n",
       " <int> & <chr>\\\\\n",
       "\\hline\n",
       "\t 0 & SIN NOMBRE                             \\\\\n",
       "\t 1 & OXXO XINANTECATL                       \\\\\n",
       "\t 2 & SIN NOMBRE                             \\\\\n",
       "\t 3 & EL MORENO                              \\\\\n",
       "\t 4 & SDN SER  DE ALIM  CUERPO SA CIA  DE INT\\\\\n",
       "\t 4 & SDN SER DE ALIM CUERPO SA CIA DE INT   \\\\\n",
       "\t 5 & LA VAQUITA                             \\\\\n",
       "\t 6 & LUPITA                                 \\\\\n",
       "\t 7 & I M EL GUERO                           \\\\\n",
       "\t 8 & MINI SUPER LOS LUPES                   \\\\\n",
       "\\end{tabular}\n"
      ],
      "text/markdown": [
       "\n",
       "A data.table: 10 × 2\n",
       "\n",
       "| Cliente_ID &lt;int&gt; | NombreCliente &lt;chr&gt; |\n",
       "|---|---|\n",
       "| 0 | SIN NOMBRE                              |\n",
       "| 1 | OXXO XINANTECATL                        |\n",
       "| 2 | SIN NOMBRE                              |\n",
       "| 3 | EL MORENO                               |\n",
       "| 4 | SDN SER  DE ALIM  CUERPO SA CIA  DE INT |\n",
       "| 4 | SDN SER DE ALIM CUERPO SA CIA DE INT    |\n",
       "| 5 | LA VAQUITA                              |\n",
       "| 6 | LUPITA                                  |\n",
       "| 7 | I M EL GUERO                            |\n",
       "| 8 | MINI SUPER LOS LUPES                    |\n",
       "\n"
      ],
      "text/plain": [
       "   Cliente_ID NombreCliente                          \n",
       "1  0          SIN NOMBRE                             \n",
       "2  1          OXXO XINANTECATL                       \n",
       "3  2          SIN NOMBRE                             \n",
       "4  3          EL MORENO                              \n",
       "5  4          SDN SER  DE ALIM  CUERPO SA CIA  DE INT\n",
       "6  4          SDN SER DE ALIM CUERPO SA CIA DE INT   \n",
       "7  5          LA VAQUITA                             \n",
       "8  6          LUPITA                                 \n",
       "9  7          I M EL GUERO                           \n",
       "10 8          MINI SUPER LOS LUPES                   "
      ]
     },
     "metadata": {
      "tags": []
     },
     "output_type": "display_data"
    }
   ],
   "source": [
    "# Visualizando as primeiras 10 linhas do dataset.\n",
    "\n",
    "head(client, 10)"
   ]
  },
  {
   "cell_type": "markdown",
   "metadata": {
    "colab_type": "text",
    "id": "n2vfGa7sjCLU"
   },
   "source": [
    "Podemos observar que existem *IDs* que se repetem e nomes de clientes desconhecidos (denominados como **\"SIN NOMBRE\"**) no conjunto de dados que precisarão ser tratados.\n",
    "\n",
    "Vamos contabilizar o número de registros duplicados no dataset."
   ]
  },
  {
   "cell_type": "code",
   "execution_count": 12,
   "metadata": {
    "colab": {
     "base_uri": "https://localhost:8080/",
     "height": 0
    },
    "colab_type": "code",
    "id": "MlbQhfTukCuB",
    "outputId": "effe18f3-8396-43c2-b274-2f18c4380eb4"
   },
   "outputs": [
    {
     "data": {
      "text/plain": [
       "\n",
       " FALSE \n",
       "935362 "
      ]
     },
     "metadata": {
      "tags": []
     },
     "output_type": "display_data"
    }
   ],
   "source": [
    "# Verificando linhas duplicadas no dataset.\n",
    "\n",
    "table(duplicated(client))"
   ]
  },
  {
   "cell_type": "markdown",
   "metadata": {
    "colab_type": "text",
    "id": "aVYxGpCroZvP"
   },
   "source": [
    "Não encontramos nenhum registro duplicado o que nos leva a crer que a variável **NombreCliente** apresenta strings com diferentes tamanhos para cada ID duplicado. Vamos confirmar esta teoria.\n",
    "\n",
    "Ao listar as primeira linhas do conjunto de dados, vimos que o *ID* **4** se repete duas vezes. Com base nisso, vamos capturar e analisar o valor da variável **NombreCliente** associado a este *ID* em cada observação."
   ]
  },
  {
   "cell_type": "code",
   "execution_count": 13,
   "metadata": {
    "colab": {
     "base_uri": "https://localhost:8080/",
     "height": 0
    },
    "colab_type": "code",
    "id": "zhAVPGjBpEED",
    "outputId": "f9b1c3f1-f45e-4fb3-ea49-1594c5693967"
   },
   "outputs": [
    {
     "data": {
      "text/html": [
       "<table>\n",
       "<caption>A data.table: 2 × 2</caption>\n",
       "<thead>\n",
       "\t<tr><th scope=col>Cliente_ID</th><th scope=col>NombreCliente</th></tr>\n",
       "\t<tr><th scope=col>&lt;int&gt;</th><th scope=col>&lt;chr&gt;</th></tr>\n",
       "</thead>\n",
       "<tbody>\n",
       "\t<tr><td>4</td><td>SDN SER  DE ALIM  CUERPO SA CIA  DE INT</td></tr>\n",
       "\t<tr><td>4</td><td>SDN SER DE ALIM CUERPO SA CIA DE INT   </td></tr>\n",
       "</tbody>\n",
       "</table>\n"
      ],
      "text/latex": [
       "A data.table: 2 × 2\n",
       "\\begin{tabular}{ll}\n",
       " Cliente\\_ID & NombreCliente\\\\\n",
       " <int> & <chr>\\\\\n",
       "\\hline\n",
       "\t 4 & SDN SER  DE ALIM  CUERPO SA CIA  DE INT\\\\\n",
       "\t 4 & SDN SER DE ALIM CUERPO SA CIA DE INT   \\\\\n",
       "\\end{tabular}\n"
      ],
      "text/markdown": [
       "\n",
       "A data.table: 2 × 2\n",
       "\n",
       "| Cliente_ID &lt;int&gt; | NombreCliente &lt;chr&gt; |\n",
       "|---|---|\n",
       "| 4 | SDN SER  DE ALIM  CUERPO SA CIA  DE INT |\n",
       "| 4 | SDN SER DE ALIM CUERPO SA CIA DE INT    |\n",
       "\n"
      ],
      "text/plain": [
       "  Cliente_ID NombreCliente                          \n",
       "1 4          SDN SER  DE ALIM  CUERPO SA CIA  DE INT\n",
       "2 4          SDN SER DE ALIM CUERPO SA CIA DE INT   "
      ]
     },
     "metadata": {
      "tags": []
     },
     "output_type": "display_data"
    }
   ],
   "source": [
    "# Definindo o número do ID que deve ser capturado.\n",
    "\n",
    "id <- 4\n",
    "\n",
    "# Capturando linhas que contenham o ID especificado.\n",
    "\n",
    "client[client$Cliente_ID == id,]"
   ]
  },
  {
   "cell_type": "code",
   "execution_count": 14,
   "metadata": {
    "colab": {
     "base_uri": "https://localhost:8080/",
     "height": 0
    },
    "colab_type": "code",
    "id": "mgMS7XDkqpL-",
    "outputId": "4272a2bf-5805-4060-f469-3136e01be1c5"
   },
   "outputs": [
    {
     "data": {
      "text/html": [
       "<strong>NombreCliente:</strong> 39"
      ],
      "text/latex": [
       "\\textbf{NombreCliente:} 39"
      ],
      "text/markdown": [
       "**NombreCliente:** 39"
      ],
      "text/plain": [
       "NombreCliente \n",
       "           39 "
      ]
     },
     "metadata": {
      "tags": []
     },
     "output_type": "display_data"
    },
    {
     "data": {
      "text/html": [
       "<strong>NombreCliente:</strong> 36"
      ],
      "text/latex": [
       "\\textbf{NombreCliente:} 36"
      ],
      "text/markdown": [
       "**NombreCliente:** 36"
      ],
      "text/plain": [
       "NombreCliente \n",
       "           36 "
      ]
     },
     "metadata": {
      "tags": []
     },
     "output_type": "display_data"
    }
   ],
   "source": [
    "# Capturando nomes associados a cada um dos registros duplicados.\n",
    "\n",
    "fName <- client[client$Cliente_ID == id,][1, 'NombreCliente']\n",
    "sName <- client[client$Cliente_ID == id,][2, 'NombreCliente']\n",
    "\n",
    "# Definindo o número de caracteres de cada um dos nomes dos registros duplicados.\n",
    "\n",
    "nchar(fName)\n",
    "nchar(sName)"
   ]
  },
  {
   "cell_type": "markdown",
   "metadata": {
    "colab_type": "text",
    "id": "Pr47Erq_sC9w"
   },
   "source": [
    "A partir deste resultado podemos confirmar que há uma diferença entre os valores das variáveis **NombreCliente** de cada registro duplicado. Isto provavelmente ocorre devido a diferença do número de espaços existentes em cada nome. \n",
    "\n",
    "Iremos contabilizar o número de registros duplicados a partir da variável **Cliente_ID**."
   ]
  },
  {
   "cell_type": "code",
   "execution_count": 15,
   "metadata": {
    "colab": {
     "base_uri": "https://localhost:8080/",
     "height": 0
    },
    "colab_type": "code",
    "id": "Ka7OgHlLoCFc",
    "outputId": "dd537e82-f952-4741-b367-834a4e08dde7"
   },
   "outputs": [
    {
     "data": {
      "text/plain": [
       "\n",
       " FALSE   TRUE \n",
       "930500   4862 "
      ]
     },
     "metadata": {
      "tags": []
     },
     "output_type": "display_data"
    }
   ],
   "source": [
    "# Verificando número de IDs duplicados no dataset.\n",
    "\n",
    "table(duplicated(client$Cliente_ID))"
   ]
  },
  {
   "cell_type": "code",
   "execution_count": null,
   "metadata": {
    "colab": {},
    "colab_type": "code",
    "id": "JRwCwAKBT4u2"
   },
   "outputs": [],
   "source": [
    "# Removendo registros com número de ID duplicado.\n",
    "\n",
    "client <- client[!duplicated(client$Cliente_ID),]"
   ]
  },
  {
   "cell_type": "markdown",
   "metadata": {
    "colab_type": "text",
    "id": "i5uXKpTQtSEE"
   },
   "source": [
    "Definiremos o número de registros sem o nome do cliente."
   ]
  },
  {
   "cell_type": "code",
   "execution_count": 17,
   "metadata": {
    "colab": {
     "base_uri": "https://localhost:8080/",
     "height": 0
    },
    "colab_type": "code",
    "id": "6W-uuGgvtOMF",
    "outputId": "bf68cdfd-7760-4740-ff6a-686bd7aeb191"
   },
   "outputs": [
    {
     "data": {
      "text/html": [
       "356"
      ],
      "text/latex": [
       "356"
      ],
      "text/markdown": [
       "356"
      ],
      "text/plain": [
       "[1] 356"
      ]
     },
     "metadata": {
      "tags": []
     },
     "output_type": "display_data"
    }
   ],
   "source": [
    "# Verificando número de registros sem o nome do cliente.\n",
    "\n",
    "nrow(client[client$NombreCliente == 'SIN NOMBRE', ])"
   ]
  },
  {
   "cell_type": "markdown",
   "metadata": {
    "colab_type": "text",
    "id": "_tHO59arUoGZ"
   },
   "source": [
    "Há **356 observações** sem o nome do cliente."
   ]
  },
  {
   "cell_type": "code",
   "execution_count": 18,
   "metadata": {
    "colab": {
     "base_uri": "https://localhost:8080/",
     "height": 0
    },
    "colab_type": "code",
    "id": "riraAWW0AIFC",
    "outputId": "50fea3c4-bacd-4282-b614-bc9556ef0648"
   },
   "outputs": [
    {
     "data": {
      "text/html": [
       "FALSE"
      ],
      "text/latex": [
       "FALSE"
      ],
      "text/markdown": [
       "FALSE"
      ],
      "text/plain": [
       "[1] FALSE"
      ]
     },
     "metadata": {
      "tags": []
     },
     "output_type": "display_data"
    }
   ],
   "source": [
    "# Verificando se existem valores nulos no dataset.\n",
    "\n",
    "anyNA(client)"
   ]
  },
  {
   "cell_type": "markdown",
   "metadata": {
    "colab_type": "text",
    "id": "Un_MU8HeX-p8"
   },
   "source": [
    "Não há valores nulos no dataset."
   ]
  },
  {
   "cell_type": "code",
   "execution_count": 19,
   "metadata": {
    "colab": {
     "base_uri": "https://localhost:8080/",
     "height": 0
    },
    "colab_type": "code",
    "id": "DpRYufOEYh9k",
    "outputId": "0c31a44a-3e2c-46a9-d066-98cb1d01322f"
   },
   "outputs": [
    {
     "name": "stdout",
     "output_type": "stream",
     "text": [
      "Rows: 930,500\n",
      "Columns: 2\n",
      "$ Cliente_ID    \u001b[3m\u001b[90m<int>\u001b[39m\u001b[23m 0, 1, 2, 3, 4, 5, 6, 7, 8, 9, 10, 11, 12, 13, 14, 15, 1…\n",
      "$ NombreCliente \u001b[3m\u001b[90m<chr>\u001b[39m\u001b[23m \"SIN NOMBRE\", \"OXXO XINANTECATL\", \"SIN NOMBRE\", \"EL MOR…\n"
     ]
    }
   ],
   "source": [
    "# Verificando o tipo de dado das variáveis do dataset.\n",
    "\n",
    "glimpse(client)"
   ]
  },
  {
   "cell_type": "markdown",
   "metadata": {
    "colab_type": "text",
    "id": "MNgHhQENXrWq"
   },
   "source": [
    "O conjunto de dados contém registros de **930.500** clientes."
   ]
  },
  {
   "cell_type": "markdown",
   "metadata": {
    "colab_type": "text",
    "id": "SPmum8McvAmx"
   },
   "source": [
    "### **3.2 Dataset *product***"
   ]
  },
  {
   "cell_type": "code",
   "execution_count": 20,
   "metadata": {
    "colab": {
     "base_uri": "https://localhost:8080/",
     "height": 0
    },
    "colab_type": "code",
    "id": "-1JpwzsXvAnK",
    "outputId": "eb613e60-86d0-4509-b29d-3a299bc00726"
   },
   "outputs": [
    {
     "data": {
      "text/html": [
       "<table>\n",
       "<caption>A data.table: 10 × 2</caption>\n",
       "<thead>\n",
       "\t<tr><th scope=col>Producto_ID</th><th scope=col>NombreProducto</th></tr>\n",
       "\t<tr><th scope=col>&lt;int&gt;</th><th scope=col>&lt;chr&gt;</th></tr>\n",
       "</thead>\n",
       "<tbody>\n",
       "\t<tr><td>  0</td><td>NO IDENTIFICADO 0                     </td></tr>\n",
       "\t<tr><td>  9</td><td>Capuccino Moka 750g NES 9             </td></tr>\n",
       "\t<tr><td> 41</td><td>Bimbollos Ext sAjonjoli 6p 480g BIM 41</td></tr>\n",
       "\t<tr><td> 53</td><td>Burritos Sincro 170g CU LON 53        </td></tr>\n",
       "\t<tr><td> 72</td><td>Div Tira Mini Doradita 4p 45g TR 72   </td></tr>\n",
       "\t<tr><td> 73</td><td>Pan Multigrano Linaza 540g BIM 73     </td></tr>\n",
       "\t<tr><td> 98</td><td>Tostado Integral 180g WON 98          </td></tr>\n",
       "\t<tr><td> 99</td><td>Pan Blanco 567g WON 99                </td></tr>\n",
       "\t<tr><td>100</td><td>Super Pan Bco Ajonjoli 680g SP WON 100</td></tr>\n",
       "\t<tr><td>106</td><td>Wonder 100pct mediano 475g WON 106    </td></tr>\n",
       "</tbody>\n",
       "</table>\n"
      ],
      "text/latex": [
       "A data.table: 10 × 2\n",
       "\\begin{tabular}{ll}\n",
       " Producto\\_ID & NombreProducto\\\\\n",
       " <int> & <chr>\\\\\n",
       "\\hline\n",
       "\t   0 & NO IDENTIFICADO 0                     \\\\\n",
       "\t   9 & Capuccino Moka 750g NES 9             \\\\\n",
       "\t  41 & Bimbollos Ext sAjonjoli 6p 480g BIM 41\\\\\n",
       "\t  53 & Burritos Sincro 170g CU LON 53        \\\\\n",
       "\t  72 & Div Tira Mini Doradita 4p 45g TR 72   \\\\\n",
       "\t  73 & Pan Multigrano Linaza 540g BIM 73     \\\\\n",
       "\t  98 & Tostado Integral 180g WON 98          \\\\\n",
       "\t  99 & Pan Blanco 567g WON 99                \\\\\n",
       "\t 100 & Super Pan Bco Ajonjoli 680g SP WON 100\\\\\n",
       "\t 106 & Wonder 100pct mediano 475g WON 106    \\\\\n",
       "\\end{tabular}\n"
      ],
      "text/markdown": [
       "\n",
       "A data.table: 10 × 2\n",
       "\n",
       "| Producto_ID &lt;int&gt; | NombreProducto &lt;chr&gt; |\n",
       "|---|---|\n",
       "|   0 | NO IDENTIFICADO 0                      |\n",
       "|   9 | Capuccino Moka 750g NES 9              |\n",
       "|  41 | Bimbollos Ext sAjonjoli 6p 480g BIM 41 |\n",
       "|  53 | Burritos Sincro 170g CU LON 53         |\n",
       "|  72 | Div Tira Mini Doradita 4p 45g TR 72    |\n",
       "|  73 | Pan Multigrano Linaza 540g BIM 73      |\n",
       "|  98 | Tostado Integral 180g WON 98           |\n",
       "|  99 | Pan Blanco 567g WON 99                 |\n",
       "| 100 | Super Pan Bco Ajonjoli 680g SP WON 100 |\n",
       "| 106 | Wonder 100pct mediano 475g WON 106     |\n",
       "\n"
      ],
      "text/plain": [
       "   Producto_ID NombreProducto                        \n",
       "1    0         NO IDENTIFICADO 0                     \n",
       "2    9         Capuccino Moka 750g NES 9             \n",
       "3   41         Bimbollos Ext sAjonjoli 6p 480g BIM 41\n",
       "4   53         Burritos Sincro 170g CU LON 53        \n",
       "5   72         Div Tira Mini Doradita 4p 45g TR 72   \n",
       "6   73         Pan Multigrano Linaza 540g BIM 73     \n",
       "7   98         Tostado Integral 180g WON 98          \n",
       "8   99         Pan Blanco 567g WON 99                \n",
       "9  100         Super Pan Bco Ajonjoli 680g SP WON 100\n",
       "10 106         Wonder 100pct mediano 475g WON 106    "
      ]
     },
     "metadata": {
      "tags": []
     },
     "output_type": "display_data"
    }
   ],
   "source": [
    "# Visualizando as primeiras 10 linhas do dataset.\n",
    "\n",
    "head(product, 10)"
   ]
  },
  {
   "cell_type": "markdown",
   "metadata": {
    "colab_type": "text",
    "id": "YUoutXBDvAnT"
   },
   "source": [
    "Vamos contabilizar o número de registros duplicados no dataset."
   ]
  },
  {
   "cell_type": "code",
   "execution_count": 21,
   "metadata": {
    "colab": {
     "base_uri": "https://localhost:8080/",
     "height": 0
    },
    "colab_type": "code",
    "id": "m8zjcZTHvAnU",
    "outputId": "6f6ccea6-fee6-446d-8b98-0e8a729d89a7"
   },
   "outputs": [
    {
     "data": {
      "text/plain": [
       "\n",
       "FALSE \n",
       " 2592 "
      ]
     },
     "metadata": {
      "tags": []
     },
     "output_type": "display_data"
    }
   ],
   "source": [
    "# Verificando linhas duplicadas no dataset.\n",
    "\n",
    "table(duplicated(product))"
   ]
  },
  {
   "cell_type": "markdown",
   "metadata": {
    "colab_type": "text",
    "id": "FzcMco83Vsr3"
   },
   "source": [
    "Nenhuma observação duplicada foi encontrada."
   ]
  },
  {
   "cell_type": "code",
   "execution_count": 22,
   "metadata": {
    "colab": {
     "base_uri": "https://localhost:8080/",
     "height": 0
    },
    "colab_type": "code",
    "id": "yqVZx74NvAnj",
    "outputId": "b45da64a-32e2-4468-85a3-2dae5d09da1c"
   },
   "outputs": [
    {
     "data": {
      "text/plain": [
       "\n",
       "FALSE \n",
       " 2592 "
      ]
     },
     "metadata": {
      "tags": []
     },
     "output_type": "display_data"
    }
   ],
   "source": [
    "# Verificando número de IDs duplicados no dataset.\n",
    "\n",
    "table(duplicated(product$Producto_ID))"
   ]
  },
  {
   "cell_type": "markdown",
   "metadata": {
    "colab_type": "text",
    "id": "xoEG0JLMvAnX"
   },
   "source": [
    "Nenhum número de *ID* duplicado foi encontrado. \n",
    "\n",
    "Porém, o produto com o *ID* **0** não possui o nome do produto (possui o valor **\"NO IDENTIFICADO\"**). Iremos verificar se isto só ocorre neste registro."
   ]
  },
  {
   "cell_type": "code",
   "execution_count": 23,
   "metadata": {
    "colab": {
     "base_uri": "https://localhost:8080/",
     "height": 0
    },
    "colab_type": "code",
    "id": "aFKATgwrvAnY",
    "outputId": "cf9d3cbc-8fb3-4ab8-de8f-7d43e0e49b5c"
   },
   "outputs": [
    {
     "data": {
      "text/html": [
       "<table>\n",
       "<caption>A data.table: 1 × 2</caption>\n",
       "<thead>\n",
       "\t<tr><th scope=col>Producto_ID</th><th scope=col>NombreProducto</th></tr>\n",
       "\t<tr><th scope=col>&lt;int&gt;</th><th scope=col>&lt;chr&gt;</th></tr>\n",
       "</thead>\n",
       "<tbody>\n",
       "\t<tr><td>0</td><td>NO IDENTIFICADO 0</td></tr>\n",
       "</tbody>\n",
       "</table>\n"
      ],
      "text/latex": [
       "A data.table: 1 × 2\n",
       "\\begin{tabular}{ll}\n",
       " Producto\\_ID & NombreProducto\\\\\n",
       " <int> & <chr>\\\\\n",
       "\\hline\n",
       "\t 0 & NO IDENTIFICADO 0\\\\\n",
       "\\end{tabular}\n"
      ],
      "text/markdown": [
       "\n",
       "A data.table: 1 × 2\n",
       "\n",
       "| Producto_ID &lt;int&gt; | NombreProducto &lt;chr&gt; |\n",
       "|---|---|\n",
       "| 0 | NO IDENTIFICADO 0 |\n",
       "\n"
      ],
      "text/plain": [
       "  Producto_ID NombreProducto   \n",
       "1 0           NO IDENTIFICADO 0"
      ]
     },
     "metadata": {
      "tags": []
     },
     "output_type": "display_data"
    }
   ],
   "source": [
    "# Capturando a substring especificada.\n",
    "\n",
    "pattern <- \"NO IDENTIFICADO\"\n",
    "\n",
    "# Definindo linhas que não identifiquem o nome do produto.\n",
    "\n",
    "rows <- grep(pattern, product[, 'NombreProducto'], value = F)\n",
    "\n",
    "# Visualizando linhas que não contenham o nome do produto.\n",
    "\n",
    "product[rows, ]"
   ]
  },
  {
   "cell_type": "markdown",
   "metadata": {
    "colab_type": "text",
    "id": "95XXW32JypDp"
   },
   "source": [
    "Concluímos que apenas o *ID* **0** não apresenta um nome de produto. Talvez vez isto ocorra porque um único *ID* pode estar sendo utilizado para identificar produtos que ainda não foram devidamente registrados no conjunto de dados."
   ]
  },
  {
   "cell_type": "code",
   "execution_count": 24,
   "metadata": {
    "colab": {
     "base_uri": "https://localhost:8080/",
     "height": 0
    },
    "colab_type": "code",
    "id": "7YiI7DqHAluK",
    "outputId": "823dd5d5-0c5e-4317-e5c5-72e5100877f4"
   },
   "outputs": [
    {
     "data": {
      "text/html": [
       "FALSE"
      ],
      "text/latex": [
       "FALSE"
      ],
      "text/markdown": [
       "FALSE"
      ],
      "text/plain": [
       "[1] FALSE"
      ]
     },
     "metadata": {
      "tags": []
     },
     "output_type": "display_data"
    }
   ],
   "source": [
    "# Verificando se existem valores nulos no dataset.\n",
    "\n",
    "anyNA(product)"
   ]
  },
  {
   "cell_type": "markdown",
   "metadata": {
    "colab_type": "text",
    "id": "XPu2OsdmXX9P"
   },
   "source": [
    "Não há valores nulos no dataset."
   ]
  },
  {
   "cell_type": "code",
   "execution_count": 25,
   "metadata": {
    "colab": {
     "base_uri": "https://localhost:8080/",
     "height": 0
    },
    "colab_type": "code",
    "id": "cwDAJ4YNvAnq",
    "outputId": "3bf56179-2792-489c-aeea-9cbb17f7fd98"
   },
   "outputs": [
    {
     "name": "stdout",
     "output_type": "stream",
     "text": [
      "Rows: 2,592\n",
      "Columns: 2\n",
      "$ Producto_ID    \u001b[3m\u001b[90m<int>\u001b[39m\u001b[23m 0, 9, 41, 53, 72, 73, 98, 99, 100, 106, 107, 108, 109,…\n",
      "$ NombreProducto \u001b[3m\u001b[90m<chr>\u001b[39m\u001b[23m \"NO IDENTIFICADO 0\", \"Capuccino Moka 750g NES 9\", \"Bim…\n"
     ]
    }
   ],
   "source": [
    "# Verificando o tipo de dado das variáveis do dataset.\n",
    "\n",
    "glimpse(product)"
   ]
  },
  {
   "cell_type": "markdown",
   "metadata": {
    "colab_type": "text",
    "id": "ANJIke3aXeWo"
   },
   "source": [
    "O conjunto de dados contém registros de **2.592 produtos**."
   ]
  },
  {
   "cell_type": "markdown",
   "metadata": {
    "colab_type": "text",
    "id": "7epSv1R1-2hr"
   },
   "source": [
    "Repare que a variável **NombreProducto** contém outras informações além do nome do produto. Parece que a string segue o seguinte padrão:\n",
    "\n",
    "|                               |                   |                   |        |                       |                |\n",
    "|:------------------------------|:------------------|:------------------|:-------|:----------------------|:---------------|\n",
    "| **NombreProducto**            | *Nome do produto* | *Número de peças* | *Peso* | *Sigla do fabricante* | *ID do produto*|\n",
    "\n",
    "Veja que este padrão não está presente em todos os valores da variável, mas predomina em grande parte dos dados. Bom, não precisamos de todas estas informações para a análise que iremos fazer e por isso iremos extair apenas o **nome**, o **peso** e a **sigla do fabricante** de cada produto."
   ]
  },
  {
   "cell_type": "code",
   "execution_count": null,
   "metadata": {
    "colab": {},
    "colab_type": "code",
    "id": "6BM1hsd31jJ4"
   },
   "outputs": [],
   "source": [
    "## Extraindo a unidade de medida de massa do produto.\n",
    "\n",
    "# Extraindo a substring com as informações brutas para uma variável temporária.\n",
    "\n",
    "tmp <- str_extract(product$NombreProducto, \"([0-9 ] |[0-9])+(G|g|Kg|kg|ml)\")\n",
    "\n",
    "# Criando uma varíavel para armazenar o número associado ao peso do produto.\n",
    "\n",
    "product$Npeso <- as.integer(str_extract(tmp, \"[0-9]+\"))\n",
    "\n",
    "# Criando uma varíavel para armazenar a unidade de medida do peso do produto.\n",
    "\n",
    "product$UniPeso <- tolower(str_extract(tmp, \"[A-z]+\"))\n",
    "\n",
    "# Criando uma variável para armazenar a sigla referente ao fabricante.\n",
    "\n",
    "product$Productor <- toupper(str_extract(\n",
    "    str_extract(product$NombreProducto, \"( [A-Z]+[a-z ]+[A-Z]+ [A-Z ]+ [0-9]+$| [A-Z ]+[A-Z ]+ [0-9]+$)\"), \"( [A-Z]+[a-z ]+[A-Z]+ [A-Z ]+ | [A-Z ]+[A-Z ]+ )\"\n",
    "))\n",
    "\n",
    "# Extraindo o nome do produto.\n",
    "\n",
    "product$NombreProducto <- str_extract(product$NombreProducto, \"[A-z ]+\")"
   ]
  },
  {
   "cell_type": "code",
   "execution_count": 27,
   "metadata": {
    "colab": {
     "base_uri": "https://localhost:8080/",
     "height": 0
    },
    "colab_type": "code",
    "id": "w_2XOvDOvSRu",
    "outputId": "04e434b5-2a96-4102-df2a-5d17c6b96a60"
   },
   "outputs": [
    {
     "data": {
      "text/html": [
       "<table>\n",
       "<caption>A data.table: 6 × 5</caption>\n",
       "<thead>\n",
       "\t<tr><th scope=col>Producto_ID</th><th scope=col>NombreProducto</th><th scope=col>Npeso</th><th scope=col>UniPeso</th><th scope=col>Productor</th></tr>\n",
       "\t<tr><th scope=col>&lt;int&gt;</th><th scope=col>&lt;chr&gt;</th><th scope=col>&lt;int&gt;</th><th scope=col>&lt;chr&gt;</th><th scope=col>&lt;chr&gt;</th></tr>\n",
       "</thead>\n",
       "<tbody>\n",
       "\t<tr><td> 0</td><td>NO IDENTIFICADO         </td><td> NA</td><td>NA</td><td> IDENTIFICADO </td></tr>\n",
       "\t<tr><td> 9</td><td>Capuccino Moka          </td><td>750</td><td>g </td><td> NES          </td></tr>\n",
       "\t<tr><td>41</td><td>Bimbollos Ext sAjonjoli </td><td>480</td><td>g </td><td> BIM          </td></tr>\n",
       "\t<tr><td>53</td><td>Burritos Sincro         </td><td>170</td><td>g </td><td> CU LON       </td></tr>\n",
       "\t<tr><td>72</td><td>Div Tira Mini Doradita  </td><td> 45</td><td>g </td><td> TR           </td></tr>\n",
       "\t<tr><td>73</td><td>Pan Multigrano Linaza   </td><td>540</td><td>g </td><td> BIM          </td></tr>\n",
       "</tbody>\n",
       "</table>\n"
      ],
      "text/latex": [
       "A data.table: 6 × 5\n",
       "\\begin{tabular}{lllll}\n",
       " Producto\\_ID & NombreProducto & Npeso & UniPeso & Productor\\\\\n",
       " <int> & <chr> & <int> & <chr> & <chr>\\\\\n",
       "\\hline\n",
       "\t  0 & NO IDENTIFICADO          &  NA & NA &  IDENTIFICADO \\\\\n",
       "\t  9 & Capuccino Moka           & 750 & g  &  NES          \\\\\n",
       "\t 41 & Bimbollos Ext sAjonjoli  & 480 & g  &  BIM          \\\\\n",
       "\t 53 & Burritos Sincro          & 170 & g  &  CU LON       \\\\\n",
       "\t 72 & Div Tira Mini Doradita   &  45 & g  &  TR           \\\\\n",
       "\t 73 & Pan Multigrano Linaza    & 540 & g  &  BIM          \\\\\n",
       "\\end{tabular}\n"
      ],
      "text/markdown": [
       "\n",
       "A data.table: 6 × 5\n",
       "\n",
       "| Producto_ID &lt;int&gt; | NombreProducto &lt;chr&gt; | Npeso &lt;int&gt; | UniPeso &lt;chr&gt; | Productor &lt;chr&gt; |\n",
       "|---|---|---|---|---|\n",
       "|  0 | NO IDENTIFICADO          |  NA | NA |  IDENTIFICADO  |\n",
       "|  9 | Capuccino Moka           | 750 | g  |  NES           |\n",
       "| 41 | Bimbollos Ext sAjonjoli  | 480 | g  |  BIM           |\n",
       "| 53 | Burritos Sincro          | 170 | g  |  CU LON        |\n",
       "| 72 | Div Tira Mini Doradita   |  45 | g  |  TR            |\n",
       "| 73 | Pan Multigrano Linaza    | 540 | g  |  BIM           |\n",
       "\n"
      ],
      "text/plain": [
       "  Producto_ID NombreProducto           Npeso UniPeso Productor     \n",
       "1  0          NO IDENTIFICADO           NA   NA       IDENTIFICADO \n",
       "2  9          Capuccino Moka           750   g        NES          \n",
       "3 41          Bimbollos Ext sAjonjoli  480   g        BIM          \n",
       "4 53          Burritos Sincro          170   g        CU LON       \n",
       "5 72          Div Tira Mini Doradita    45   g        TR           \n",
       "6 73          Pan Multigrano Linaza    540   g        BIM          "
      ]
     },
     "metadata": {
      "tags": []
     },
     "output_type": "display_data"
    }
   ],
   "source": [
    "# Visualizando dataset após a extração das informações desejadas.\n",
    "\n",
    "head(product)"
   ]
  },
  {
   "cell_type": "code",
   "execution_count": 28,
   "metadata": {
    "colab": {
     "base_uri": "https://localhost:8080/",
     "height": 0
    },
    "colab_type": "code",
    "id": "Tc2AdwLJDLfZ",
    "outputId": "7e730c52-a699-40dc-b7f7-0504371ac00d"
   },
   "outputs": [
    {
     "data": {
      "text/plain": [
       "$Producto_ID\n",
       "\n",
       "FALSE \n",
       " 2592 \n",
       "\n",
       "$NombreProducto\n",
       "\n",
       "FALSE \n",
       " 2592 \n",
       "\n",
       "$Npeso\n",
       "\n",
       "FALSE  TRUE \n",
       " 2541    51 \n",
       "\n",
       "$UniPeso\n",
       "\n",
       "FALSE  TRUE \n",
       " 2541    51 \n",
       "\n",
       "$Productor\n",
       "\n",
       "FALSE  TRUE \n",
       " 2591     1 \n"
      ]
     },
     "metadata": {
      "tags": []
     },
     "output_type": "display_data"
    }
   ],
   "source": [
    "# Verificando se existem valores nulos em cada variável do dataset.\n",
    "\n",
    "sapply(product, function(v){\n",
    "    table(is.na(v))\n",
    "})"
   ]
  },
  {
   "cell_type": "markdown",
   "metadata": {
    "colab_type": "text",
    "id": "xIn5y1maFO4E"
   },
   "source": [
    "Como resultado final, verificamos que não foi possível determinar o peso de **51 produtos** e nem o sigla de **1 fabricante**."
   ]
  },
  {
   "cell_type": "markdown",
   "metadata": {
    "colab_type": "text",
    "id": "ozxRNvcS1VS_"
   },
   "source": [
    "### **3.3 Dataset *town***"
   ]
  },
  {
   "cell_type": "code",
   "execution_count": 29,
   "metadata": {
    "colab": {
     "base_uri": "https://localhost:8080/",
     "height": 0
    },
    "colab_type": "code",
    "id": "0qPs-Qas1VTE",
    "outputId": "677ed433-4b14-43d2-8b08-71859cb052ad"
   },
   "outputs": [
    {
     "data": {
      "text/html": [
       "<table>\n",
       "<caption>A data.table: 10 × 3</caption>\n",
       "<thead>\n",
       "\t<tr><th scope=col>Agencia_ID</th><th scope=col>Town</th><th scope=col>State</th></tr>\n",
       "\t<tr><th scope=col>&lt;int&gt;</th><th scope=col>&lt;chr&gt;</th><th scope=col>&lt;chr&gt;</th></tr>\n",
       "</thead>\n",
       "<tbody>\n",
       "\t<tr><td>1110</td><td>2008 AG. LAGO FILT     </td><td>MÉXICO, D.F.    </td></tr>\n",
       "\t<tr><td>1111</td><td>2002 AG. AZCAPOTZALCO  </td><td>MÉXICO, D.F.    </td></tr>\n",
       "\t<tr><td>1112</td><td>2004 AG. CUAUTITLAN    </td><td>ESTADO DE MÉXICO</td></tr>\n",
       "\t<tr><td>1113</td><td>2008 AG. LAGO FILT     </td><td>MÉXICO, D.F.    </td></tr>\n",
       "\t<tr><td>1114</td><td>2029 AG.IZTAPALAPA 2   </td><td>MÉXICO, D.F.    </td></tr>\n",
       "\t<tr><td>1116</td><td>2011 AG. SAN ANTONIO   </td><td>MÉXICO, D.F.    </td></tr>\n",
       "\t<tr><td>1117</td><td>2001 AG. ATIZAPAN      </td><td>ESTADO DE MÉXICO</td></tr>\n",
       "\t<tr><td>1118</td><td>2007 AG. LA VILLA      </td><td>MÉXICO, D.F.    </td></tr>\n",
       "\t<tr><td>1119</td><td>2013 AG. MEGA NAUCALPAN</td><td>ESTADO DE MÉXICO</td></tr>\n",
       "\t<tr><td>1120</td><td>2018 AG. TEPALCATES 2  </td><td>MÉXICO, D.F.    </td></tr>\n",
       "</tbody>\n",
       "</table>\n"
      ],
      "text/latex": [
       "A data.table: 10 × 3\n",
       "\\begin{tabular}{lll}\n",
       " Agencia\\_ID & Town & State\\\\\n",
       " <int> & <chr> & <chr>\\\\\n",
       "\\hline\n",
       "\t 1110 & 2008 AG. LAGO FILT      & MÉXICO, D.F.    \\\\\n",
       "\t 1111 & 2002 AG. AZCAPOTZALCO   & MÉXICO, D.F.    \\\\\n",
       "\t 1112 & 2004 AG. CUAUTITLAN     & ESTADO DE MÉXICO\\\\\n",
       "\t 1113 & 2008 AG. LAGO FILT      & MÉXICO, D.F.    \\\\\n",
       "\t 1114 & 2029 AG.IZTAPALAPA 2    & MÉXICO, D.F.    \\\\\n",
       "\t 1116 & 2011 AG. SAN ANTONIO    & MÉXICO, D.F.    \\\\\n",
       "\t 1117 & 2001 AG. ATIZAPAN       & ESTADO DE MÉXICO\\\\\n",
       "\t 1118 & 2007 AG. LA VILLA       & MÉXICO, D.F.    \\\\\n",
       "\t 1119 & 2013 AG. MEGA NAUCALPAN & ESTADO DE MÉXICO\\\\\n",
       "\t 1120 & 2018 AG. TEPALCATES 2   & MÉXICO, D.F.    \\\\\n",
       "\\end{tabular}\n"
      ],
      "text/markdown": [
       "\n",
       "A data.table: 10 × 3\n",
       "\n",
       "| Agencia_ID &lt;int&gt; | Town &lt;chr&gt; | State &lt;chr&gt; |\n",
       "|---|---|---|\n",
       "| 1110 | 2008 AG. LAGO FILT      | MÉXICO, D.F.     |\n",
       "| 1111 | 2002 AG. AZCAPOTZALCO   | MÉXICO, D.F.     |\n",
       "| 1112 | 2004 AG. CUAUTITLAN     | ESTADO DE MÉXICO |\n",
       "| 1113 | 2008 AG. LAGO FILT      | MÉXICO, D.F.     |\n",
       "| 1114 | 2029 AG.IZTAPALAPA 2    | MÉXICO, D.F.     |\n",
       "| 1116 | 2011 AG. SAN ANTONIO    | MÉXICO, D.F.     |\n",
       "| 1117 | 2001 AG. ATIZAPAN       | ESTADO DE MÉXICO |\n",
       "| 1118 | 2007 AG. LA VILLA       | MÉXICO, D.F.     |\n",
       "| 1119 | 2013 AG. MEGA NAUCALPAN | ESTADO DE MÉXICO |\n",
       "| 1120 | 2018 AG. TEPALCATES 2   | MÉXICO, D.F.     |\n",
       "\n"
      ],
      "text/plain": [
       "   Agencia_ID Town                    State           \n",
       "1  1110       2008 AG. LAGO FILT      MÉXICO, D.F.    \n",
       "2  1111       2002 AG. AZCAPOTZALCO   MÉXICO, D.F.    \n",
       "3  1112       2004 AG. CUAUTITLAN     ESTADO DE MÉXICO\n",
       "4  1113       2008 AG. LAGO FILT      MÉXICO, D.F.    \n",
       "5  1114       2029 AG.IZTAPALAPA 2    MÉXICO, D.F.    \n",
       "6  1116       2011 AG. SAN ANTONIO    MÉXICO, D.F.    \n",
       "7  1117       2001 AG. ATIZAPAN       ESTADO DE MÉXICO\n",
       "8  1118       2007 AG. LA VILLA       MÉXICO, D.F.    \n",
       "9  1119       2013 AG. MEGA NAUCALPAN ESTADO DE MÉXICO\n",
       "10 1120       2018 AG. TEPALCATES 2   MÉXICO, D.F.    "
      ]
     },
     "metadata": {
      "tags": []
     },
     "output_type": "display_data"
    }
   ],
   "source": [
    "# Visualizando as primeiras 10 linhas do dataset.\n",
    "\n",
    "head(town, 10)"
   ]
  },
  {
   "cell_type": "markdown",
   "metadata": {
    "colab_type": "text",
    "id": "0K4x6e2d1VTO"
   },
   "source": [
    "Vamos verificar se há registros ou *IDs* de agência duplicados no dataset."
   ]
  },
  {
   "cell_type": "code",
   "execution_count": 30,
   "metadata": {
    "colab": {
     "base_uri": "https://localhost:8080/",
     "height": 0
    },
    "colab_type": "code",
    "id": "r3EgyiRM1VTP",
    "outputId": "14e265e0-7439-41c8-adfb-9851a80d420c"
   },
   "outputs": [
    {
     "data": {
      "text/plain": [
       "\n",
       "FALSE \n",
       "  790 "
      ]
     },
     "metadata": {
      "tags": []
     },
     "output_type": "display_data"
    }
   ],
   "source": [
    "# Verificando linhas duplicadas no dataset.\n",
    "\n",
    "table(duplicated(town))"
   ]
  },
  {
   "cell_type": "markdown",
   "metadata": {
    "colab_type": "text",
    "id": "QajQKyvlYdXb"
   },
   "source": [
    "Nenhum registro duplicado foi encontrado."
   ]
  },
  {
   "cell_type": "code",
   "execution_count": 31,
   "metadata": {
    "colab": {
     "base_uri": "https://localhost:8080/",
     "height": 0
    },
    "colab_type": "code",
    "id": "cB-0KBLG1VTT",
    "outputId": "3f091c59-c572-4a81-9a9c-343d0244e923"
   },
   "outputs": [
    {
     "data": {
      "text/plain": [
       "\n",
       "FALSE \n",
       "  790 "
      ]
     },
     "metadata": {
      "tags": []
     },
     "output_type": "display_data"
    }
   ],
   "source": [
    "# Verificando número de IDs duplicados no dataset.\n",
    "\n",
    "table(duplicated(town$Agencia_ID))"
   ]
  },
  {
   "cell_type": "markdown",
   "metadata": {
    "colab_type": "text",
    "id": "WK1UFXgzZBJQ"
   },
   "source": [
    "Nenhum registro contém um número de *ID* duplicado."
   ]
  },
  {
   "cell_type": "code",
   "execution_count": 32,
   "metadata": {
    "colab": {
     "base_uri": "https://localhost:8080/",
     "height": 0
    },
    "colab_type": "code",
    "id": "5S6cZlLbAVG1",
    "outputId": "ca8582fe-6a26-4722-8ec0-7d089390b656"
   },
   "outputs": [
    {
     "data": {
      "text/html": [
       "FALSE"
      ],
      "text/latex": [
       "FALSE"
      ],
      "text/markdown": [
       "FALSE"
      ],
      "text/plain": [
       "[1] FALSE"
      ]
     },
     "metadata": {
      "tags": []
     },
     "output_type": "display_data"
    }
   ],
   "source": [
    "# Verificando se existem valores nulos no dataset.\n",
    "\n",
    "anyNA(town)"
   ]
  },
  {
   "cell_type": "markdown",
   "metadata": {
    "colab_type": "text",
    "id": "KBnufaIAeKU9"
   },
   "source": [
    "Não há valores nulos no dataset."
   ]
  },
  {
   "cell_type": "code",
   "execution_count": 33,
   "metadata": {
    "colab": {
     "base_uri": "https://localhost:8080/",
     "height": 0
    },
    "colab_type": "code",
    "id": "pe4xLRHO1VTf",
    "outputId": "58b29339-964c-43f4-c641-4bd16e6e8577"
   },
   "outputs": [
    {
     "name": "stdout",
     "output_type": "stream",
     "text": [
      "Rows: 790\n",
      "Columns: 3\n",
      "$ Agencia_ID \u001b[3m\u001b[90m<int>\u001b[39m\u001b[23m 1110, 1111, 1112, 1113, 1114, 1116, 1117, 1118, 1119, 1120…\n",
      "$ Town       \u001b[3m\u001b[90m<chr>\u001b[39m\u001b[23m \"2008 AG. LAGO FILT\", \"2002 AG. AZCAPOTZALCO\", \"2004 AG. C…\n",
      "$ State      \u001b[3m\u001b[90m<chr>\u001b[39m\u001b[23m \"MÉXICO, D.F.\", \"MÉXICO, D.F.\", \"ESTADO DE MÉXICO\", \"MÉXIC…\n"
     ]
    }
   ],
   "source": [
    "# Verificando o tipo de dado das variáveis do dataset.\n",
    "\n",
    "glimpse(town)"
   ]
  },
  {
   "cell_type": "markdown",
   "metadata": {
    "colab_type": "text",
    "id": "5OdiLAJ_edRa"
   },
   "source": [
    "O conjunto de dados contém registros de **790 cidades** e seus respectivos estados."
   ]
  },
  {
   "cell_type": "markdown",
   "metadata": {
    "colab_type": "text",
    "id": "3TpkgMnXfzEi"
   },
   "source": [
    "### **3.4 Dataset *train***"
   ]
  },
  {
   "cell_type": "code",
   "execution_count": 34,
   "metadata": {
    "colab": {
     "base_uri": "https://localhost:8080/",
     "height": 288
    },
    "colab_type": "code",
    "id": "0cfeTLOSgHXJ",
    "outputId": "4c9ff04b-a0cb-4ea2-e1e7-aacd49d0025e"
   },
   "outputs": [
    {
     "data": {
      "text/html": [
       "<table>\n",
       "<caption>A data.table: 10 × 11</caption>\n",
       "<thead>\n",
       "\t<tr><th scope=col>Semana</th><th scope=col>Agencia_ID</th><th scope=col>Canal_ID</th><th scope=col>Ruta_SAK</th><th scope=col>Cliente_ID</th><th scope=col>Producto_ID</th><th scope=col>Venta_uni_hoy</th><th scope=col>Venta_hoy</th><th scope=col>Dev_uni_proxima</th><th scope=col>Dev_proxima</th><th scope=col>Demanda_uni_equil</th></tr>\n",
       "\t<tr><th scope=col>&lt;int&gt;</th><th scope=col>&lt;int&gt;</th><th scope=col>&lt;int&gt;</th><th scope=col>&lt;int&gt;</th><th scope=col>&lt;int&gt;</th><th scope=col>&lt;int&gt;</th><th scope=col>&lt;int&gt;</th><th scope=col>&lt;dbl&gt;</th><th scope=col>&lt;int&gt;</th><th scope=col>&lt;dbl&gt;</th><th scope=col>&lt;int&gt;</th></tr>\n",
       "</thead>\n",
       "<tbody>\n",
       "\t<tr><td>3</td><td>1110</td><td>7</td><td>3301</td><td>15766</td><td>1212</td><td>3</td><td>25.14</td><td>0</td><td>0</td><td>3</td></tr>\n",
       "\t<tr><td>3</td><td>1110</td><td>7</td><td>3301</td><td>15766</td><td>1216</td><td>4</td><td>33.52</td><td>0</td><td>0</td><td>4</td></tr>\n",
       "\t<tr><td>3</td><td>1110</td><td>7</td><td>3301</td><td>15766</td><td>1238</td><td>4</td><td>39.32</td><td>0</td><td>0</td><td>4</td></tr>\n",
       "\t<tr><td>3</td><td>1110</td><td>7</td><td>3301</td><td>15766</td><td>1240</td><td>4</td><td>33.52</td><td>0</td><td>0</td><td>4</td></tr>\n",
       "\t<tr><td>3</td><td>1110</td><td>7</td><td>3301</td><td>15766</td><td>1242</td><td>3</td><td>22.92</td><td>0</td><td>0</td><td>3</td></tr>\n",
       "\t<tr><td>3</td><td>1110</td><td>7</td><td>3301</td><td>15766</td><td>1250</td><td>5</td><td>38.20</td><td>0</td><td>0</td><td>5</td></tr>\n",
       "\t<tr><td>3</td><td>1110</td><td>7</td><td>3301</td><td>15766</td><td>1309</td><td>3</td><td>20.28</td><td>0</td><td>0</td><td>3</td></tr>\n",
       "\t<tr><td>3</td><td>1110</td><td>7</td><td>3301</td><td>15766</td><td>3894</td><td>6</td><td>56.10</td><td>0</td><td>0</td><td>6</td></tr>\n",
       "\t<tr><td>3</td><td>1110</td><td>7</td><td>3301</td><td>15766</td><td>4085</td><td>4</td><td>24.60</td><td>0</td><td>0</td><td>4</td></tr>\n",
       "\t<tr><td>3</td><td>1110</td><td>7</td><td>3301</td><td>15766</td><td>5310</td><td>6</td><td>31.68</td><td>0</td><td>0</td><td>6</td></tr>\n",
       "</tbody>\n",
       "</table>\n"
      ],
      "text/latex": [
       "A data.table: 10 × 11\n",
       "\\begin{tabular}{lllllllllll}\n",
       " Semana & Agencia\\_ID & Canal\\_ID & Ruta\\_SAK & Cliente\\_ID & Producto\\_ID & Venta\\_uni\\_hoy & Venta\\_hoy & Dev\\_uni\\_proxima & Dev\\_proxima & Demanda\\_uni\\_equil\\\\\n",
       " <int> & <int> & <int> & <int> & <int> & <int> & <int> & <dbl> & <int> & <dbl> & <int>\\\\\n",
       "\\hline\n",
       "\t 3 & 1110 & 7 & 3301 & 15766 & 1212 & 3 & 25.14 & 0 & 0 & 3\\\\\n",
       "\t 3 & 1110 & 7 & 3301 & 15766 & 1216 & 4 & 33.52 & 0 & 0 & 4\\\\\n",
       "\t 3 & 1110 & 7 & 3301 & 15766 & 1238 & 4 & 39.32 & 0 & 0 & 4\\\\\n",
       "\t 3 & 1110 & 7 & 3301 & 15766 & 1240 & 4 & 33.52 & 0 & 0 & 4\\\\\n",
       "\t 3 & 1110 & 7 & 3301 & 15766 & 1242 & 3 & 22.92 & 0 & 0 & 3\\\\\n",
       "\t 3 & 1110 & 7 & 3301 & 15766 & 1250 & 5 & 38.20 & 0 & 0 & 5\\\\\n",
       "\t 3 & 1110 & 7 & 3301 & 15766 & 1309 & 3 & 20.28 & 0 & 0 & 3\\\\\n",
       "\t 3 & 1110 & 7 & 3301 & 15766 & 3894 & 6 & 56.10 & 0 & 0 & 6\\\\\n",
       "\t 3 & 1110 & 7 & 3301 & 15766 & 4085 & 4 & 24.60 & 0 & 0 & 4\\\\\n",
       "\t 3 & 1110 & 7 & 3301 & 15766 & 5310 & 6 & 31.68 & 0 & 0 & 6\\\\\n",
       "\\end{tabular}\n"
      ],
      "text/markdown": [
       "\n",
       "A data.table: 10 × 11\n",
       "\n",
       "| Semana &lt;int&gt; | Agencia_ID &lt;int&gt; | Canal_ID &lt;int&gt; | Ruta_SAK &lt;int&gt; | Cliente_ID &lt;int&gt; | Producto_ID &lt;int&gt; | Venta_uni_hoy &lt;int&gt; | Venta_hoy &lt;dbl&gt; | Dev_uni_proxima &lt;int&gt; | Dev_proxima &lt;dbl&gt; | Demanda_uni_equil &lt;int&gt; |\n",
       "|---|---|---|---|---|---|---|---|---|---|---|\n",
       "| 3 | 1110 | 7 | 3301 | 15766 | 1212 | 3 | 25.14 | 0 | 0 | 3 |\n",
       "| 3 | 1110 | 7 | 3301 | 15766 | 1216 | 4 | 33.52 | 0 | 0 | 4 |\n",
       "| 3 | 1110 | 7 | 3301 | 15766 | 1238 | 4 | 39.32 | 0 | 0 | 4 |\n",
       "| 3 | 1110 | 7 | 3301 | 15766 | 1240 | 4 | 33.52 | 0 | 0 | 4 |\n",
       "| 3 | 1110 | 7 | 3301 | 15766 | 1242 | 3 | 22.92 | 0 | 0 | 3 |\n",
       "| 3 | 1110 | 7 | 3301 | 15766 | 1250 | 5 | 38.20 | 0 | 0 | 5 |\n",
       "| 3 | 1110 | 7 | 3301 | 15766 | 1309 | 3 | 20.28 | 0 | 0 | 3 |\n",
       "| 3 | 1110 | 7 | 3301 | 15766 | 3894 | 6 | 56.10 | 0 | 0 | 6 |\n",
       "| 3 | 1110 | 7 | 3301 | 15766 | 4085 | 4 | 24.60 | 0 | 0 | 4 |\n",
       "| 3 | 1110 | 7 | 3301 | 15766 | 5310 | 6 | 31.68 | 0 | 0 | 6 |\n",
       "\n"
      ],
      "text/plain": [
       "   Semana Agencia_ID Canal_ID Ruta_SAK Cliente_ID Producto_ID Venta_uni_hoy\n",
       "1  3      1110       7        3301     15766      1212        3            \n",
       "2  3      1110       7        3301     15766      1216        4            \n",
       "3  3      1110       7        3301     15766      1238        4            \n",
       "4  3      1110       7        3301     15766      1240        4            \n",
       "5  3      1110       7        3301     15766      1242        3            \n",
       "6  3      1110       7        3301     15766      1250        5            \n",
       "7  3      1110       7        3301     15766      1309        3            \n",
       "8  3      1110       7        3301     15766      3894        6            \n",
       "9  3      1110       7        3301     15766      4085        4            \n",
       "10 3      1110       7        3301     15766      5310        6            \n",
       "   Venta_hoy Dev_uni_proxima Dev_proxima Demanda_uni_equil\n",
       "1  25.14     0               0           3                \n",
       "2  33.52     0               0           4                \n",
       "3  39.32     0               0           4                \n",
       "4  33.52     0               0           4                \n",
       "5  22.92     0               0           3                \n",
       "6  38.20     0               0           5                \n",
       "7  20.28     0               0           3                \n",
       "8  56.10     0               0           6                \n",
       "9  24.60     0               0           4                \n",
       "10 31.68     0               0           6                "
      ]
     },
     "metadata": {
      "tags": []
     },
     "output_type": "display_data"
    }
   ],
   "source": [
    "# Visualizando as primeiras 10 linhas do dataset.\n",
    "\n",
    "head(train, 10)"
   ]
  },
  {
   "cell_type": "code",
   "execution_count": 35,
   "metadata": {
    "colab": {
     "base_uri": "https://localhost:8080/",
     "height": 68
    },
    "colab_type": "code",
    "id": "rDNeuaUdgax8",
    "outputId": "374dbc85-a310-4ad5-f26f-3a8ec3e46be6"
   },
   "outputs": [
    {
     "data": {
      "text/plain": [
       "\n",
       "   FALSE \n",
       "74180464 "
      ]
     },
     "metadata": {
      "tags": []
     },
     "output_type": "display_data"
    }
   ],
   "source": [
    "# Verificando linhas duplicadas no dataset.\n",
    "\n",
    "table(duplicated(train))"
   ]
  },
  {
   "cell_type": "markdown",
   "metadata": {
    "colab_type": "text",
    "id": "rHadi1yphEVR"
   },
   "source": [
    "Não há registros duplicados no dataset."
   ]
  },
  {
   "cell_type": "code",
   "execution_count": 36,
   "metadata": {
    "colab": {
     "base_uri": "https://localhost:8080/",
     "height": 34
    },
    "colab_type": "code",
    "id": "mj4kBgiigayY",
    "outputId": "bd7ccea2-a1f8-4bee-a55f-3d41ecb1e80d"
   },
   "outputs": [
    {
     "data": {
      "text/html": [
       "FALSE"
      ],
      "text/latex": [
       "FALSE"
      ],
      "text/markdown": [
       "FALSE"
      ],
      "text/plain": [
       "[1] FALSE"
      ]
     },
     "metadata": {
      "tags": []
     },
     "output_type": "display_data"
    }
   ],
   "source": [
    "# Verificando se existem valores nulos no dataset.\n",
    "\n",
    "anyNA(train)"
   ]
  },
  {
   "cell_type": "markdown",
   "metadata": {
    "colab_type": "text",
    "id": "fP85WEothKQM"
   },
   "source": [
    "Não há valores nulos no dataset."
   ]
  },
  {
   "cell_type": "code",
   "execution_count": 37,
   "metadata": {
    "colab": {
     "base_uri": "https://localhost:8080/",
     "height": 238
    },
    "colab_type": "code",
    "id": "dlVHfGYUgayb",
    "outputId": "035cca2a-641a-4b7c-eaf9-b74ff1f7d935"
   },
   "outputs": [
    {
     "name": "stdout",
     "output_type": "stream",
     "text": [
      "Rows: 74,180,464\n",
      "Columns: 11\n",
      "$ Semana            \u001b[3m\u001b[90m<int>\u001b[39m\u001b[23m 3, 3, 3, 3, 3, 3, 3, 3, 3, 3, 3, 3, 3, 3, 3, 3, 3, …\n",
      "$ Agencia_ID        \u001b[3m\u001b[90m<int>\u001b[39m\u001b[23m 1110, 1110, 1110, 1110, 1110, 1110, 1110, 1110, 111…\n",
      "$ Canal_ID          \u001b[3m\u001b[90m<int>\u001b[39m\u001b[23m 7, 7, 7, 7, 7, 7, 7, 7, 7, 7, 7, 7, 7, 7, 7, 7, 7, …\n",
      "$ Ruta_SAK          \u001b[3m\u001b[90m<int>\u001b[39m\u001b[23m 3301, 3301, 3301, 3301, 3301, 3301, 3301, 3301, 330…\n",
      "$ Cliente_ID        \u001b[3m\u001b[90m<int>\u001b[39m\u001b[23m 15766, 15766, 15766, 15766, 15766, 15766, 15766, 15…\n",
      "$ Producto_ID       \u001b[3m\u001b[90m<int>\u001b[39m\u001b[23m 1212, 1216, 1238, 1240, 1242, 1250, 1309, 3894, 408…\n",
      "$ Venta_uni_hoy     \u001b[3m\u001b[90m<int>\u001b[39m\u001b[23m 3, 4, 4, 4, 3, 5, 3, 6, 4, 6, 8, 4, 12, 7, 10, 5, 3…\n",
      "$ Venta_hoy         \u001b[3m\u001b[90m<dbl>\u001b[39m\u001b[23m 25.14, 33.52, 39.32, 33.52, 22.92, 38.20, 20.28, 56…\n",
      "$ Dev_uni_proxima   \u001b[3m\u001b[90m<int>\u001b[39m\u001b[23m 0, 0, 0, 0, 0, 0, 0, 0, 0, 0, 0, 0, 0, 0, 0, 0, 0, …\n",
      "$ Dev_proxima       \u001b[3m\u001b[90m<dbl>\u001b[39m\u001b[23m 0, 0, 0, 0, 0, 0, 0, 0, 0, 0, 0, 0, 0, 0, 0, 0, 0, …\n",
      "$ Demanda_uni_equil \u001b[3m\u001b[90m<int>\u001b[39m\u001b[23m 3, 4, 4, 4, 3, 5, 3, 6, 4, 6, 8, 4, 12, 7, 10, 5, 3…\n"
     ]
    }
   ],
   "source": [
    "# Verificando o tipo de dado das variáveis do dataset.\n",
    "\n",
    "glimpse(train)"
   ]
  },
  {
   "cell_type": "markdown",
   "metadata": {
    "colab_type": "text",
    "id": "lEx5gQovhqh4"
   },
   "source": [
    "O conjunto de dados de treino contém **74.180.464 registros** e **11 colunas**."
   ]
  },
  {
   "cell_type": "markdown",
   "metadata": {
    "colab_type": "text",
    "id": "-IELgwlNikLO"
   },
   "source": [
    "### **3.5 Dataset *test***"
   ]
  },
  {
   "cell_type": "code",
   "execution_count": 38,
   "metadata": {
    "colab": {
     "base_uri": "https://localhost:8080/",
     "height": 288
    },
    "colab_type": "code",
    "id": "PaA1O7s8ikLa",
    "outputId": "91ec5960-332e-479e-97bf-5ce104dec543"
   },
   "outputs": [
    {
     "data": {
      "text/html": [
       "<table>\n",
       "<caption>A data.table: 10 × 7</caption>\n",
       "<thead>\n",
       "\t<tr><th scope=col>id</th><th scope=col>Semana</th><th scope=col>Agencia_ID</th><th scope=col>Canal_ID</th><th scope=col>Ruta_SAK</th><th scope=col>Cliente_ID</th><th scope=col>Producto_ID</th></tr>\n",
       "\t<tr><th scope=col>&lt;int&gt;</th><th scope=col>&lt;int&gt;</th><th scope=col>&lt;int&gt;</th><th scope=col>&lt;int&gt;</th><th scope=col>&lt;int&gt;</th><th scope=col>&lt;int&gt;</th><th scope=col>&lt;int&gt;</th></tr>\n",
       "</thead>\n",
       "<tbody>\n",
       "\t<tr><td>0</td><td>11</td><td>4037</td><td>1</td><td>2209</td><td>4639078</td><td>35305</td></tr>\n",
       "\t<tr><td>1</td><td>11</td><td>2237</td><td>1</td><td>1226</td><td>4705135</td><td> 1238</td></tr>\n",
       "\t<tr><td>2</td><td>10</td><td>2045</td><td>1</td><td>2831</td><td>4549769</td><td>32940</td></tr>\n",
       "\t<tr><td>3</td><td>11</td><td>1227</td><td>1</td><td>4448</td><td>4717855</td><td>43066</td></tr>\n",
       "\t<tr><td>4</td><td>11</td><td>1219</td><td>1</td><td>1130</td><td> 966351</td><td> 1277</td></tr>\n",
       "\t<tr><td>5</td><td>11</td><td>1146</td><td>4</td><td>6601</td><td>1741414</td><td>  972</td></tr>\n",
       "\t<tr><td>6</td><td>11</td><td>2057</td><td>1</td><td>4507</td><td>4659766</td><td> 1232</td></tr>\n",
       "\t<tr><td>7</td><td>10</td><td>1612</td><td>1</td><td>2837</td><td>4414012</td><td>35305</td></tr>\n",
       "\t<tr><td>8</td><td>10</td><td>1349</td><td>1</td><td>1223</td><td> 397854</td><td> 1240</td></tr>\n",
       "\t<tr><td>9</td><td>11</td><td>1461</td><td>1</td><td>1203</td><td>1646915</td><td>43203</td></tr>\n",
       "</tbody>\n",
       "</table>\n"
      ],
      "text/latex": [
       "A data.table: 10 × 7\n",
       "\\begin{tabular}{lllllll}\n",
       " id & Semana & Agencia\\_ID & Canal\\_ID & Ruta\\_SAK & Cliente\\_ID & Producto\\_ID\\\\\n",
       " <int> & <int> & <int> & <int> & <int> & <int> & <int>\\\\\n",
       "\\hline\n",
       "\t 0 & 11 & 4037 & 1 & 2209 & 4639078 & 35305\\\\\n",
       "\t 1 & 11 & 2237 & 1 & 1226 & 4705135 &  1238\\\\\n",
       "\t 2 & 10 & 2045 & 1 & 2831 & 4549769 & 32940\\\\\n",
       "\t 3 & 11 & 1227 & 1 & 4448 & 4717855 & 43066\\\\\n",
       "\t 4 & 11 & 1219 & 1 & 1130 &  966351 &  1277\\\\\n",
       "\t 5 & 11 & 1146 & 4 & 6601 & 1741414 &   972\\\\\n",
       "\t 6 & 11 & 2057 & 1 & 4507 & 4659766 &  1232\\\\\n",
       "\t 7 & 10 & 1612 & 1 & 2837 & 4414012 & 35305\\\\\n",
       "\t 8 & 10 & 1349 & 1 & 1223 &  397854 &  1240\\\\\n",
       "\t 9 & 11 & 1461 & 1 & 1203 & 1646915 & 43203\\\\\n",
       "\\end{tabular}\n"
      ],
      "text/markdown": [
       "\n",
       "A data.table: 10 × 7\n",
       "\n",
       "| id &lt;int&gt; | Semana &lt;int&gt; | Agencia_ID &lt;int&gt; | Canal_ID &lt;int&gt; | Ruta_SAK &lt;int&gt; | Cliente_ID &lt;int&gt; | Producto_ID &lt;int&gt; |\n",
       "|---|---|---|---|---|---|---|\n",
       "| 0 | 11 | 4037 | 1 | 2209 | 4639078 | 35305 |\n",
       "| 1 | 11 | 2237 | 1 | 1226 | 4705135 |  1238 |\n",
       "| 2 | 10 | 2045 | 1 | 2831 | 4549769 | 32940 |\n",
       "| 3 | 11 | 1227 | 1 | 4448 | 4717855 | 43066 |\n",
       "| 4 | 11 | 1219 | 1 | 1130 |  966351 |  1277 |\n",
       "| 5 | 11 | 1146 | 4 | 6601 | 1741414 |   972 |\n",
       "| 6 | 11 | 2057 | 1 | 4507 | 4659766 |  1232 |\n",
       "| 7 | 10 | 1612 | 1 | 2837 | 4414012 | 35305 |\n",
       "| 8 | 10 | 1349 | 1 | 1223 |  397854 |  1240 |\n",
       "| 9 | 11 | 1461 | 1 | 1203 | 1646915 | 43203 |\n",
       "\n"
      ],
      "text/plain": [
       "   id Semana Agencia_ID Canal_ID Ruta_SAK Cliente_ID Producto_ID\n",
       "1  0  11     4037       1        2209     4639078    35305      \n",
       "2  1  11     2237       1        1226     4705135     1238      \n",
       "3  2  10     2045       1        2831     4549769    32940      \n",
       "4  3  11     1227       1        4448     4717855    43066      \n",
       "5  4  11     1219       1        1130      966351     1277      \n",
       "6  5  11     1146       4        6601     1741414      972      \n",
       "7  6  11     2057       1        4507     4659766     1232      \n",
       "8  7  10     1612       1        2837     4414012    35305      \n",
       "9  8  10     1349       1        1223      397854     1240      \n",
       "10 9  11     1461       1        1203     1646915    43203      "
      ]
     },
     "metadata": {
      "tags": []
     },
     "output_type": "display_data"
    }
   ],
   "source": [
    "# Visualizando as primeiras 10 linhas do dataset.\n",
    "\n",
    "head(test, 10)"
   ]
  },
  {
   "cell_type": "code",
   "execution_count": 39,
   "metadata": {
    "colab": {
     "base_uri": "https://localhost:8080/",
     "height": 68
    },
    "colab_type": "code",
    "id": "2yFYuU9oikLn",
    "outputId": "a8365fdf-e814-4c62-86b7-f0aefa1d7bf4"
   },
   "outputs": [
    {
     "data": {
      "text/plain": [
       "\n",
       "  FALSE \n",
       "6999251 "
      ]
     },
     "metadata": {
      "tags": []
     },
     "output_type": "display_data"
    }
   ],
   "source": [
    "# Verificando linhas duplicadas no dataset.\n",
    "\n",
    "table(duplicated(test))"
   ]
  },
  {
   "cell_type": "markdown",
   "metadata": {
    "colab_type": "text",
    "id": "M35IsYsIikLs"
   },
   "source": [
    "Não há registros duplicados no dataset."
   ]
  },
  {
   "cell_type": "code",
   "execution_count": 40,
   "metadata": {
    "colab": {
     "base_uri": "https://localhost:8080/",
     "height": 34
    },
    "colab_type": "code",
    "id": "G7jaQHqEikLt",
    "outputId": "d340c14b-9048-44f5-a2d7-c063bd7cf078"
   },
   "outputs": [
    {
     "data": {
      "text/html": [
       "FALSE"
      ],
      "text/latex": [
       "FALSE"
      ],
      "text/markdown": [
       "FALSE"
      ],
      "text/plain": [
       "[1] FALSE"
      ]
     },
     "metadata": {
      "tags": []
     },
     "output_type": "display_data"
    }
   ],
   "source": [
    "# Verificando se existem valores nulos no dataset.\n",
    "\n",
    "anyNA(test)"
   ]
  },
  {
   "cell_type": "markdown",
   "metadata": {
    "colab_type": "text",
    "id": "TY-cld7DikLv"
   },
   "source": [
    "Não há valores nulos no dataset."
   ]
  },
  {
   "cell_type": "code",
   "execution_count": 41,
   "metadata": {
    "colab": {
     "base_uri": "https://localhost:8080/",
     "height": 170
    },
    "colab_type": "code",
    "id": "O1bZotx6ikLw",
    "outputId": "a046426a-4a37-4547-9b6f-8103e5f5fbc0"
   },
   "outputs": [
    {
     "name": "stdout",
     "output_type": "stream",
     "text": [
      "Rows: 6,999,251\n",
      "Columns: 7\n",
      "$ id          \u001b[3m\u001b[90m<int>\u001b[39m\u001b[23m 0, 1, 2, 3, 4, 5, 6, 7, 8, 9, 10, 11, 12, 13, 14, 15, 16,…\n",
      "$ Semana      \u001b[3m\u001b[90m<int>\u001b[39m\u001b[23m 11, 11, 10, 11, 11, 11, 11, 10, 10, 11, 11, 10, 11, 10, 1…\n",
      "$ Agencia_ID  \u001b[3m\u001b[90m<int>\u001b[39m\u001b[23m 4037, 2237, 2045, 1227, 1219, 1146, 2057, 1612, 1349, 146…\n",
      "$ Canal_ID    \u001b[3m\u001b[90m<int>\u001b[39m\u001b[23m 1, 1, 1, 1, 1, 4, 1, 1, 1, 1, 1, 1, 1, 1, 1, 1, 1, 1, 1, …\n",
      "$ Ruta_SAK    \u001b[3m\u001b[90m<int>\u001b[39m\u001b[23m 2209, 1226, 2831, 4448, 1130, 6601, 4507, 2837, 1223, 120…\n",
      "$ Cliente_ID  \u001b[3m\u001b[90m<int>\u001b[39m\u001b[23m 4639078, 4705135, 4549769, 4717855, 966351, 1741414, 4659…\n",
      "$ Producto_ID \u001b[3m\u001b[90m<int>\u001b[39m\u001b[23m 35305, 1238, 32940, 43066, 1277, 972, 1232, 35305, 1240, …\n"
     ]
    }
   ],
   "source": [
    "# Verificando o tipo de dado das variáveis do dataset.\n",
    "\n",
    "glimpse(test)"
   ]
  },
  {
   "cell_type": "markdown",
   "metadata": {
    "colab_type": "text",
    "id": "bZ9vIUGBikL0"
   },
   "source": [
    "O conjunto de dados de treino contém **6.999.251 registros** e **7 colunas**."
   ]
  },
  {
   "cell_type": "markdown",
   "metadata": {
    "colab_type": "text",
    "id": "sDbF_16rYYyM"
   },
   "source": [
    "## **4. Análise exploratória dos dados**\n"
   ]
  },
  {
   "cell_type": "markdown",
   "metadata": {
    "colab_type": "text",
    "id": "GRGsWfH3NSea"
   },
   "source": [
    "### **4.1 Visão geral**"
   ]
  },
  {
   "cell_type": "markdown",
   "metadata": {
    "colab_type": "text",
    "id": "vgfj0IqdjOSD"
   },
   "source": [
    "Segundo a [documentação](https://www.kaggle.com/c/grupo-bimbo-inventory-demand/data) referente ao projeto, cada linha dos dados de treinamento contém um registro de vendas com as seguintes variáveis:\n",
    "\n",
    "| Variável                      | Descrição                                                              |\n",
    "|:------------------------------|:-----------------------------------------------------------------------|\n",
    "| **Semana**                    | é o número da semana *(de quinta a quarta-feira)*;                     |\n",
    "| **Agencia_ID**                | é o *ID* do depósito de vendas;                                        |\n",
    "| **Canal_ID**                  | é o *ID* do canal de vendas;                                           |\n",
    "| **Ruta_SAK**                  | é o *ID* da rota *(várias rotas = depósito de vendas)*;                |\n",
    "| **Cliente_ID**                | é o *ID* do cliente;                                                   |\n",
    "| **NombreCliente**             | é o nome do cliente;                                                   |\n",
    "| **Producto_ID**               | é o *ID* do produto;                                                   |\n",
    "| **NombreProducto**            | é o nome do produto;                                                   |\n",
    "| **Venta_uni_hoy**             | é o número de unidades vendidas na semana;                             |\n",
    "| **Venta_hoy**                 | é o valor de venda na semana *(unidade monetária: pesos)*;             |\n",
    "| **Dev_uni_proxima**           | é o número de unidades retornadas na próxima semana;                   |\n",
    "| **Dev_proxima**               | é o valor retornado na próxima semana e *(unidade monetária: pesos)* e;|\n",
    "| **Demanda_uni_equil (Target)**| *é a variável a ser prevista*, define a demanda ajustada.              |\n",
    "\n",
    "Nesta etapa vamos buscar entender a disposição e as características dos dados dentro do dataset de treino além de  extrair insigths que possam auxiliar no processo de criação do modelo preditivo. "
   ]
  },
  {
   "cell_type": "code",
   "execution_count": 42,
   "metadata": {
    "colab": {
     "base_uri": "https://localhost:8080/",
     "height": 238
    },
    "colab_type": "code",
    "id": "sAAI4YxwRRaL",
    "outputId": "63b715af-6955-40b5-cb0a-045a3ec94148"
   },
   "outputs": [
    {
     "name": "stdout",
     "output_type": "stream",
     "text": [
      "Rows: 74,180,464\n",
      "Columns: 11\n",
      "$ Semana            \u001b[3m\u001b[90m<int>\u001b[39m\u001b[23m 3, 3, 3, 3, 3, 3, 3, 3, 3, 3, 3, 3, 3, 3, 3, 3, 3, …\n",
      "$ Agencia_ID        \u001b[3m\u001b[90m<int>\u001b[39m\u001b[23m 1110, 1110, 1110, 1110, 1110, 1110, 1110, 1110, 111…\n",
      "$ Canal_ID          \u001b[3m\u001b[90m<int>\u001b[39m\u001b[23m 7, 7, 7, 7, 7, 7, 7, 7, 7, 7, 7, 7, 7, 7, 7, 7, 7, …\n",
      "$ Ruta_SAK          \u001b[3m\u001b[90m<int>\u001b[39m\u001b[23m 3301, 3301, 3301, 3301, 3301, 3301, 3301, 3301, 330…\n",
      "$ Cliente_ID        \u001b[3m\u001b[90m<int>\u001b[39m\u001b[23m 15766, 15766, 15766, 15766, 15766, 15766, 15766, 15…\n",
      "$ Producto_ID       \u001b[3m\u001b[90m<int>\u001b[39m\u001b[23m 1212, 1216, 1238, 1240, 1242, 1250, 1309, 3894, 408…\n",
      "$ Venta_uni_hoy     \u001b[3m\u001b[90m<int>\u001b[39m\u001b[23m 3, 4, 4, 4, 3, 5, 3, 6, 4, 6, 8, 4, 12, 7, 10, 5, 3…\n",
      "$ Venta_hoy         \u001b[3m\u001b[90m<dbl>\u001b[39m\u001b[23m 25.14, 33.52, 39.32, 33.52, 22.92, 38.20, 20.28, 56…\n",
      "$ Dev_uni_proxima   \u001b[3m\u001b[90m<int>\u001b[39m\u001b[23m 0, 0, 0, 0, 0, 0, 0, 0, 0, 0, 0, 0, 0, 0, 0, 0, 0, …\n",
      "$ Dev_proxima       \u001b[3m\u001b[90m<dbl>\u001b[39m\u001b[23m 0, 0, 0, 0, 0, 0, 0, 0, 0, 0, 0, 0, 0, 0, 0, 0, 0, …\n",
      "$ Demanda_uni_equil \u001b[3m\u001b[90m<int>\u001b[39m\u001b[23m 3, 4, 4, 4, 3, 5, 3, 6, 4, 6, 8, 4, 12, 7, 10, 5, 3…\n"
     ]
    }
   ],
   "source": [
    "# Verificando o tipo de dado das variáveis do dataset.\n",
    "\n",
    "glimpse(train)"
   ]
  },
  {
   "cell_type": "markdown",
   "metadata": {
    "colab_type": "text",
    "id": "rtuyUQs7RRag"
   },
   "source": [
    "O conjunto de dados de treino contém **74.180.464 registros** e **11 colunas**. Todas as variáveis apresentam o tipo de dado numérico."
   ]
  },
  {
   "cell_type": "code",
   "execution_count": 43,
   "metadata": {
    "colab": {
     "base_uri": "https://localhost:8080/",
     "height": 119
    },
    "colab_type": "code",
    "id": "kGSnl4noBWYA",
    "outputId": "39d93d24-df76-49cf-f5df-e770d5b58557"
   },
   "outputs": [
    {
     "name": "stdout",
     "output_type": "stream",
     "text": [
      "           Semana        Agencia_ID          Canal_ID          Ruta_SAK \n",
      "                7               552                 9              3603 \n",
      "       Cliente_ID       Producto_ID     Venta_uni_hoy         Venta_hoy \n",
      "           880604              1799              2116             78140 \n",
      "  Dev_uni_proxima       Dev_proxima Demanda_uni_equil \n",
      "              558             14707              2091 \n"
     ]
    }
   ],
   "source": [
    "# Verificando o número de valores únicos para cada variável do dataset.\n",
    "\n",
    "t <- sapply(train, function(c) {\n",
    "    length(unique(c))\n",
    "})\n",
    "\n",
    "# Exibindo os resultados.\n",
    "\n",
    "print(t)"
   ]
  },
  {
   "cell_type": "markdown",
   "metadata": {
    "colab_type": "text",
    "id": "kmJdO7C1Y3Rs"
   },
   "source": [
    "Estes resultados são interessantes. Destacamos que podemos observar a existência de registros de **7 semanas**; **880604 IDs de clientes** e; **1799 IDs de Produtos** diferentes no dataset."
   ]
  },
  {
   "cell_type": "markdown",
   "metadata": {
    "colab_type": "text",
    "id": "dVzvCErRNaS-"
   },
   "source": [
    "### **4.2 Analisando cada variável separadamente**"
   ]
  },
  {
   "cell_type": "markdown",
   "metadata": {
    "colab_type": "text",
    "id": "0EGOFW0PBI14"
   },
   "source": [
    "##### **4.2.1 Criando funções auxiliares**"
   ]
  },
  {
   "cell_type": "markdown",
   "metadata": {
    "colab_type": "text",
    "id": "YKH6UkzzVNkd"
   },
   "source": [
    "Criaremos algumas funções para padronizar as plotagens de gráficos que efetuaremos."
   ]
  },
  {
   "cell_type": "code",
   "execution_count": null,
   "metadata": {
    "colab": {},
    "colab_type": "code",
    "id": "NH3G3B2TQ8cg"
   },
   "outputs": [],
   "source": [
    "# Definindo uma função para criar gráficos de barra.\n",
    "\n",
    "barPlot <- function(col, data) {\n",
    "    \n",
    "    data %>%\n",
    "        mutate_at(c(var = col), as.factor) %>%\n",
    "        group_by(var) %>%\n",
    "        summarise(absFreq = n()) %>%\n",
    "        ggplot(aes(x = var, y = absFreq)) +\n",
    "        geom_bar(stat = 'identity', alpha = 0.75, fill = '#086788') +\n",
    "        ylab('Frequency') +\n",
    "        xlab(col) +\n",
    "        labs(title = paste('Bar plot for variable:', col)) +\n",
    "        theme_bw()\n",
    "}"
   ]
  },
  {
   "cell_type": "code",
   "execution_count": null,
   "metadata": {
    "colab": {},
    "colab_type": "code",
    "id": "Ok0mxWN1BsxZ"
   },
   "outputs": [],
   "source": [
    "# Definindo uma função para criar gráficos de boxplot.\n",
    "\n",
    "boxPlot <- function(col, data) {\n",
    "\n",
    "    data %>%\n",
    "        group_by_at(col) %>%\n",
    "        summarise(absFreq = n()) %>%\n",
    "        ggplot(aes(x = absFreq)) +\n",
    "        geom_boxplot(fill = '#566E3D', color = '#373D20', alpha = 0.8) +\n",
    "        theme_bw() +\n",
    "        theme(axis.text.y = element_blank()) +\n",
    "        xlab(paste(col, 'frequency')) +\n",
    "        labs(title = paste('Boxplot for variable:', col)) \n",
    "}"
   ]
  },
  {
   "cell_type": "markdown",
   "metadata": {
    "colab_type": "text",
    "id": "6D2QFr-2lA2e"
   },
   "source": [
    "##### **4.2.2 Variável Semana**"
   ]
  },
  {
   "cell_type": "code",
   "execution_count": 46,
   "metadata": {
    "colab": {
     "base_uri": "https://localhost:8080/",
     "height": 857
    },
    "colab_type": "code",
    "id": "kx0taL2kNquz",
    "outputId": "d5e42c52-f803-4377-b753-2123ee0f439c"
   },
   "outputs": [
    {
     "data": {
      "image/png": "[encoded data removed]",
      "text/plain": [
       "plot without title"
      ]
     },
     "metadata": {
      "image/png": {
       "height": 840,
       "width": 840
      },
      "tags": [],
      "text/plain": {
       "height": 840,
       "width": 840
      }
     },
     "output_type": "display_data"
    }
   ],
   "source": [
    "# Definindo o nome da variável a ser analisada.\n",
    "\n",
    "col <- 'Semana'\n",
    "\n",
    "# Criando um gráfico de barras para a variável especificada.\n",
    "\n",
    "barPlot(col, train)"
   ]
  },
  {
   "cell_type": "markdown",
   "metadata": {
    "colab_type": "text",
    "id": "YV8ITbIIiCpO"
   },
   "source": [
    "O gráfico nos permite observar há existênica de uma distribuição aproximadamente uniforme dos registros entre as semanas."
   ]
  },
  {
   "cell_type": "code",
   "execution_count": 47,
   "metadata": {
    "colab": {
     "base_uri": "https://localhost:8080/",
     "height": 68
    },
    "colab_type": "code",
    "id": "vOJ_oyH75ngp",
    "outputId": "2293df46-a7c8-422c-f635-965e36355f15"
   },
   "outputs": [
    {
     "data": {
      "text/plain": [
       "Semana\n",
       "       3        4        5        6        7        8        9 \n",
       "11165207 11009593 10615397 10191837 10382849 10406868 10408713 "
      ]
     },
     "metadata": {
      "tags": []
     },
     "output_type": "display_data"
    }
   ],
   "source": [
    "# Contabilizando o número de registros por semana.\n",
    "\n",
    "table(Semana = train$Semana)"
   ]
  },
  {
   "cell_type": "markdown",
   "metadata": {
    "colab_type": "text",
    "id": "jcUPl6U9vAae"
   },
   "source": [
    "##### **4.2.3 Variável Agencia_ID**"
   ]
  },
  {
   "cell_type": "code",
   "execution_count": 48,
   "metadata": {
    "colab": {
     "base_uri": "https://localhost:8080/",
     "height": 0
    },
    "colab_type": "code",
    "id": "f5ONYQ0JngKu",
    "outputId": "f3344bd4-0656-47f3-95fa-0da6c7bfb6bb"
   },
   "outputs": [
    {
     "data": {
      "image/png": "[encoded data removed]",
      "text/plain": [
       "plot without title"
      ]
     },
     "metadata": {
      "image/png": {
       "height": 840,
       "width": 840
      },
      "tags": [],
      "text/plain": {
       "height": 840,
       "width": 840
      }
     },
     "output_type": "display_data"
    }
   ],
   "source": [
    "# Criando um boxplot com as frequências com que os ID das agências aparecem no conjunto de dados.\n",
    "\n",
    "# Definindo o nome da variável a ser analisada.\n",
    "\n",
    "col <- 'Agencia_ID'\n",
    "\n",
    "# Criando um gráfico boxplot para a variável especificada.\n",
    "\n",
    "boxPlot(col, train)"
   ]
  },
  {
   "cell_type": "markdown",
   "metadata": {
    "colab_type": "text",
    "id": "_abGkEDDxro4"
   },
   "source": [
    "Vemos que há outliers nas frequências com que os *IDs* das agências aparecem no conjunto de dados. Vamos determinar a cidade e o estado destas agências com que a frequência do *ID* foi discrepante."
   ]
  },
  {
   "cell_type": "code",
   "execution_count": 49,
   "metadata": {
    "colab": {
     "base_uri": "https://localhost:8080/",
     "height": 0
    },
    "colab_type": "code",
    "id": "bw3ksrNbHQ5B",
    "outputId": "3b848e3b-743b-445e-cf68-282d0b1d3f5a"
   },
   "outputs": [
    {
     "data": {
      "text/html": [
       "<table>\n",
       "<caption>A tibble: 6 × 4</caption>\n",
       "<thead>\n",
       "\t<tr><th scope=col>Agencia_ID</th><th scope=col>absFreq</th><th scope=col>Town</th><th scope=col>State</th></tr>\n",
       "\t<tr><th scope=col>&lt;int&gt;</th><th scope=col>&lt;int&gt;</th><th scope=col>&lt;chr&gt;</th><th scope=col>&lt;chr&gt;</th></tr>\n",
       "</thead>\n",
       "<tbody>\n",
       "\t<tr><td>1911</td><td>806283</td><td>2309 NORTE                   </td><td>JALISCO         </td></tr>\n",
       "\t<tr><td>1123</td><td>729103</td><td>2094 CHALCO_BM               </td><td>ESTADO DE MÉXICO</td></tr>\n",
       "\t<tr><td>2013</td><td>666125</td><td>2177 AGENCIA SUANDY          </td><td>ESTADO DE MÉXICO</td></tr>\n",
       "\t<tr><td>1220</td><td>663934</td><td>2048 AG. IXTAPALUCA 1        </td><td>ESTADO DE MÉXICO</td></tr>\n",
       "\t<tr><td>1347</td><td>600687</td><td>2251 AGUASCALIENTES NORTE    </td><td>AGUASCALIENTES  </td></tr>\n",
       "\t<tr><td>1351</td><td>595562</td><td>2252 AGUASCALIENTES SIGLO XXI</td><td>AGUASCALIENTES  </td></tr>\n",
       "</tbody>\n",
       "</table>\n"
      ],
      "text/latex": [
       "A tibble: 6 × 4\n",
       "\\begin{tabular}{llll}\n",
       " Agencia\\_ID & absFreq & Town & State\\\\\n",
       " <int> & <int> & <chr> & <chr>\\\\\n",
       "\\hline\n",
       "\t 1911 & 806283 & 2309 NORTE                    & JALISCO         \\\\\n",
       "\t 1123 & 729103 & 2094 CHALCO\\_BM                & ESTADO DE MÉXICO\\\\\n",
       "\t 2013 & 666125 & 2177 AGENCIA SUANDY           & ESTADO DE MÉXICO\\\\\n",
       "\t 1220 & 663934 & 2048 AG. IXTAPALUCA 1         & ESTADO DE MÉXICO\\\\\n",
       "\t 1347 & 600687 & 2251 AGUASCALIENTES NORTE     & AGUASCALIENTES  \\\\\n",
       "\t 1351 & 595562 & 2252 AGUASCALIENTES SIGLO XXI & AGUASCALIENTES  \\\\\n",
       "\\end{tabular}\n"
      ],
      "text/markdown": [
       "\n",
       "A tibble: 6 × 4\n",
       "\n",
       "| Agencia_ID &lt;int&gt; | absFreq &lt;int&gt; | Town &lt;chr&gt; | State &lt;chr&gt; |\n",
       "|---|---|---|---|\n",
       "| 1911 | 806283 | 2309 NORTE                    | JALISCO          |\n",
       "| 1123 | 729103 | 2094 CHALCO_BM                | ESTADO DE MÉXICO |\n",
       "| 2013 | 666125 | 2177 AGENCIA SUANDY           | ESTADO DE MÉXICO |\n",
       "| 1220 | 663934 | 2048 AG. IXTAPALUCA 1         | ESTADO DE MÉXICO |\n",
       "| 1347 | 600687 | 2251 AGUASCALIENTES NORTE     | AGUASCALIENTES   |\n",
       "| 1351 | 595562 | 2252 AGUASCALIENTES SIGLO XXI | AGUASCALIENTES   |\n",
       "\n"
      ],
      "text/plain": [
       "  Agencia_ID absFreq Town                          State           \n",
       "1 1911       806283  2309 NORTE                    JALISCO         \n",
       "2 1123       729103  2094 CHALCO_BM                ESTADO DE MÉXICO\n",
       "3 2013       666125  2177 AGENCIA SUANDY           ESTADO DE MÉXICO\n",
       "4 1220       663934  2048 AG. IXTAPALUCA 1         ESTADO DE MÉXICO\n",
       "5 1347       600687  2251 AGUASCALIENTES NORTE     AGUASCALIENTES  \n",
       "6 1351       595562  2252 AGUASCALIENTES SIGLO XXI AGUASCALIENTES  "
      ]
     },
     "metadata": {
      "tags": []
     },
     "output_type": "display_data"
    }
   ],
   "source": [
    "# Determinando o endereço, o estado e ordenando de forma decrescente a frequência dos IDs das agências no dataset.\n",
    "\n",
    "AgencyIdFreq <- train %>%\n",
    "    select(Agencia_ID) %>%\n",
    "    group_by(Agencia_ID) %>%\n",
    "    summarise(absFreq = n()) %>%\n",
    "    arrange(desc(absFreq)) %>%\n",
    "    inner_join(town, by = 'Agencia_ID')\n",
    "\n",
    "# Visualizando os 5 IDs de agências mais frequentes.\n",
    "\n",
    "head(AgencyIdFreq)"
   ]
  },
  {
   "cell_type": "code",
   "execution_count": 50,
   "metadata": {
    "colab": {
     "base_uri": "https://localhost:8080/",
     "height": 0
    },
    "colab_type": "code",
    "id": "lG8OsjqqPjOD",
    "outputId": "e32d13ef-7229-4f8a-b508-b7861a709502"
   },
   "outputs": [
    {
     "data": {
      "text/html": [
       "<table>\n",
       "<caption>A tibble: 12 × 4</caption>\n",
       "<thead>\n",
       "\t<tr><th scope=col>Agencia_ID</th><th scope=col>absFreq</th><th scope=col>Town</th><th scope=col>State</th></tr>\n",
       "\t<tr><th scope=col>&lt;int&gt;</th><th scope=col>&lt;int&gt;</th><th scope=col>&lt;chr&gt;</th><th scope=col>&lt;chr&gt;</th></tr>\n",
       "</thead>\n",
       "<tbody>\n",
       "\t<tr><td>1911</td><td>806283</td><td>2309 NORTE                   </td><td>JALISCO         </td></tr>\n",
       "\t<tr><td>1123</td><td>729103</td><td>2094 CHALCO_BM               </td><td>ESTADO DE MÉXICO</td></tr>\n",
       "\t<tr><td>2013</td><td>666125</td><td>2177 AGENCIA SUANDY          </td><td>ESTADO DE MÉXICO</td></tr>\n",
       "\t<tr><td>1220</td><td>663934</td><td>2048 AG. IXTAPALUCA 1        </td><td>ESTADO DE MÉXICO</td></tr>\n",
       "\t<tr><td>1347</td><td>600687</td><td>2251 AGUASCALIENTES NORTE    </td><td>AGUASCALIENTES  </td></tr>\n",
       "\t<tr><td>1351</td><td>595562</td><td>2252 AGUASCALIENTES SIGLO XXI</td><td>AGUASCALIENTES  </td></tr>\n",
       "\t<tr><td>1912</td><td>579770</td><td>2294 GUADALAJARA             </td><td>JALISCO         </td></tr>\n",
       "\t<tr><td>1126</td><td>576979</td><td>2017 AG. SANTA CLARA         </td><td>ESTADO DE MÉXICO</td></tr>\n",
       "\t<tr><td>2015</td><td>575122</td><td>2154 ATLACOMULCO             </td><td>ESTADO DE MÉXICO</td></tr>\n",
       "\t<tr><td>1219</td><td>572966</td><td>2042 AG. TEPOZOTLAN          </td><td>ESTADO DE MÉXICO</td></tr>\n",
       "\t<tr><td>1945</td><td>570384</td><td>2322 ZAMORA MADERO           </td><td>MICHOACÁN       </td></tr>\n",
       "\t<tr><td>1312</td><td>567140</td><td>2278 ZAPOPAN BIMBO           </td><td>JALISCO         </td></tr>\n",
       "</tbody>\n",
       "</table>\n"
      ],
      "text/latex": [
       "A tibble: 12 × 4\n",
       "\\begin{tabular}{llll}\n",
       " Agencia\\_ID & absFreq & Town & State\\\\\n",
       " <int> & <int> & <chr> & <chr>\\\\\n",
       "\\hline\n",
       "\t 1911 & 806283 & 2309 NORTE                    & JALISCO         \\\\\n",
       "\t 1123 & 729103 & 2094 CHALCO\\_BM                & ESTADO DE MÉXICO\\\\\n",
       "\t 2013 & 666125 & 2177 AGENCIA SUANDY           & ESTADO DE MÉXICO\\\\\n",
       "\t 1220 & 663934 & 2048 AG. IXTAPALUCA 1         & ESTADO DE MÉXICO\\\\\n",
       "\t 1347 & 600687 & 2251 AGUASCALIENTES NORTE     & AGUASCALIENTES  \\\\\n",
       "\t 1351 & 595562 & 2252 AGUASCALIENTES SIGLO XXI & AGUASCALIENTES  \\\\\n",
       "\t 1912 & 579770 & 2294 GUADALAJARA              & JALISCO         \\\\\n",
       "\t 1126 & 576979 & 2017 AG. SANTA CLARA          & ESTADO DE MÉXICO\\\\\n",
       "\t 2015 & 575122 & 2154 ATLACOMULCO              & ESTADO DE MÉXICO\\\\\n",
       "\t 1219 & 572966 & 2042 AG. TEPOZOTLAN           & ESTADO DE MÉXICO\\\\\n",
       "\t 1945 & 570384 & 2322 ZAMORA MADERO            & MICHOACÁN       \\\\\n",
       "\t 1312 & 567140 & 2278 ZAPOPAN BIMBO            & JALISCO         \\\\\n",
       "\\end{tabular}\n"
      ],
      "text/markdown": [
       "\n",
       "A tibble: 12 × 4\n",
       "\n",
       "| Agencia_ID &lt;int&gt; | absFreq &lt;int&gt; | Town &lt;chr&gt; | State &lt;chr&gt; |\n",
       "|---|---|---|---|\n",
       "| 1911 | 806283 | 2309 NORTE                    | JALISCO          |\n",
       "| 1123 | 729103 | 2094 CHALCO_BM                | ESTADO DE MÉXICO |\n",
       "| 2013 | 666125 | 2177 AGENCIA SUANDY           | ESTADO DE MÉXICO |\n",
       "| 1220 | 663934 | 2048 AG. IXTAPALUCA 1         | ESTADO DE MÉXICO |\n",
       "| 1347 | 600687 | 2251 AGUASCALIENTES NORTE     | AGUASCALIENTES   |\n",
       "| 1351 | 595562 | 2252 AGUASCALIENTES SIGLO XXI | AGUASCALIENTES   |\n",
       "| 1912 | 579770 | 2294 GUADALAJARA              | JALISCO          |\n",
       "| 1126 | 576979 | 2017 AG. SANTA CLARA          | ESTADO DE MÉXICO |\n",
       "| 2015 | 575122 | 2154 ATLACOMULCO              | ESTADO DE MÉXICO |\n",
       "| 1219 | 572966 | 2042 AG. TEPOZOTLAN           | ESTADO DE MÉXICO |\n",
       "| 1945 | 570384 | 2322 ZAMORA MADERO            | MICHOACÁN        |\n",
       "| 1312 | 567140 | 2278 ZAPOPAN BIMBO            | JALISCO          |\n",
       "\n"
      ],
      "text/plain": [
       "   Agencia_ID absFreq Town                          State           \n",
       "1  1911       806283  2309 NORTE                    JALISCO         \n",
       "2  1123       729103  2094 CHALCO_BM                ESTADO DE MÉXICO\n",
       "3  2013       666125  2177 AGENCIA SUANDY           ESTADO DE MÉXICO\n",
       "4  1220       663934  2048 AG. IXTAPALUCA 1         ESTADO DE MÉXICO\n",
       "5  1347       600687  2251 AGUASCALIENTES NORTE     AGUASCALIENTES  \n",
       "6  1351       595562  2252 AGUASCALIENTES SIGLO XXI AGUASCALIENTES  \n",
       "7  1912       579770  2294 GUADALAJARA              JALISCO         \n",
       "8  1126       576979  2017 AG. SANTA CLARA          ESTADO DE MÉXICO\n",
       "9  2015       575122  2154 ATLACOMULCO              ESTADO DE MÉXICO\n",
       "10 1219       572966  2042 AG. TEPOZOTLAN           ESTADO DE MÉXICO\n",
       "11 1945       570384  2322 ZAMORA MADERO            MICHOACÁN       \n",
       "12 1312       567140  2278 ZAPOPAN BIMBO            JALISCO         "
      ]
     },
     "metadata": {
      "tags": []
     },
     "output_type": "display_data"
    }
   ],
   "source": [
    "# Extraindo outliers do dataset.\n",
    "\n",
    "AgencyIdStates <- AgencyIdFreq %>%\n",
    "    anomalize(absFreq, method = 'iqr', alpha = 0.10) %>%\n",
    "    filter(anomaly == 'Yes') %>%\n",
    "    select(-c(absFreq_l1, absFreq_l2, anomaly))\n",
    "\n",
    "# Visualizando as informações dos outliers.\n",
    "\n",
    "AgencyIdStates"
   ]
  },
  {
   "cell_type": "markdown",
   "metadata": {
    "colab_type": "text",
    "id": "yn-uH-o3u0H-"
   },
   "source": [
    "Parece haver um grupo de estados mais frequente dentro das informações destas agências discrepantes. Para facilitar esta análise, iremos criar um gráfico de barras. "
   ]
  },
  {
   "cell_type": "code",
   "execution_count": 51,
   "metadata": {
    "colab": {
     "base_uri": "https://localhost:8080/",
     "height": 0
    },
    "colab_type": "code",
    "id": "SFiuNlfqfg_Q",
    "outputId": "317d27bd-2832-4022-fb52-99d5c77a87be"
   },
   "outputs": [
    {
     "data": {
      "image/png": "[encoded data removed]",
      "text/plain": [
       "plot without title"
      ]
     },
     "metadata": {
      "image/png": {
       "height": 840,
       "width": 840
      },
      "tags": [],
      "text/plain": {
       "height": 840,
       "width": 840
      }
     },
     "output_type": "display_data"
    }
   ],
   "source": [
    "# Criando um gráfico de barras para os estados das agências que apresentaram uma frequência discrepante.\n",
    "\n",
    "# Definindo o nome da variável a ser analisada.\n",
    "\n",
    "col <- 'State'\n",
    "\n",
    "# Criando um gráfico de barras para a variável especificada.\n",
    "\n",
    "barPlot(col, AgencyIdStates)"
   ]
  },
  {
   "cell_type": "code",
   "execution_count": 52,
   "metadata": {
    "colab": {
     "base_uri": "https://localhost:8080/",
     "height": 0
    },
    "colab_type": "code",
    "id": "5BH-ZuT-gwcH",
    "outputId": "47734039-c11d-4303-d934-36c19ba1be71"
   },
   "outputs": [
    {
     "data": {
      "text/plain": [
       "\n",
       "  AGUASCALIENTES ESTADO DE MÉXICO          JALISCO        MICHOACÁN \n",
       "      0.16666667       0.50000000       0.25000000       0.08333333 "
      ]
     },
     "metadata": {
      "tags": []
     },
     "output_type": "display_data"
    }
   ],
   "source": [
    "# Determinando a proporção dos estados identificados entre os IDs das agências que apresentaram uma frequência discrepante.\n",
    "\n",
    "prop.table(table(AgencyIdStates$State))"
   ]
  },
  {
   "cell_type": "markdown",
   "metadata": {
    "colab_type": "text",
    "id": "d6gPqAyCJszo"
   },
   "source": [
    "Concluímos que o **Estado do México** apresenta 6 das agências mais recorrentes no conjunto de dados e que o estado de **Jalisco** é o que possui a agência mais frequente. "
   ]
  },
  {
   "cell_type": "markdown",
   "metadata": {
    "colab_type": "text",
    "id": "sDG2SGjW6xic"
   },
   "source": [
    "##### **4.2.4 Variável Canal_ID**"
   ]
  },
  {
   "cell_type": "code",
   "execution_count": 53,
   "metadata": {
    "colab": {
     "base_uri": "https://localhost:8080/",
     "height": 0
    },
    "colab_type": "code",
    "id": "NjUIlO7N643S",
    "outputId": "9a2e8ecb-696d-48a6-ccf8-0d67bf78830c"
   },
   "outputs": [
    {
     "data": {
      "image/png": "[encoded data removed]",
      "text/plain": [
       "plot without title"
      ]
     },
     "metadata": {
      "image/png": {
       "height": 840,
       "width": 840
      },
      "tags": [],
      "text/plain": {
       "height": 840,
       "width": 840
      }
     },
     "output_type": "display_data"
    }
   ],
   "source": [
    "# Plotando um gráfico de barras para o conjunto de dados da variável.\n",
    "\n",
    "# Definindo o nome da variável a ser analisada.\n",
    "\n",
    "col <- 'Canal_ID'\n",
    "\n",
    "# Criando um gráfico de barras para a variável especificada.\n",
    "\n",
    "barPlot(col, train)"
   ]
  },
  {
   "cell_type": "markdown",
   "metadata": {
    "colab_type": "text",
    "id": "IEahhzf58NKQ"
   },
   "source": [
    "Observamos que o canal de vendas com *ID* **1** é o mais frequente. Determinaremos a proporção da frequência de cada um destes canais dentro do conjunto de dados."
   ]
  },
  {
   "cell_type": "code",
   "execution_count": 54,
   "metadata": {
    "colab": {
     "base_uri": "https://localhost:8080/",
     "height": 0
    },
    "colab_type": "code",
    "id": "vCusD37x_rpp",
    "outputId": "4a39db9b-67c7-496e-f323-5c76b6ae3771"
   },
   "outputs": [
    {
     "data": {
      "text/html": [
       "<table>\n",
       "<caption>A tibble: 9 × 2</caption>\n",
       "<thead>\n",
       "\t<tr><th scope=col>Canal_ID</th><th scope=col>Prop</th></tr>\n",
       "\t<tr><th scope=col>&lt;fct&gt;</th><th scope=col>&lt;dbl&gt;</th></tr>\n",
       "</thead>\n",
       "<tbody>\n",
       "\t<tr><td>1 </td><td>90.907</td></tr>\n",
       "\t<tr><td>2 </td><td> 1.132</td></tr>\n",
       "\t<tr><td>4 </td><td> 5.066</td></tr>\n",
       "\t<tr><td>5 </td><td> 0.197</td></tr>\n",
       "\t<tr><td>6 </td><td> 0.379</td></tr>\n",
       "\t<tr><td>7 </td><td> 0.905</td></tr>\n",
       "\t<tr><td>8 </td><td> 0.090</td></tr>\n",
       "\t<tr><td>9 </td><td> 0.001</td></tr>\n",
       "\t<tr><td>11</td><td> 1.324</td></tr>\n",
       "</tbody>\n",
       "</table>\n"
      ],
      "text/latex": [
       "A tibble: 9 × 2\n",
       "\\begin{tabular}{ll}\n",
       " Canal\\_ID & Prop\\\\\n",
       " <fct> & <dbl>\\\\\n",
       "\\hline\n",
       "\t 1  & 90.907\\\\\n",
       "\t 2  &  1.132\\\\\n",
       "\t 4  &  5.066\\\\\n",
       "\t 5  &  0.197\\\\\n",
       "\t 6  &  0.379\\\\\n",
       "\t 7  &  0.905\\\\\n",
       "\t 8  &  0.090\\\\\n",
       "\t 9  &  0.001\\\\\n",
       "\t 11 &  1.324\\\\\n",
       "\\end{tabular}\n"
      ],
      "text/markdown": [
       "\n",
       "A tibble: 9 × 2\n",
       "\n",
       "| Canal_ID &lt;fct&gt; | Prop &lt;dbl&gt; |\n",
       "|---|---|\n",
       "| 1  | 90.907 |\n",
       "| 2  |  1.132 |\n",
       "| 4  |  5.066 |\n",
       "| 5  |  0.197 |\n",
       "| 6  |  0.379 |\n",
       "| 7  |  0.905 |\n",
       "| 8  |  0.090 |\n",
       "| 9  |  0.001 |\n",
       "| 11 |  1.324 |\n",
       "\n"
      ],
      "text/plain": [
       "  Canal_ID Prop  \n",
       "1 1        90.907\n",
       "2 2         1.132\n",
       "3 4         5.066\n",
       "4 5         0.197\n",
       "5 6         0.379\n",
       "6 7         0.905\n",
       "7 8         0.090\n",
       "8 9         0.001\n",
       "9 11        1.324"
      ]
     },
     "metadata": {
      "tags": []
     },
     "output_type": "display_data"
    }
   ],
   "source": [
    "# Determinando a propoção de cada um dos canais.\n",
    "\n",
    "train %>%\n",
    "    mutate(Canal_ID = as.factor(Canal_ID)) %>%\n",
    "    group_by(Canal_ID) %>%\n",
    "    summarise(Prop = round(n() / length(train$Canal_ID) * 100, digits = 3)) "
   ]
  },
  {
   "cell_type": "markdown",
   "metadata": {
    "colab_type": "text",
    "id": "H0vmDw5oEt5F"
   },
   "source": [
    "Concluímos que aproximadamente **91%** dos registros do conjunto de dados está associado ao **Canal com ID = 1**."
   ]
  },
  {
   "cell_type": "markdown",
   "metadata": {
    "colab_type": "text",
    "id": "4v-dZwu580XP"
   },
   "source": [
    "##### **4.2.5 Variável Ruta_SAK**"
   ]
  },
  {
   "cell_type": "code",
   "execution_count": 55,
   "metadata": {
    "colab": {
     "base_uri": "https://localhost:8080/",
     "height": 0
    },
    "colab_type": "code",
    "id": "kuUYRzOb84wy",
    "outputId": "7dda89d4-227a-4931-c67c-dc996e1cf7f0"
   },
   "outputs": [
    {
     "data": {
      "image/png": "[encoded data removed]",
      "text/plain": [
       "plot without title"
      ]
     },
     "metadata": {
      "image/png": {
       "height": 840,
       "width": 840
      },
      "tags": [],
      "text/plain": {
       "height": 840,
       "width": 840
      }
     },
     "output_type": "display_data"
    }
   ],
   "source": [
    "# Criando um boxplot com as frequências com que as rotas usadas aparecem no conjunto de dados.\n",
    "\n",
    "# Definindo o nome da variável a ser analisada.\n",
    "\n",
    "col <- 'Ruta_SAK'\n",
    "\n",
    "# Criando um gráfico de boxplot para a variável especificada.\n",
    "\n",
    "boxPlot(col, train) "
   ]
  },
  {
   "cell_type": "markdown",
   "metadata": {
    "colab_type": "text",
    "id": "WnBrJ1TgT11m"
   },
   "source": [
    "Há um grande número de outliers dentro desta variável. Pode ser interessante extraí-los e análisá-los separadamente."
   ]
  },
  {
   "cell_type": "code",
   "execution_count": 56,
   "metadata": {
    "colab": {
     "base_uri": "https://localhost:8080/",
     "height": 0
    },
    "colab_type": "code",
    "id": "wlaLLh8MGLFM",
    "outputId": "7b848989-7c47-4e60-9353-2646185966e1"
   },
   "outputs": [
    {
     "data": {
      "text/html": [
       "<table>\n",
       "<caption>A tibble: 6 × 2</caption>\n",
       "<thead>\n",
       "\t<tr><th scope=col>Ruta_SAK</th><th scope=col>absFreq</th></tr>\n",
       "\t<tr><th scope=col>&lt;int&gt;</th><th scope=col>&lt;int&gt;</th></tr>\n",
       "</thead>\n",
       "<tbody>\n",
       "\t<tr><td>1201</td><td>461918</td></tr>\n",
       "\t<tr><td>1203</td><td>438474</td></tr>\n",
       "\t<tr><td>1202</td><td>427767</td></tr>\n",
       "\t<tr><td>1204</td><td>418744</td></tr>\n",
       "\t<tr><td>1205</td><td>409597</td></tr>\n",
       "\t<tr><td>1206</td><td>391245</td></tr>\n",
       "</tbody>\n",
       "</table>\n"
      ],
      "text/latex": [
       "A tibble: 6 × 2\n",
       "\\begin{tabular}{ll}\n",
       " Ruta\\_SAK & absFreq\\\\\n",
       " <int> & <int>\\\\\n",
       "\\hline\n",
       "\t 1201 & 461918\\\\\n",
       "\t 1203 & 438474\\\\\n",
       "\t 1202 & 427767\\\\\n",
       "\t 1204 & 418744\\\\\n",
       "\t 1205 & 409597\\\\\n",
       "\t 1206 & 391245\\\\\n",
       "\\end{tabular}\n"
      ],
      "text/markdown": [
       "\n",
       "A tibble: 6 × 2\n",
       "\n",
       "| Ruta_SAK &lt;int&gt; | absFreq &lt;int&gt; |\n",
       "|---|---|\n",
       "| 1201 | 461918 |\n",
       "| 1203 | 438474 |\n",
       "| 1202 | 427767 |\n",
       "| 1204 | 418744 |\n",
       "| 1205 | 409597 |\n",
       "| 1206 | 391245 |\n",
       "\n"
      ],
      "text/plain": [
       "  Ruta_SAK absFreq\n",
       "1 1201     461918 \n",
       "2 1203     438474 \n",
       "3 1202     427767 \n",
       "4 1204     418744 \n",
       "5 1205     409597 \n",
       "6 1206     391245 "
      ]
     },
     "metadata": {
      "tags": []
     },
     "output_type": "display_data"
    }
   ],
   "source": [
    "# Determinando em ordem decrescente as rotas mais frequentes dentro do conjunto de dados.\n",
    "\n",
    "routeFreq <- train %>%\n",
    "    group_by(Ruta_SAK) %>%\n",
    "    summarise(absFreq = n()) %>%\n",
    "    arrange(desc(absFreq))\n",
    "\n",
    "# Visualizando as primeiras linhas do dataset.\n",
    "\n",
    "head(routeFreq)"
   ]
  },
  {
   "cell_type": "code",
   "execution_count": 57,
   "metadata": {
    "colab": {
     "base_uri": "https://localhost:8080/",
     "height": 0
    },
    "colab_type": "code",
    "id": "dmXFNmFZHouB",
    "outputId": "dd2198eb-faa0-411e-d141-fb18fd3c1fcc"
   },
   "outputs": [
    {
     "data": {
      "text/html": [
       "605"
      ],
      "text/latex": [
       "605"
      ],
      "text/markdown": [
       "605"
      ],
      "text/plain": [
       "[1] 605"
      ]
     },
     "metadata": {
      "tags": []
     },
     "output_type": "display_data"
    }
   ],
   "source": [
    "# Extraindo outliers do dataset.\n",
    "\n",
    "routeOutFreq <- routeFreq %>%\n",
    "    anomalize(absFreq, method = 'iqr', alpha = 0.10) %>%\n",
    "    filter(anomaly == 'Yes') %>%\n",
    "    select(-c(absFreq_l1, absFreq_l2, anomaly))\n",
    "\n",
    "# Determinando número de outliers.\n",
    "\n",
    "nrow(routeOutFreq)"
   ]
  },
  {
   "cell_type": "markdown",
   "metadata": {
    "colab_type": "text",
    "id": "nnZnAXGfUVC9"
   },
   "source": [
    "Bom, detectamos a existência de **605 rotas** com frequências discrepantes dentro do conjunto de dados."
   ]
  },
  {
   "cell_type": "code",
   "execution_count": 58,
   "metadata": {
    "colab": {
     "base_uri": "https://localhost:8080/",
     "height": 0
    },
    "colab_type": "code",
    "id": "tpN9aWxXO9r8",
    "outputId": "fb76b654-05f8-43d3-b443-f6d38076714e"
   },
   "outputs": [
    {
     "data": {
      "text/html": [
       "<table>\n",
       "<caption>A tibble: 1 × 2</caption>\n",
       "<thead>\n",
       "\t<tr><th scope=col>Ruta_SAK</th><th scope=col>absFreq</th></tr>\n",
       "\t<tr><th scope=col>&lt;int&gt;</th><th scope=col>&lt;int&gt;</th></tr>\n",
       "</thead>\n",
       "<tbody>\n",
       "\t<tr><td>1201</td><td>461918</td></tr>\n",
       "</tbody>\n",
       "</table>\n"
      ],
      "text/latex": [
       "A tibble: 1 × 2\n",
       "\\begin{tabular}{ll}\n",
       " Ruta\\_SAK & absFreq\\\\\n",
       " <int> & <int>\\\\\n",
       "\\hline\n",
       "\t 1201 & 461918\\\\\n",
       "\\end{tabular}\n"
      ],
      "text/markdown": [
       "\n",
       "A tibble: 1 × 2\n",
       "\n",
       "| Ruta_SAK &lt;int&gt; | absFreq &lt;int&gt; |\n",
       "|---|---|\n",
       "| 1201 | 461918 |\n",
       "\n"
      ],
      "text/plain": [
       "  Ruta_SAK absFreq\n",
       "1 1201     461918 "
      ]
     },
     "metadata": {
      "tags": []
     },
     "output_type": "display_data"
    }
   ],
   "source": [
    "# Determinando a rota mais frequente dentro do conjunto de dados.\n",
    "\n",
    "routeOutFreq[routeOutFreq$absFreq == max(routeOutFreq$absFreq), ]"
   ]
  },
  {
   "cell_type": "markdown",
   "metadata": {
    "colab_type": "text",
    "id": "2s16pD9JVF7w"
   },
   "source": [
    "Constatamos que **a rota 1201 é a mais recorrente** no dataset."
   ]
  },
  {
   "cell_type": "code",
   "execution_count": 59,
   "metadata": {
    "colab": {
     "base_uri": "https://localhost:8080/",
     "height": 0
    },
    "colab_type": "code",
    "id": "5Ss5GwjdcLR_",
    "outputId": "3ee696e1-fe9c-4e1c-a7d0-9abaca5a3e23"
   },
   "outputs": [
    {
     "data": {
      "text/html": [
       "16.7915625867333"
      ],
      "text/latex": [
       "16.7915625867333"
      ],
      "text/markdown": [
       "16.7915625867333"
      ],
      "text/plain": [
       "[1] 16.79156"
      ]
     },
     "metadata": {
      "tags": []
     },
     "output_type": "display_data"
    }
   ],
   "source": [
    "# Determinando a proporção de rotas com frequências discrepantes.\n",
    "\n",
    "length(routeOutFreq$Ruta_SAK) / length(unique(train$Ruta_SAK)) * 100"
   ]
  },
  {
   "cell_type": "code",
   "execution_count": 60,
   "metadata": {
    "colab": {
     "base_uri": "https://localhost:8080/",
     "height": 0
    },
    "colab_type": "code",
    "id": "Vbq-uw8fPv2s",
    "outputId": "4f608573-b17b-411e-bf16-2c79a0d09c1a"
   },
   "outputs": [
    {
     "data": {
      "text/html": [
       "86.3783623677522"
      ],
      "text/latex": [
       "86.3783623677522"
      ],
      "text/markdown": [
       "86.3783623677522"
      ],
      "text/plain": [
       "[1] 86.37836"
      ]
     },
     "metadata": {
      "tags": []
     },
     "output_type": "display_data"
    }
   ],
   "source": [
    "# Determinando a proporção de registros associados as rotas discrepantes.\n",
    "\n",
    "sum(routeOutFreq$absFreq) / length(train$Ruta_SAK) * 100"
   ]
  },
  {
   "cell_type": "markdown",
   "metadata": {
    "colab_type": "text",
    "id": "1YAuy2cwWGs-"
   },
   "source": [
    "Por fim, concluímos que aproximadamente **16.8%** das rotas apresentam frequências discrepantes e são responsáveis por **86.38%** das entregas."
   ]
  },
  {
   "cell_type": "markdown",
   "metadata": {
    "colab_type": "text",
    "id": "fTr40_XNDL-V"
   },
   "source": [
    "##### **4.2.6 Variável Cliente_ID**"
   ]
  },
  {
   "cell_type": "code",
   "execution_count": 61,
   "metadata": {
    "colab": {
     "base_uri": "https://localhost:8080/",
     "height": 0
    },
    "colab_type": "code",
    "id": "CZdLOlK-DL-Y",
    "outputId": "1925cf17-d7d9-4988-905c-a9e0ec8ca06f"
   },
   "outputs": [
    {
     "data": {
      "image/png": "[encoded data removed]",
      "text/plain": [
       "plot without title"
      ]
     },
     "metadata": {
      "image/png": {
       "height": 840,
       "width": 840
      },
      "tags": [],
      "text/plain": {
       "height": 840,
       "width": 840
      }
     },
     "output_type": "display_data"
    }
   ],
   "source": [
    "# Criando um boxplot com as frequências com que os IDs dos clientes que estão presentes no dataset aparecem.\n",
    "\n",
    "# Definindo o nome da variável a ser analisada.\n",
    "\n",
    "col <- 'Cliente_ID'\n",
    "\n",
    "# Criando um gráfico de boxplot para a variável especificada.\n",
    "\n",
    "boxPlot(col, train) "
   ]
  },
  {
   "cell_type": "markdown",
   "metadata": {
    "colab_type": "text",
    "id": "Gg8WgAgvDL-c"
   },
   "source": [
    "Veja que interessante, há um cliente que apresenta uma frequência extremamente alta em relação aos demais e acaba distorcendo o gráfico. Vamos identificar o nome deste cliente junto com os dos demais outliers."
   ]
  },
  {
   "cell_type": "code",
   "execution_count": 62,
   "metadata": {
    "colab": {
     "base_uri": "https://localhost:8080/",
     "height": 0
    },
    "colab_type": "code",
    "id": "vjvDIfmgjGv-",
    "outputId": "9ee45679-0b95-42dd-9f45-3d14f605af2b"
   },
   "outputs": [
    {
     "data": {
      "text/html": [
       "<table>\n",
       "<caption>A tibble: 6 × 3</caption>\n",
       "<thead>\n",
       "\t<tr><th scope=col>Cliente_ID</th><th scope=col>absFreq</th><th scope=col>NombreCliente</th></tr>\n",
       "\t<tr><th scope=col>&lt;int&gt;</th><th scope=col>&lt;int&gt;</th><th scope=col>&lt;chr&gt;</th></tr>\n",
       "</thead>\n",
       "<tbody>\n",
       "\t<tr><td> 653378</td><td>124059</td><td>PUEBLA REMISION              </td></tr>\n",
       "\t<tr><td> 653039</td><td>  5306</td><td>QUERETARO DE ARTEAGA REMISION</td></tr>\n",
       "\t<tr><td> 652850</td><td>  2622</td><td>JALISCO REMISION             </td></tr>\n",
       "\t<tr><td> 652889</td><td>  1620</td><td>CHIHUAHUA REMISION           </td></tr>\n",
       "\t<tr><td>1093627</td><td>  1394</td><td>SUPERAMA RIO MAYO            </td></tr>\n",
       "\t<tr><td> 653124</td><td>  1362</td><td>TAMAULIPAS REMISION          </td></tr>\n",
       "</tbody>\n",
       "</table>\n"
      ],
      "text/latex": [
       "A tibble: 6 × 3\n",
       "\\begin{tabular}{lll}\n",
       " Cliente\\_ID & absFreq & NombreCliente\\\\\n",
       " <int> & <int> & <chr>\\\\\n",
       "\\hline\n",
       "\t  653378 & 124059 & PUEBLA REMISION              \\\\\n",
       "\t  653039 &   5306 & QUERETARO DE ARTEAGA REMISION\\\\\n",
       "\t  652850 &   2622 & JALISCO REMISION             \\\\\n",
       "\t  652889 &   1620 & CHIHUAHUA REMISION           \\\\\n",
       "\t 1093627 &   1394 & SUPERAMA RIO MAYO            \\\\\n",
       "\t  653124 &   1362 & TAMAULIPAS REMISION          \\\\\n",
       "\\end{tabular}\n"
      ],
      "text/markdown": [
       "\n",
       "A tibble: 6 × 3\n",
       "\n",
       "| Cliente_ID &lt;int&gt; | absFreq &lt;int&gt; | NombreCliente &lt;chr&gt; |\n",
       "|---|---|---|\n",
       "|  653378 | 124059 | PUEBLA REMISION               |\n",
       "|  653039 |   5306 | QUERETARO DE ARTEAGA REMISION |\n",
       "|  652850 |   2622 | JALISCO REMISION              |\n",
       "|  652889 |   1620 | CHIHUAHUA REMISION            |\n",
       "| 1093627 |   1394 | SUPERAMA RIO MAYO             |\n",
       "|  653124 |   1362 | TAMAULIPAS REMISION           |\n",
       "\n"
      ],
      "text/plain": [
       "  Cliente_ID absFreq NombreCliente                \n",
       "1  653378    124059  PUEBLA REMISION              \n",
       "2  653039      5306  QUERETARO DE ARTEAGA REMISION\n",
       "3  652850      2622  JALISCO REMISION             \n",
       "4  652889      1620  CHIHUAHUA REMISION           \n",
       "5 1093627      1394  SUPERAMA RIO MAYO            \n",
       "6  653124      1362  TAMAULIPAS REMISION          "
      ]
     },
     "metadata": {
      "tags": []
     },
     "output_type": "display_data"
    }
   ],
   "source": [
    "# Determinando em ordem decrescente os clientes mais frequentes dentro do conjunto de dados.\n",
    "\n",
    "clientFreq <- train %>%\n",
    "    select(Cliente_ID) %>%\n",
    "    group_by(Cliente_ID) %>%\n",
    "    summarise(absFreq = n()) %>%\n",
    "    arrange(desc(absFreq)) %>%\n",
    "    inner_join(client, by = 'Cliente_ID')\n",
    "\n",
    "# Visualizando as primeiras linhas do dataset.\n",
    "\n",
    "head(clientFreq)"
   ]
  },
  {
   "cell_type": "markdown",
   "metadata": {
    "colab_type": "text",
    "id": "4DglX7OxVWZl"
   },
   "source": [
    "O cliente mais discrepante possui uma frequência que é aproximadamente **23.4 vezes maior** do que a do cliente que ocupa a segunda posição nos dando uma breve noção do quão distante este primeiro colocado está dos demais."
   ]
  },
  {
   "cell_type": "code",
   "execution_count": 63,
   "metadata": {
    "colab": {
     "base_uri": "https://localhost:8080/",
     "height": 0
    },
    "colab_type": "code",
    "id": "b1G_5xFsBFbD",
    "outputId": "e0903968-5006-4f9e-a850-b1c399b06b0b"
   },
   "outputs": [
    {
     "data": {
      "text/html": [
       "1622"
      ],
      "text/latex": [
       "1622"
      ],
      "text/markdown": [
       "1622"
      ],
      "text/plain": [
       "[1] 1622"
      ]
     },
     "metadata": {
      "tags": []
     },
     "output_type": "display_data"
    }
   ],
   "source": [
    "# Extraindo outliers do dataset.\n",
    "\n",
    "clientOutFreq <- clientFreq %>%\n",
    "    anomalize(absFreq, method = 'iqr', alpha = 0.0415) %>%\n",
    "    filter(anomaly == 'Yes') %>%\n",
    "    select(-c(absFreq_l1, absFreq_l2, anomaly))\n",
    "\n",
    "# Determinando número de outliers.\n",
    "\n",
    "nrow(clientOutFreq)"
   ]
  },
  {
   "cell_type": "markdown",
   "metadata": {
    "colab_type": "text",
    "id": "qUi7KSdnXpwZ"
   },
   "source": [
    "Verificamos a existência de **1622** *IDs* de clientes com frequências discrepantes dentro do conjunto de dados."
   ]
  },
  {
   "cell_type": "code",
   "execution_count": 64,
   "metadata": {
    "colab": {
     "base_uri": "https://localhost:8080/",
     "height": 0
    },
    "colab_type": "code",
    "id": "1CYw4j3oJBlc",
    "outputId": "e64c00ee-1767-40b4-f66a-a5bbe069b952"
   },
   "outputs": [
    {
     "data": {
      "text/html": [
       "<table>\n",
       "<caption>A tibble: 1 × 3</caption>\n",
       "<thead>\n",
       "\t<tr><th scope=col>Cliente_ID</th><th scope=col>absFreq</th><th scope=col>NombreCliente</th></tr>\n",
       "\t<tr><th scope=col>&lt;int&gt;</th><th scope=col>&lt;int&gt;</th><th scope=col>&lt;chr&gt;</th></tr>\n",
       "</thead>\n",
       "<tbody>\n",
       "\t<tr><td>653378</td><td>124059</td><td>PUEBLA REMISION</td></tr>\n",
       "</tbody>\n",
       "</table>\n"
      ],
      "text/latex": [
       "A tibble: 1 × 3\n",
       "\\begin{tabular}{lll}\n",
       " Cliente\\_ID & absFreq & NombreCliente\\\\\n",
       " <int> & <int> & <chr>\\\\\n",
       "\\hline\n",
       "\t 653378 & 124059 & PUEBLA REMISION\\\\\n",
       "\\end{tabular}\n"
      ],
      "text/markdown": [
       "\n",
       "A tibble: 1 × 3\n",
       "\n",
       "| Cliente_ID &lt;int&gt; | absFreq &lt;int&gt; | NombreCliente &lt;chr&gt; |\n",
       "|---|---|---|\n",
       "| 653378 | 124059 | PUEBLA REMISION |\n",
       "\n"
      ],
      "text/plain": [
       "  Cliente_ID absFreq NombreCliente  \n",
       "1 653378     124059  PUEBLA REMISION"
      ]
     },
     "metadata": {
      "tags": []
     },
     "output_type": "display_data"
    }
   ],
   "source": [
    "# Determinando o cliente mais frequente dentro do conjunto de dados.\n",
    "\n",
    "mostFrequentClient <- clientOutFreq[clientOutFreq$absFreq == max(clientOutFreq$absFreq), ]\n",
    "\n",
    "# Visualizando o cliente mais frequente dentro do conjunto de dados.\n",
    "\n",
    "mostFrequentClient"
   ]
  },
  {
   "cell_type": "markdown",
   "metadata": {
    "colab_type": "text",
    "id": "0ApEqiq_YgFl"
   },
   "source": [
    "Identificamos que o nome do cliente que possuí o *ID* mais recorrente dentro do dataset é **\"Puebla Remision\"**."
   ]
  },
  {
   "cell_type": "code",
   "execution_count": 65,
   "metadata": {
    "colab": {
     "base_uri": "https://localhost:8080/",
     "height": 0
    },
    "colab_type": "code",
    "id": "nXO3Uk2mKQo3",
    "outputId": "42f8b999-9019-40f6-d359-286e781ba27a"
   },
   "outputs": [
    {
     "data": {
      "text/html": [
       "0.167239449998587"
      ],
      "text/latex": [
       "0.167239449998587"
      ],
      "text/markdown": [
       "0.167239449998587"
      ],
      "text/plain": [
       "[1] 0.1672394"
      ]
     },
     "metadata": {
      "tags": []
     },
     "output_type": "display_data"
    }
   ],
   "source": [
    "# Determinando a proporção de registros que contém o ID do Cliente com a frequência mais discrepante.\n",
    "\n",
    "mostFrequentClient$absFreq / length(train$Cliente_ID) * 100"
   ]
  },
  {
   "cell_type": "markdown",
   "metadata": {
    "colab_type": "text",
    "id": "94ejXxsyY5P-"
   },
   "source": [
    "O cliente **\"Puebla Remision\"** está associado a aproximadamente **0.167%** dos registros do conjunto de dados."
   ]
  },
  {
   "cell_type": "code",
   "execution_count": 66,
   "metadata": {
    "colab": {
     "base_uri": "https://localhost:8080/",
     "height": 0
    },
    "colab_type": "code",
    "id": "pj09UKqmT6fe",
    "outputId": "9c6ab7bf-8d6c-4aa4-eb39-166b87624488"
   },
   "outputs": [
    {
     "data": {
      "text/html": [
       "1.37362311457097"
      ],
      "text/latex": [
       "1.37362311457097"
      ],
      "text/markdown": [
       "1.37362311457097"
      ],
      "text/plain": [
       "[1] 1.373623"
      ]
     },
     "metadata": {
      "tags": []
     },
     "output_type": "display_data"
    }
   ],
   "source": [
    "# Determinando a proporção de registros que contém os IDs dos Clientes com as frequências mais discrepantes.\n",
    "\n",
    "sum(clientOutFreq$absFreq) / length(train$Cliente_ID) * 100"
   ]
  },
  {
   "cell_type": "markdown",
   "metadata": {
    "colab_type": "text",
    "id": "IeOjMN6-Z49C"
   },
   "source": [
    "Todos os registros associados a *IDs* de clientes que possuem uma frequência discrepante correspondem a aproximadamente **1.37%** do total. Isto nos indica que a maior parte dos dados que estamos manipulando estão relacionados a muitos clientes que efetuam compras com uma frequência que não foge do padrão."
   ]
  },
  {
   "cell_type": "markdown",
   "metadata": {
    "colab_type": "text",
    "id": "BI_oLnSqFYb8"
   },
   "source": [
    "##### **4.2.7 Variável Producto_ID**"
   ]
  },
  {
   "cell_type": "code",
   "execution_count": 67,
   "metadata": {
    "colab": {
     "base_uri": "https://localhost:8080/",
     "height": 0
    },
    "colab_type": "code",
    "id": "--LinGTWf-Iu",
    "outputId": "704ce024-3458-4d02-d803-4af9cf967db6"
   },
   "outputs": [
    {
     "data": {
      "image/png": "[encoded data removed]",
      "text/plain": [
       "plot without title"
      ]
     },
     "metadata": {
      "image/png": {
       "height": 840,
       "width": 840
      },
      "tags": [],
      "text/plain": {
       "height": 840,
       "width": 840
      }
     },
     "output_type": "display_data"
    }
   ],
   "source": [
    "# Criando um boxplot com as frequências com que os IDs dos produtos que estão presentes no dataset aparecem.\n",
    "\n",
    "# Definindo o nome da variável a ser analisada.\n",
    "\n",
    "col <- 'Producto_ID'\n",
    "\n",
    "# Criando um gráfico de boxplot para a variável especificada.\n",
    "\n",
    "boxPlot(col, train) "
   ]
  },
  {
   "cell_type": "markdown",
   "metadata": {
    "colab_type": "text",
    "id": "Xc2TjwpEFYcJ"
   },
   "source": [
    "Existem muitos outliers entre as frequências dos produtos. Isto indica que há um subconjunto de itens que fogem do padrão de venda do resto dos demais produtos."
   ]
  },
  {
   "cell_type": "code",
   "execution_count": 68,
   "metadata": {
    "colab": {
     "base_uri": "https://localhost:8080/",
     "height": 0
    },
    "colab_type": "code",
    "id": "VBTpkX8AgmA1",
    "outputId": "b2fc3101-41a2-48e7-d192-f596c548255f"
   },
   "outputs": [
    {
     "data": {
      "text/html": [
       "<table>\n",
       "<caption>A tibble: 6 × 6</caption>\n",
       "<thead>\n",
       "\t<tr><th scope=col>Producto_ID</th><th scope=col>absFreq</th><th scope=col>NombreProducto</th><th scope=col>Npeso</th><th scope=col>UniPeso</th><th scope=col>Productor</th></tr>\n",
       "\t<tr><th scope=col>&lt;int&gt;</th><th scope=col>&lt;int&gt;</th><th scope=col>&lt;chr&gt;</th><th scope=col>&lt;int&gt;</th><th scope=col>&lt;chr&gt;</th><th scope=col>&lt;chr&gt;</th></tr>\n",
       "</thead>\n",
       "<tbody>\n",
       "\t<tr><td>1240</td><td>2146655</td><td>Mantecadas Vainilla   </td><td>125</td><td>g</td><td> BIM </td></tr>\n",
       "\t<tr><td>1242</td><td>2043864</td><td>Donitas Espolvoreadas </td><td>105</td><td>g</td><td> BIM </td></tr>\n",
       "\t<tr><td>2233</td><td>1975550</td><td>Pan Blanco            </td><td>640</td><td>g</td><td> BIM </td></tr>\n",
       "\t<tr><td>1250</td><td>1860488</td><td>Donas Azucar          </td><td>105</td><td>g</td><td> BIM </td></tr>\n",
       "\t<tr><td>1284</td><td>1670190</td><td>Rebanada              </td><td> 55</td><td>g</td><td> BIM </td></tr>\n",
       "\t<tr><td>1232</td><td>1472082</td><td>Panque Nuez           </td><td>255</td><td>g</td><td> BIM </td></tr>\n",
       "</tbody>\n",
       "</table>\n"
      ],
      "text/latex": [
       "A tibble: 6 × 6\n",
       "\\begin{tabular}{llllll}\n",
       " Producto\\_ID & absFreq & NombreProducto & Npeso & UniPeso & Productor\\\\\n",
       " <int> & <int> & <chr> & <int> & <chr> & <chr>\\\\\n",
       "\\hline\n",
       "\t 1240 & 2146655 & Mantecadas Vainilla    & 125 & g &  BIM \\\\\n",
       "\t 1242 & 2043864 & Donitas Espolvoreadas  & 105 & g &  BIM \\\\\n",
       "\t 2233 & 1975550 & Pan Blanco             & 640 & g &  BIM \\\\\n",
       "\t 1250 & 1860488 & Donas Azucar           & 105 & g &  BIM \\\\\n",
       "\t 1284 & 1670190 & Rebanada               &  55 & g &  BIM \\\\\n",
       "\t 1232 & 1472082 & Panque Nuez            & 255 & g &  BIM \\\\\n",
       "\\end{tabular}\n"
      ],
      "text/markdown": [
       "\n",
       "A tibble: 6 × 6\n",
       "\n",
       "| Producto_ID &lt;int&gt; | absFreq &lt;int&gt; | NombreProducto &lt;chr&gt; | Npeso &lt;int&gt; | UniPeso &lt;chr&gt; | Productor &lt;chr&gt; |\n",
       "|---|---|---|---|---|---|\n",
       "| 1240 | 2146655 | Mantecadas Vainilla    | 125 | g |  BIM  |\n",
       "| 1242 | 2043864 | Donitas Espolvoreadas  | 105 | g |  BIM  |\n",
       "| 2233 | 1975550 | Pan Blanco             | 640 | g |  BIM  |\n",
       "| 1250 | 1860488 | Donas Azucar           | 105 | g |  BIM  |\n",
       "| 1284 | 1670190 | Rebanada               |  55 | g |  BIM  |\n",
       "| 1232 | 1472082 | Panque Nuez            | 255 | g |  BIM  |\n",
       "\n"
      ],
      "text/plain": [
       "  Producto_ID absFreq NombreProducto         Npeso UniPeso Productor\n",
       "1 1240        2146655 Mantecadas Vainilla    125   g        BIM     \n",
       "2 1242        2043864 Donitas Espolvoreadas  105   g        BIM     \n",
       "3 2233        1975550 Pan Blanco             640   g        BIM     \n",
       "4 1250        1860488 Donas Azucar           105   g        BIM     \n",
       "5 1284        1670190 Rebanada                55   g        BIM     \n",
       "6 1232        1472082 Panque Nuez            255   g        BIM     "
      ]
     },
     "metadata": {
      "tags": []
     },
     "output_type": "display_data"
    }
   ],
   "source": [
    "# Determinando em ordem decrescente os produtos mais frequentes dentro do conjunto de dados.\n",
    "\n",
    "productFreq <- train %>%\n",
    "    select(Producto_ID) %>%\n",
    "    group_by(Producto_ID) %>%\n",
    "    summarise(absFreq = n()) %>%\n",
    "    arrange(desc(absFreq)) %>%\n",
    "    inner_join(product, by = 'Producto_ID')\n",
    "\n",
    "# Visualizando as primeiras linhas do dataset.\n",
    "\n",
    "head(productFreq)"
   ]
  },
  {
   "cell_type": "code",
   "execution_count": 69,
   "metadata": {
    "colab": {
     "base_uri": "https://localhost:8080/",
     "height": 0
    },
    "colab_type": "code",
    "id": "NrfDzvA5uaIo",
    "outputId": "a2f23568-e8d5-48d8-f330-04780f2283b8"
   },
   "outputs": [
    {
     "data": {
      "text/html": [
       "333"
      ],
      "text/latex": [
       "333"
      ],
      "text/markdown": [
       "333"
      ],
      "text/plain": [
       "[1] 333"
      ]
     },
     "metadata": {
      "tags": []
     },
     "output_type": "display_data"
    }
   ],
   "source": [
    "# Extraindo outliers do dataset.\n",
    "\n",
    "productOutFreq <- productFreq %>%\n",
    "    anomalize(absFreq, method = 'iqr', alpha = 0.1) %>%\n",
    "    filter(anomaly == 'Yes') %>%\n",
    "    select(-c(absFreq_l1, absFreq_l2, anomaly))\n",
    "\n",
    "# Determinando número de outliers.\n",
    "\n",
    "nrow(productOutFreq)"
   ]
  },
  {
   "cell_type": "markdown",
   "metadata": {
    "colab_type": "text",
    "id": "Ry4nV3poNaR-"
   },
   "source": [
    "Observamos que existem **333 frequências** de produtos discreprantes."
   ]
  },
  {
   "cell_type": "code",
   "execution_count": 70,
   "metadata": {
    "colab": {
     "base_uri": "https://localhost:8080/",
     "height": 0
    },
    "colab_type": "code",
    "id": "hXvZHF4tvxjl",
    "outputId": "391306a6-74cb-47e5-95f2-e8fee224f50d"
   },
   "outputs": [
    {
     "data": {
      "text/html": [
       "<table>\n",
       "<caption>A tibble: 1 × 6</caption>\n",
       "<thead>\n",
       "\t<tr><th scope=col>Producto_ID</th><th scope=col>absFreq</th><th scope=col>NombreProducto</th><th scope=col>Npeso</th><th scope=col>UniPeso</th><th scope=col>Productor</th></tr>\n",
       "\t<tr><th scope=col>&lt;int&gt;</th><th scope=col>&lt;int&gt;</th><th scope=col>&lt;chr&gt;</th><th scope=col>&lt;int&gt;</th><th scope=col>&lt;chr&gt;</th><th scope=col>&lt;chr&gt;</th></tr>\n",
       "</thead>\n",
       "<tbody>\n",
       "\t<tr><td>1240</td><td>2146655</td><td>Mantecadas Vainilla </td><td>125</td><td>g</td><td> BIM </td></tr>\n",
       "</tbody>\n",
       "</table>\n"
      ],
      "text/latex": [
       "A tibble: 1 × 6\n",
       "\\begin{tabular}{llllll}\n",
       " Producto\\_ID & absFreq & NombreProducto & Npeso & UniPeso & Productor\\\\\n",
       " <int> & <int> & <chr> & <int> & <chr> & <chr>\\\\\n",
       "\\hline\n",
       "\t 1240 & 2146655 & Mantecadas Vainilla  & 125 & g &  BIM \\\\\n",
       "\\end{tabular}\n"
      ],
      "text/markdown": [
       "\n",
       "A tibble: 1 × 6\n",
       "\n",
       "| Producto_ID &lt;int&gt; | absFreq &lt;int&gt; | NombreProducto &lt;chr&gt; | Npeso &lt;int&gt; | UniPeso &lt;chr&gt; | Productor &lt;chr&gt; |\n",
       "|---|---|---|---|---|---|\n",
       "| 1240 | 2146655 | Mantecadas Vainilla  | 125 | g |  BIM  |\n",
       "\n"
      ],
      "text/plain": [
       "  Producto_ID absFreq NombreProducto       Npeso UniPeso Productor\n",
       "1 1240        2146655 Mantecadas Vainilla  125   g        BIM     "
      ]
     },
     "metadata": {
      "tags": []
     },
     "output_type": "display_data"
    }
   ],
   "source": [
    "# Determinando o produto mais frequente dentro do conjunto de dados.\n",
    "\n",
    "mostFrequentProduct <- productOutFreq[productOutFreq$absFreq == max(productOutFreq$absFreq), ]\n",
    "\n",
    "# Visualizando o produto mais frequente dentro do conjunto de dados.\n",
    "\n",
    "mostFrequentProduct"
   ]
  },
  {
   "cell_type": "markdown",
   "metadata": {
    "colab_type": "text",
    "id": "T1_5Dkd2MF_r"
   },
   "source": [
    "Detectamos que o produto que mais apresenta registros de vendas dentro do nosso conjunto de dados é denominado **\"Mantecadas Vainilla\"**."
   ]
  },
  {
   "cell_type": "code",
   "execution_count": 71,
   "metadata": {
    "colab": {
     "base_uri": "https://localhost:8080/",
     "height": 0
    },
    "colab_type": "code",
    "id": "G5rnvPc1xS4d",
    "outputId": "a14ba237-e105-44b2-83b4-7371942ba996"
   },
   "outputs": [
    {
     "data": {
      "text/html": [
       "96.7568132224139"
      ],
      "text/latex": [
       "96.7568132224139"
      ],
      "text/markdown": [
       "96.7568132224139"
      ],
      "text/plain": [
       "[1] 96.75681"
      ]
     },
     "metadata": {
      "tags": []
     },
     "output_type": "display_data"
    }
   ],
   "source": [
    "# Determinando a proporção de registros que contém os IDs dos produtos com as frequências discrepantes.\n",
    "\n",
    "sum(productOutFreq$absFreq) / length(train$Producto_ID) * 100"
   ]
  },
  {
   "cell_type": "markdown",
   "metadata": {
    "colab_type": "text",
    "id": "EiMwUHAZOXzm"
   },
   "source": [
    "Os produtos que apresentam uma frequência discrepante dentro do conjunto de dados são responsáveis por aproximadamente **96.76%** dos registros."
   ]
  },
  {
   "cell_type": "code",
   "execution_count": 72,
   "metadata": {
    "colab": {
     "base_uri": "https://localhost:8080/",
     "height": 0
    },
    "colab_type": "code",
    "id": "O5jYr_MlJet2",
    "outputId": "23ab8210-420a-4151-d019-721a8548aa1e"
   },
   "outputs": [
    {
     "data": {
      "text/html": [
       "<table>\n",
       "<caption>A tibble: 6 × 2</caption>\n",
       "<thead>\n",
       "\t<tr><th scope=col>Productor</th><th scope=col>absFreq</th></tr>\n",
       "\t<tr><th scope=col>&lt;chr&gt;</th><th scope=col>&lt;int&gt;</th></tr>\n",
       "</thead>\n",
       "<tbody>\n",
       "\t<tr><td> BIM     </td><td>62</td></tr>\n",
       "\t<tr><td> MLA     </td><td>30</td></tr>\n",
       "\t<tr><td> MTA BIM </td><td>29</td></tr>\n",
       "\t<tr><td> TR      </td><td>28</td></tr>\n",
       "\t<tr><td> MTB MLA </td><td>21</td></tr>\n",
       "\t<tr><td> MTA MLA </td><td>13</td></tr>\n",
       "</tbody>\n",
       "</table>\n"
      ],
      "text/latex": [
       "A tibble: 6 × 2\n",
       "\\begin{tabular}{ll}\n",
       " Productor & absFreq\\\\\n",
       " <chr> & <int>\\\\\n",
       "\\hline\n",
       "\t  BIM      & 62\\\\\n",
       "\t  MLA      & 30\\\\\n",
       "\t  MTA BIM  & 29\\\\\n",
       "\t  TR       & 28\\\\\n",
       "\t  MTB MLA  & 21\\\\\n",
       "\t  MTA MLA  & 13\\\\\n",
       "\\end{tabular}\n"
      ],
      "text/markdown": [
       "\n",
       "A tibble: 6 × 2\n",
       "\n",
       "| Productor &lt;chr&gt; | absFreq &lt;int&gt; |\n",
       "|---|---|\n",
       "|  BIM      | 62 |\n",
       "|  MLA      | 30 |\n",
       "|  MTA BIM  | 29 |\n",
       "|  TR       | 28 |\n",
       "|  MTB MLA  | 21 |\n",
       "|  MTA MLA  | 13 |\n",
       "\n"
      ],
      "text/plain": [
       "  Productor absFreq\n",
       "1  BIM      62     \n",
       "2  MLA      30     \n",
       "3  MTA BIM  29     \n",
       "4  TR       28     \n",
       "5  MTB MLA  21     \n",
       "6  MTA MLA  13     "
      ]
     },
     "metadata": {
      "tags": []
     },
     "output_type": "display_data"
    }
   ],
   "source": [
    "# Determinando a sigla do fabricante mais recorrente dentro do conjunto de dados que contém os IDs dos produtos com as frequências discrepantes.\n",
    "\n",
    "manufacturersOut <- productOutFreq %>%\n",
    "    group_by(Productor) %>%\n",
    "    summarise(absFreq = n()) %>%\n",
    "    arrange(desc(absFreq))\n",
    "\n",
    "# Visualizando as primeiras linhas do dataset.\n",
    "\n",
    "head(manufacturersOut)"
   ]
  },
  {
   "cell_type": "markdown",
   "metadata": {
    "colab_type": "text",
    "id": "xTRlltgkPJEB"
   },
   "source": [
    "Concluímos que o fabricante identificado pela sigla **BIM** é o mais recorrente dentro dos produtos que apresentam uma frequência discrepante."
   ]
  },
  {
   "cell_type": "markdown",
   "metadata": {
    "colab_type": "text",
    "id": "zEDC96h1Jziu"
   },
   "source": [
    "##### **4.2.8 Variável Venta_uni_hoy**"
   ]
  },
  {
   "cell_type": "code",
   "execution_count": 73,
   "metadata": {
    "colab": {
     "base_uri": "https://localhost:8080/",
     "height": 0
    },
    "colab_type": "code",
    "id": "GRzWJ8IlKLJR",
    "outputId": "a882880f-ae4a-4ad7-a713-ab1d375fc4c4"
   },
   "outputs": [
    {
     "data": {
      "text/plain": [
       "   Min. 1st Qu.  Median    Mean 3rd Qu.    Max. \n",
       "   0.00    2.00    3.00    7.31    7.00 7200.00 "
      ]
     },
     "metadata": {
      "tags": []
     },
     "output_type": "display_data"
    }
   ],
   "source": [
    "# Verificando a distribuição dos dados.\n",
    "\n",
    "summary(train$Venta_uni_hoy)"
   ]
  },
  {
   "cell_type": "code",
   "execution_count": 74,
   "metadata": {
    "colab": {
     "base_uri": "https://localhost:8080/",
     "height": 0
    },
    "colab_type": "code",
    "id": "96QvcAmvL3AA",
    "outputId": "63b8b2e0-fab8-4567-b5f0-b10b694754a1"
   },
   "outputs": [
    {
     "data": {
      "text/html": [
       "<table>\n",
       "<caption>A tibble: 10 × 2</caption>\n",
       "<thead>\n",
       "\t<tr><th scope=col>Venta_uni_hoy</th><th scope=col>absFreq</th></tr>\n",
       "\t<tr><th scope=col>&lt;int&gt;</th><th scope=col>&lt;int&gt;</th></tr>\n",
       "</thead>\n",
       "<tbody>\n",
       "\t<tr><td> 2</td><td>15299482</td></tr>\n",
       "\t<tr><td> 1</td><td>13496679</td></tr>\n",
       "\t<tr><td> 3</td><td> 9271143</td></tr>\n",
       "\t<tr><td> 4</td><td> 7260737</td></tr>\n",
       "\t<tr><td> 5</td><td> 5707842</td></tr>\n",
       "\t<tr><td> 6</td><td> 4272687</td></tr>\n",
       "\t<tr><td>10</td><td> 2929543</td></tr>\n",
       "\t<tr><td> 8</td><td> 2423855</td></tr>\n",
       "\t<tr><td> 7</td><td> 1762233</td></tr>\n",
       "\t<tr><td> 9</td><td> 1191273</td></tr>\n",
       "</tbody>\n",
       "</table>\n"
      ],
      "text/latex": [
       "A tibble: 10 × 2\n",
       "\\begin{tabular}{ll}\n",
       " Venta\\_uni\\_hoy & absFreq\\\\\n",
       " <int> & <int>\\\\\n",
       "\\hline\n",
       "\t  2 & 15299482\\\\\n",
       "\t  1 & 13496679\\\\\n",
       "\t  3 &  9271143\\\\\n",
       "\t  4 &  7260737\\\\\n",
       "\t  5 &  5707842\\\\\n",
       "\t  6 &  4272687\\\\\n",
       "\t 10 &  2929543\\\\\n",
       "\t  8 &  2423855\\\\\n",
       "\t  7 &  1762233\\\\\n",
       "\t  9 &  1191273\\\\\n",
       "\\end{tabular}\n"
      ],
      "text/markdown": [
       "\n",
       "A tibble: 10 × 2\n",
       "\n",
       "| Venta_uni_hoy &lt;int&gt; | absFreq &lt;int&gt; |\n",
       "|---|---|\n",
       "|  2 | 15299482 |\n",
       "|  1 | 13496679 |\n",
       "|  3 |  9271143 |\n",
       "|  4 |  7260737 |\n",
       "|  5 |  5707842 |\n",
       "|  6 |  4272687 |\n",
       "| 10 |  2929543 |\n",
       "|  8 |  2423855 |\n",
       "|  7 |  1762233 |\n",
       "|  9 |  1191273 |\n",
       "\n"
      ],
      "text/plain": [
       "   Venta_uni_hoy absFreq \n",
       "1   2            15299482\n",
       "2   1            13496679\n",
       "3   3             9271143\n",
       "4   4             7260737\n",
       "5   5             5707842\n",
       "6   6             4272687\n",
       "7  10             2929543\n",
       "8   8             2423855\n",
       "9   7             1762233\n",
       "10  9             1191273"
      ]
     },
     "metadata": {
      "tags": []
     },
     "output_type": "display_data"
    }
   ],
   "source": [
    "# Verificando a frequência com que cada número de unidades aparece no dataset.\n",
    "\n",
    "t <- train %>%\n",
    "    group_by(Venta_uni_hoy) %>%\n",
    "    summarise(absFreq = n()) \n",
    "\n",
    "# Ordenando dados das frequências em ordem decrescente.\n",
    "\n",
    "t <- t[order(t$absFreq, decreasing = T), ]\n",
    "\n",
    "# Visualizando o número de unidades mais frequentes no dataset.\n",
    "\n",
    "head(t, 10)"
   ]
  },
  {
   "cell_type": "markdown",
   "metadata": {
    "colab_type": "text",
    "id": "dt-8Kdr1PcIg"
   },
   "source": [
    "Concluímos que as vendas com **2 unidades** são as mais frequentes dentro do conjunto de dados e que o número das 10 unidades mais frequentes varia entre **1 e 10**."
   ]
  },
  {
   "cell_type": "markdown",
   "metadata": {
    "colab_type": "text",
    "id": "2rEmoOjUQK0x"
   },
   "source": [
    "##### **4.2.9 Variável Venta_hoy**"
   ]
  },
  {
   "cell_type": "code",
   "execution_count": 75,
   "metadata": {
    "colab": {
     "base_uri": "https://localhost:8080/",
     "height": 0
    },
    "colab_type": "code",
    "id": "ppBe6_r-QK01",
    "outputId": "c82b8f89-3763-4b10-bd80-f0bf95134ac1"
   },
   "outputs": [
    {
     "data": {
      "text/plain": [
       "    Min.  1st Qu.   Median     Mean  3rd Qu.     Max. \n",
       "     0.0     16.8     30.0     68.5     56.1 647360.0 "
      ]
     },
     "metadata": {
      "tags": []
     },
     "output_type": "display_data"
    }
   ],
   "source": [
    "# Verificando a distribuição dos dados.\n",
    "\n",
    "summary(train$Venta_hoy)"
   ]
  },
  {
   "cell_type": "code",
   "execution_count": 76,
   "metadata": {
    "colab": {
     "base_uri": "https://localhost:8080/",
     "height": 0
    },
    "colab_type": "code",
    "id": "9kXNHN2Fg25s",
    "outputId": "6a7a458a-fb53-4f73-a54d-68c3c2b2b2c2"
   },
   "outputs": [
    {
     "data": {
      "text/html": [
       "<table>\n",
       "<caption>A tibble: 7 × 2</caption>\n",
       "<thead>\n",
       "\t<tr><th scope=col>Semana</th><th scope=col>total_Venta_hoy</th></tr>\n",
       "\t<tr><th scope=col>&lt;int&gt;</th><th scope=col>&lt;dbl&gt;</th></tr>\n",
       "</thead>\n",
       "<tbody>\n",
       "\t<tr><td>3</td><td>748577947</td></tr>\n",
       "\t<tr><td>4</td><td>755607344</td></tr>\n",
       "\t<tr><td>5</td><td>727925232</td></tr>\n",
       "\t<tr><td>6</td><td>701524062</td></tr>\n",
       "\t<tr><td>7</td><td>721662485</td></tr>\n",
       "\t<tr><td>8</td><td>713412753</td></tr>\n",
       "\t<tr><td>9</td><td>715954667</td></tr>\n",
       "</tbody>\n",
       "</table>\n"
      ],
      "text/latex": [
       "A tibble: 7 × 2\n",
       "\\begin{tabular}{ll}\n",
       " Semana & total\\_Venta\\_hoy\\\\\n",
       " <int> & <dbl>\\\\\n",
       "\\hline\n",
       "\t 3 & 748577947\\\\\n",
       "\t 4 & 755607344\\\\\n",
       "\t 5 & 727925232\\\\\n",
       "\t 6 & 701524062\\\\\n",
       "\t 7 & 721662485\\\\\n",
       "\t 8 & 713412753\\\\\n",
       "\t 9 & 715954667\\\\\n",
       "\\end{tabular}\n"
      ],
      "text/markdown": [
       "\n",
       "A tibble: 7 × 2\n",
       "\n",
       "| Semana &lt;int&gt; | total_Venta_hoy &lt;dbl&gt; |\n",
       "|---|---|\n",
       "| 3 | 748577947 |\n",
       "| 4 | 755607344 |\n",
       "| 5 | 727925232 |\n",
       "| 6 | 701524062 |\n",
       "| 7 | 721662485 |\n",
       "| 8 | 713412753 |\n",
       "| 9 | 715954667 |\n",
       "\n"
      ],
      "text/plain": [
       "  Semana total_Venta_hoy\n",
       "1 3      748577947      \n",
       "2 4      755607344      \n",
       "3 5      727925232      \n",
       "4 6      701524062      \n",
       "5 7      721662485      \n",
       "6 8      713412753      \n",
       "7 9      715954667      "
      ]
     },
     "metadata": {
      "tags": []
     },
     "output_type": "display_data"
    }
   ],
   "source": [
    "# Definindo o valor total de vendas por semana.\n",
    "\n",
    "train %>%\n",
    "    group_by(Semana) %>%\n",
    "    summarise(total_Venta_hoy = sum(Venta_hoy))"
   ]
  },
  {
   "cell_type": "code",
   "execution_count": 77,
   "metadata": {
    "colab": {
     "base_uri": "https://localhost:8080/",
     "height": 0
    },
    "colab_type": "code",
    "id": "v-afKPQRhgQZ",
    "outputId": "b6bacfe7-bf24-41cf-97e8-e0368aaa918c"
   },
   "outputs": [
    {
     "data": {
      "text/html": [
       "<table>\n",
       "<caption>A tibble: 10 × 2</caption>\n",
       "<thead>\n",
       "\t<tr><th scope=col>Cliente_ID</th><th scope=col>total_Venta_hoy</th></tr>\n",
       "\t<tr><th scope=col>&lt;int&gt;</th><th scope=col>&lt;dbl&gt;</th></tr>\n",
       "</thead>\n",
       "<tbody>\n",
       "\t<tr><td> 653378</td><td>154662268</td></tr>\n",
       "\t<tr><td> 653039</td><td>  7697623</td></tr>\n",
       "\t<tr><td> 827594</td><td>  4814696</td></tr>\n",
       "\t<tr><td> 652850</td><td>  4018867</td></tr>\n",
       "\t<tr><td>1216931</td><td>  3325557</td></tr>\n",
       "\t<tr><td>5903732</td><td>  2931618</td></tr>\n",
       "\t<tr><td>1200400</td><td>  2819876</td></tr>\n",
       "\t<tr><td>2502084</td><td>  2650769</td></tr>\n",
       "\t<tr><td>  19260</td><td>  2599059</td></tr>\n",
       "\t<tr><td>     60</td><td>  2148013</td></tr>\n",
       "</tbody>\n",
       "</table>\n"
      ],
      "text/latex": [
       "A tibble: 10 × 2\n",
       "\\begin{tabular}{ll}\n",
       " Cliente\\_ID & total\\_Venta\\_hoy\\\\\n",
       " <int> & <dbl>\\\\\n",
       "\\hline\n",
       "\t  653378 & 154662268\\\\\n",
       "\t  653039 &   7697623\\\\\n",
       "\t  827594 &   4814696\\\\\n",
       "\t  652850 &   4018867\\\\\n",
       "\t 1216931 &   3325557\\\\\n",
       "\t 5903732 &   2931618\\\\\n",
       "\t 1200400 &   2819876\\\\\n",
       "\t 2502084 &   2650769\\\\\n",
       "\t   19260 &   2599059\\\\\n",
       "\t      60 &   2148013\\\\\n",
       "\\end{tabular}\n"
      ],
      "text/markdown": [
       "\n",
       "A tibble: 10 × 2\n",
       "\n",
       "| Cliente_ID &lt;int&gt; | total_Venta_hoy &lt;dbl&gt; |\n",
       "|---|---|\n",
       "|  653378 | 154662268 |\n",
       "|  653039 |   7697623 |\n",
       "|  827594 |   4814696 |\n",
       "|  652850 |   4018867 |\n",
       "| 1216931 |   3325557 |\n",
       "| 5903732 |   2931618 |\n",
       "| 1200400 |   2819876 |\n",
       "| 2502084 |   2650769 |\n",
       "|   19260 |   2599059 |\n",
       "|      60 |   2148013 |\n",
       "\n"
      ],
      "text/plain": [
       "   Cliente_ID total_Venta_hoy\n",
       "1   653378    154662268      \n",
       "2   653039      7697623      \n",
       "3   827594      4814696      \n",
       "4   652850      4018867      \n",
       "5  1216931      3325557      \n",
       "6  5903732      2931618      \n",
       "7  1200400      2819876      \n",
       "8  2502084      2650769      \n",
       "9    19260      2599059      \n",
       "10      60      2148013      "
      ]
     },
     "metadata": {
      "tags": []
     },
     "output_type": "display_data"
    }
   ],
   "source": [
    "# Definindo o valor total de vendas por cliente.\n",
    "\n",
    "train %>%\n",
    "    group_by(Cliente_ID ) %>%\n",
    "    summarise(total_Venta_hoy = sum(Venta_hoy)) %>%\n",
    "    arrange(desc(total_Venta_hoy)) %>%\n",
    "    head(10)"
   ]
  },
  {
   "cell_type": "markdown",
   "metadata": {
    "colab_type": "text",
    "id": "pJScZP_Skry7"
   },
   "source": [
    "##### **4.2.10 Variável Dev_uni_proxima**"
   ]
  },
  {
   "cell_type": "code",
   "execution_count": 78,
   "metadata": {
    "colab": {
     "base_uri": "https://localhost:8080/",
     "height": 0
    },
    "colab_type": "code",
    "id": "zfcBawoFk4gB",
    "outputId": "48764d71-08c7-4483-b423-7df77b31c890"
   },
   "outputs": [
    {
     "data": {
      "text/plain": [
       "   Min. 1st Qu.  Median    Mean 3rd Qu.    Max. \n",
       "0.0e+00 0.0e+00 0.0e+00 1.3e-01 0.0e+00 2.5e+05 "
      ]
     },
     "metadata": {
      "tags": []
     },
     "output_type": "display_data"
    }
   ],
   "source": [
    "# Verificando a distribuição dos dados.\n",
    "\n",
    "summary(train$Dev_uni_proxima)"
   ]
  },
  {
   "cell_type": "code",
   "execution_count": 79,
   "metadata": {
    "colab": {
     "base_uri": "https://localhost:8080/",
     "height": 0
    },
    "colab_type": "code",
    "id": "RwlGk8OBiXhU",
    "outputId": "c050bb2b-d67d-4523-b328-d7ad8a49cc65"
   },
   "outputs": [
    {
     "data": {
      "text/html": [
       "<table>\n",
       "<caption>A tibble: 7 × 2</caption>\n",
       "<thead>\n",
       "\t<tr><th scope=col>Semana</th><th scope=col>total_Dev_uni_proxima</th></tr>\n",
       "\t<tr><th scope=col>&lt;int&gt;</th><th scope=col>&lt;int&gt;</th></tr>\n",
       "</thead>\n",
       "<tbody>\n",
       "\t<tr><td>3</td><td>1286055</td></tr>\n",
       "\t<tr><td>4</td><td>1322852</td></tr>\n",
       "\t<tr><td>5</td><td>1220967</td></tr>\n",
       "\t<tr><td>6</td><td>1321510</td></tr>\n",
       "\t<tr><td>7</td><td>1417450</td></tr>\n",
       "\t<tr><td>8</td><td>1452369</td></tr>\n",
       "\t<tr><td>9</td><td>1641371</td></tr>\n",
       "</tbody>\n",
       "</table>\n"
      ],
      "text/latex": [
       "A tibble: 7 × 2\n",
       "\\begin{tabular}{ll}\n",
       " Semana & total\\_Dev\\_uni\\_proxima\\\\\n",
       " <int> & <int>\\\\\n",
       "\\hline\n",
       "\t 3 & 1286055\\\\\n",
       "\t 4 & 1322852\\\\\n",
       "\t 5 & 1220967\\\\\n",
       "\t 6 & 1321510\\\\\n",
       "\t 7 & 1417450\\\\\n",
       "\t 8 & 1452369\\\\\n",
       "\t 9 & 1641371\\\\\n",
       "\\end{tabular}\n"
      ],
      "text/markdown": [
       "\n",
       "A tibble: 7 × 2\n",
       "\n",
       "| Semana &lt;int&gt; | total_Dev_uni_proxima &lt;int&gt; |\n",
       "|---|---|\n",
       "| 3 | 1286055 |\n",
       "| 4 | 1322852 |\n",
       "| 5 | 1220967 |\n",
       "| 6 | 1321510 |\n",
       "| 7 | 1417450 |\n",
       "| 8 | 1452369 |\n",
       "| 9 | 1641371 |\n",
       "\n"
      ],
      "text/plain": [
       "  Semana total_Dev_uni_proxima\n",
       "1 3      1286055              \n",
       "2 4      1322852              \n",
       "3 5      1220967              \n",
       "4 6      1321510              \n",
       "5 7      1417450              \n",
       "6 8      1452369              \n",
       "7 9      1641371              "
      ]
     },
     "metadata": {
      "tags": []
     },
     "output_type": "display_data"
    }
   ],
   "source": [
    "# Definindo o número total de unidades retornadas na próxima semana.\n",
    "\n",
    "train %>%\n",
    "    group_by(Semana) %>%\n",
    "    summarise(total_Dev_uni_proxima = sum(Dev_uni_proxima))"
   ]
  },
  {
   "cell_type": "code",
   "execution_count": 80,
   "metadata": {
    "colab": {
     "base_uri": "https://localhost:8080/",
     "height": 0
    },
    "colab_type": "code",
    "id": "ec-RDTcRiXhZ",
    "outputId": "99016005-8659-4928-9d20-1270388b9aba"
   },
   "outputs": [
    {
     "data": {
      "text/html": [
       "<table>\n",
       "<caption>A tibble: 6 × 2</caption>\n",
       "<thead>\n",
       "\t<tr><th scope=col>Cliente_ID</th><th scope=col>total_Dev_uni_proxima</th></tr>\n",
       "\t<tr><th scope=col>&lt;int&gt;</th><th scope=col>&lt;int&gt;</th></tr>\n",
       "</thead>\n",
       "<tbody>\n",
       "\t<tr><td> 653378</td><td>1131794</td></tr>\n",
       "\t<tr><td> 652850</td><td>  59664</td></tr>\n",
       "\t<tr><td>1050905</td><td>  50778</td></tr>\n",
       "\t<tr><td>4102610</td><td>  38653</td></tr>\n",
       "\t<tr><td> 653058</td><td>  18938</td></tr>\n",
       "\t<tr><td> 652889</td><td>  17752</td></tr>\n",
       "</tbody>\n",
       "</table>\n"
      ],
      "text/latex": [
       "A tibble: 6 × 2\n",
       "\\begin{tabular}{ll}\n",
       " Cliente\\_ID & total\\_Dev\\_uni\\_proxima\\\\\n",
       " <int> & <int>\\\\\n",
       "\\hline\n",
       "\t  653378 & 1131794\\\\\n",
       "\t  652850 &   59664\\\\\n",
       "\t 1050905 &   50778\\\\\n",
       "\t 4102610 &   38653\\\\\n",
       "\t  653058 &   18938\\\\\n",
       "\t  652889 &   17752\\\\\n",
       "\\end{tabular}\n"
      ],
      "text/markdown": [
       "\n",
       "A tibble: 6 × 2\n",
       "\n",
       "| Cliente_ID &lt;int&gt; | total_Dev_uni_proxima &lt;int&gt; |\n",
       "|---|---|\n",
       "|  653378 | 1131794 |\n",
       "|  652850 |   59664 |\n",
       "| 1050905 |   50778 |\n",
       "| 4102610 |   38653 |\n",
       "|  653058 |   18938 |\n",
       "|  652889 |   17752 |\n",
       "\n"
      ],
      "text/plain": [
       "  Cliente_ID total_Dev_uni_proxima\n",
       "1  653378    1131794              \n",
       "2  652850      59664              \n",
       "3 1050905      50778              \n",
       "4 4102610      38653              \n",
       "5  653058      18938              \n",
       "6  652889      17752              "
      ]
     },
     "metadata": {
      "tags": []
     },
     "output_type": "display_data"
    }
   ],
   "source": [
    "# Definindo o número total de unidades retornadas na próxima semana por cliente.\n",
    "\n",
    "train %>%\n",
    "    group_by(Cliente_ID) %>%\n",
    "    summarise(total_Dev_uni_proxima = sum(Dev_uni_proxima)) %>%\n",
    "    arrange(desc(total_Dev_uni_proxima)) %>%\n",
    "    head()"
   ]
  },
  {
   "cell_type": "markdown",
   "metadata": {
    "colab_type": "text",
    "id": "hGXVH1gCrqtm"
   },
   "source": [
    "##### **4.2.11 Variável Dev_proxima**"
   ]
  },
  {
   "cell_type": "code",
   "execution_count": 81,
   "metadata": {
    "colab": {
     "base_uri": "https://localhost:8080/",
     "height": 0
    },
    "colab_type": "code",
    "id": "tkyKqMUjrqtw",
    "outputId": "99f9f1bc-7435-4e84-b30b-823797c32c02"
   },
   "outputs": [
    {
     "data": {
      "text/plain": [
       "     Min.   1st Qu.    Median      Mean   3rd Qu.      Max. \n",
       "     0.00      0.00      0.00      1.24      0.00 130760.00 "
      ]
     },
     "metadata": {
      "tags": []
     },
     "output_type": "display_data"
    }
   ],
   "source": [
    "# Verificando a distribuição dos dados.\n",
    "\n",
    "summary(train$Dev_proxima)"
   ]
  },
  {
   "cell_type": "code",
   "execution_count": 82,
   "metadata": {
    "colab": {
     "base_uri": "https://localhost:8080/",
     "height": 0
    },
    "colab_type": "code",
    "id": "VZG9aLEDr_h0",
    "outputId": "cd1a3b91-6fcb-4e14-c855-9d58351d5aea"
   },
   "outputs": [
    {
     "data": {
      "text/html": [
       "<table>\n",
       "<caption>A tibble: 7 × 2</caption>\n",
       "<thead>\n",
       "\t<tr><th scope=col>Semana</th><th scope=col>total_Dev_proxima</th></tr>\n",
       "\t<tr><th scope=col>&lt;int&gt;</th><th scope=col>&lt;dbl&gt;</th></tr>\n",
       "</thead>\n",
       "<tbody>\n",
       "\t<tr><td>3</td><td>12794465</td></tr>\n",
       "\t<tr><td>4</td><td>13371045</td></tr>\n",
       "\t<tr><td>5</td><td>12336363</td></tr>\n",
       "\t<tr><td>6</td><td>12886385</td></tr>\n",
       "\t<tr><td>7</td><td>13693831</td></tr>\n",
       "\t<tr><td>8</td><td>13885240</td></tr>\n",
       "\t<tr><td>9</td><td>13257387</td></tr>\n",
       "</tbody>\n",
       "</table>\n"
      ],
      "text/latex": [
       "A tibble: 7 × 2\n",
       "\\begin{tabular}{ll}\n",
       " Semana & total\\_Dev\\_proxima\\\\\n",
       " <int> & <dbl>\\\\\n",
       "\\hline\n",
       "\t 3 & 12794465\\\\\n",
       "\t 4 & 13371045\\\\\n",
       "\t 5 & 12336363\\\\\n",
       "\t 6 & 12886385\\\\\n",
       "\t 7 & 13693831\\\\\n",
       "\t 8 & 13885240\\\\\n",
       "\t 9 & 13257387\\\\\n",
       "\\end{tabular}\n"
      ],
      "text/markdown": [
       "\n",
       "A tibble: 7 × 2\n",
       "\n",
       "| Semana &lt;int&gt; | total_Dev_proxima &lt;dbl&gt; |\n",
       "|---|---|\n",
       "| 3 | 12794465 |\n",
       "| 4 | 13371045 |\n",
       "| 5 | 12336363 |\n",
       "| 6 | 12886385 |\n",
       "| 7 | 13693831 |\n",
       "| 8 | 13885240 |\n",
       "| 9 | 13257387 |\n",
       "\n"
      ],
      "text/plain": [
       "  Semana total_Dev_proxima\n",
       "1 3      12794465         \n",
       "2 4      13371045         \n",
       "3 5      12336363         \n",
       "4 6      12886385         \n",
       "5 7      13693831         \n",
       "6 8      13885240         \n",
       "7 9      13257387         "
      ]
     },
     "metadata": {
      "tags": []
     },
     "output_type": "display_data"
    }
   ],
   "source": [
    "# Definindo o valor total retornado na próxima semana.\n",
    "\n",
    "train %>%\n",
    "    group_by(Semana) %>%\n",
    "    summarise(total_Dev_proxima = sum(Dev_proxima))"
   ]
  },
  {
   "cell_type": "code",
   "execution_count": 83,
   "metadata": {
    "colab": {
     "base_uri": "https://localhost:8080/",
     "height": 0
    },
    "colab_type": "code",
    "id": "_h1dw8Plr_h7",
    "outputId": "372ea768-34db-46ba-e93c-3eb535f22a9e"
   },
   "outputs": [
    {
     "data": {
      "text/html": [
       "<table>\n",
       "<caption>A tibble: 6 × 2</caption>\n",
       "<thead>\n",
       "\t<tr><th scope=col>Cliente_ID</th><th scope=col>total_Dev_proxima</th></tr>\n",
       "\t<tr><th scope=col>&lt;int&gt;</th><th scope=col>&lt;dbl&gt;</th></tr>\n",
       "</thead>\n",
       "<tbody>\n",
       "\t<tr><td> 653378</td><td>7367474.2</td></tr>\n",
       "\t<tr><td> 652850</td><td> 495570.2</td></tr>\n",
       "\t<tr><td>1050905</td><td> 390252.8</td></tr>\n",
       "\t<tr><td>4102610</td><td> 364382.0</td></tr>\n",
       "\t<tr><td> 653058</td><td> 160844.6</td></tr>\n",
       "\t<tr><td> 652889</td><td> 149645.1</td></tr>\n",
       "</tbody>\n",
       "</table>\n"
      ],
      "text/latex": [
       "A tibble: 6 × 2\n",
       "\\begin{tabular}{ll}\n",
       " Cliente\\_ID & total\\_Dev\\_proxima\\\\\n",
       " <int> & <dbl>\\\\\n",
       "\\hline\n",
       "\t  653378 & 7367474.2\\\\\n",
       "\t  652850 &  495570.2\\\\\n",
       "\t 1050905 &  390252.8\\\\\n",
       "\t 4102610 &  364382.0\\\\\n",
       "\t  653058 &  160844.6\\\\\n",
       "\t  652889 &  149645.1\\\\\n",
       "\\end{tabular}\n"
      ],
      "text/markdown": [
       "\n",
       "A tibble: 6 × 2\n",
       "\n",
       "| Cliente_ID &lt;int&gt; | total_Dev_proxima &lt;dbl&gt; |\n",
       "|---|---|\n",
       "|  653378 | 7367474.2 |\n",
       "|  652850 |  495570.2 |\n",
       "| 1050905 |  390252.8 |\n",
       "| 4102610 |  364382.0 |\n",
       "|  653058 |  160844.6 |\n",
       "|  652889 |  149645.1 |\n",
       "\n"
      ],
      "text/plain": [
       "  Cliente_ID total_Dev_proxima\n",
       "1  653378    7367474.2        \n",
       "2  652850     495570.2        \n",
       "3 1050905     390252.8        \n",
       "4 4102610     364382.0        \n",
       "5  653058     160844.6        \n",
       "6  652889     149645.1        "
      ]
     },
     "metadata": {
      "tags": []
     },
     "output_type": "display_data"
    }
   ],
   "source": [
    "# Definindo o valor total retornado na próxima semana por cliente.\n",
    "\n",
    "train %>%\n",
    "    group_by(Cliente_ID) %>%\n",
    "    summarise(total_Dev_proxima = sum(Dev_proxima)) %>%\n",
    "    arrange(desc(total_Dev_proxima)) %>%\n",
    "    head()"
   ]
  },
  {
   "cell_type": "markdown",
   "metadata": {
    "colab_type": "text",
    "id": "eVa2ddK4LN42"
   },
   "source": [
    "##### **4.2.12 Variável Demanda_uni_equil**"
   ]
  },
  {
   "cell_type": "code",
   "execution_count": 84,
   "metadata": {
    "colab": {
     "base_uri": "https://localhost:8080/",
     "height": 857
    },
    "colab_type": "code",
    "id": "pSv5LZzND3jf",
    "outputId": "625cffc8-c62c-4fb3-ca8e-12e12ca83f0e"
   },
   "outputs": [
    {
     "data": {
      "image/png": "[encoded data removed]",
      "text/plain": [
       "plot without title"
      ]
     },
     "metadata": {
      "image/png": {
       "height": 840,
       "width": 840
      },
      "tags": [],
      "text/plain": {
       "height": 840,
       "width": 840
      }
     },
     "output_type": "display_data"
    }
   ],
   "source": [
    "# Criando um boxplot para visualizar a distribuição dos dados da variável Demanda_uni_equil.\n",
    "\n",
    "# Definindo o nome da variável a ser analisada.\n",
    "\n",
    "col <- 'Demanda_uni_equil'\n",
    "\n",
    "# Criando um gráfico de boxplot para a variável especificada.\n",
    "\n",
    "train %>%\n",
    "    ggplot(aes(x = Demanda_uni_equil)) +\n",
    "    geom_boxplot(fill = '#566E3D', color = '#373D20', alpha = 0.8) +\n",
    "    theme_bw() +\n",
    "    theme(axis.text.y = element_blank()) +\n",
    "    xlab('Values') +\n",
    "    labs(title = 'Boxplot for variable: Demanda uni equil') "
   ]
  },
  {
   "cell_type": "markdown",
   "metadata": {
    "colab_type": "text",
    "id": "3h3QxDCkLi5J"
   },
   "source": [
    "Vemos que há uma distorção muito grande dentro dos valores da variável a ser prevista devido a presença de outliers muito discrepantes. Deveremos tratar este problema para conseguirmos aumentar a performance dos modelos preditivos que criarmos."
   ]
  },
  {
   "cell_type": "markdown",
   "metadata": {
    "colab_type": "text",
    "id": "r10fIQPbVt_C"
   },
   "source": [
    "##### **4.2.13 Variável Town**"
   ]
  },
  {
   "cell_type": "markdown",
   "metadata": {
    "colab_type": "text",
    "id": "5uzwPyTObAXk"
   },
   "source": [
    "Agora, iremos verificar quantos e quais são os estados e as agências por cidades presentes no conjunto de dados. "
   ]
  },
  {
   "cell_type": "code",
   "execution_count": 85,
   "metadata": {
    "colab": {
     "base_uri": "https://localhost:8080/",
     "height": 288
    },
    "colab_type": "code",
    "id": "tKTdpj2_5q2n",
    "outputId": "e410998d-a8c4-4187-e721-05eb03058b2b"
   },
   "outputs": [
    {
     "data": {
      "text/html": [
       "<table>\n",
       "<caption>A tibble: 10 × 2</caption>\n",
       "<thead>\n",
       "\t<tr><th scope=col>Town</th><th scope=col>absFreq</th></tr>\n",
       "\t<tr><th scope=col>&lt;chr&gt;</th><th scope=col>&lt;int&gt;</th></tr>\n",
       "</thead>\n",
       "<tbody>\n",
       "\t<tr><td>2013 AG. MEGA NAUCALPAN   </td><td>8</td></tr>\n",
       "\t<tr><td>2011 AG. SAN ANTONIO      </td><td>7</td></tr>\n",
       "\t<tr><td>2355 JALAPA I             </td><td>7</td></tr>\n",
       "\t<tr><td>2029 AG.IZTAPALAPA 2      </td><td>6</td></tr>\n",
       "\t<tr><td>2036 APIZACO MARINELA     </td><td>6</td></tr>\n",
       "\t<tr><td>2161 IRAPUATO GUADALUPE   </td><td>6</td></tr>\n",
       "\t<tr><td>2269 PUERTO VALLARTA BIMBO</td><td>6</td></tr>\n",
       "\t<tr><td>2290 DURANGO BIMBO        </td><td>6</td></tr>\n",
       "\t<tr><td>2322 ZAMORA MADERO        </td><td>6</td></tr>\n",
       "\t<tr><td>2396 RUIZ CORTINEZ        </td><td>6</td></tr>\n",
       "</tbody>\n",
       "</table>\n"
      ],
      "text/latex": [
       "A tibble: 10 × 2\n",
       "\\begin{tabular}{ll}\n",
       " Town & absFreq\\\\\n",
       " <chr> & <int>\\\\\n",
       "\\hline\n",
       "\t 2013 AG. MEGA NAUCALPAN    & 8\\\\\n",
       "\t 2011 AG. SAN ANTONIO       & 7\\\\\n",
       "\t 2355 JALAPA I              & 7\\\\\n",
       "\t 2029 AG.IZTAPALAPA 2       & 6\\\\\n",
       "\t 2036 APIZACO MARINELA      & 6\\\\\n",
       "\t 2161 IRAPUATO GUADALUPE    & 6\\\\\n",
       "\t 2269 PUERTO VALLARTA BIMBO & 6\\\\\n",
       "\t 2290 DURANGO BIMBO         & 6\\\\\n",
       "\t 2322 ZAMORA MADERO         & 6\\\\\n",
       "\t 2396 RUIZ CORTINEZ         & 6\\\\\n",
       "\\end{tabular}\n"
      ],
      "text/markdown": [
       "\n",
       "A tibble: 10 × 2\n",
       "\n",
       "| Town &lt;chr&gt; | absFreq &lt;int&gt; |\n",
       "|---|---|\n",
       "| 2013 AG. MEGA NAUCALPAN    | 8 |\n",
       "| 2011 AG. SAN ANTONIO       | 7 |\n",
       "| 2355 JALAPA I              | 7 |\n",
       "| 2029 AG.IZTAPALAPA 2       | 6 |\n",
       "| 2036 APIZACO MARINELA      | 6 |\n",
       "| 2161 IRAPUATO GUADALUPE    | 6 |\n",
       "| 2269 PUERTO VALLARTA BIMBO | 6 |\n",
       "| 2290 DURANGO BIMBO         | 6 |\n",
       "| 2322 ZAMORA MADERO         | 6 |\n",
       "| 2396 RUIZ CORTINEZ         | 6 |\n",
       "\n"
      ],
      "text/plain": [
       "   Town                       absFreq\n",
       "1  2013 AG. MEGA NAUCALPAN    8      \n",
       "2  2011 AG. SAN ANTONIO       7      \n",
       "3  2355 JALAPA I              7      \n",
       "4  2029 AG.IZTAPALAPA 2       6      \n",
       "5  2036 APIZACO MARINELA      6      \n",
       "6  2161 IRAPUATO GUADALUPE    6      \n",
       "7  2269 PUERTO VALLARTA BIMBO 6      \n",
       "8  2290 DURANGO BIMBO         6      \n",
       "9  2322 ZAMORA MADERO         6      \n",
       "10 2396 RUIZ CORTINEZ         6      "
      ]
     },
     "metadata": {
      "tags": []
     },
     "output_type": "display_data"
    }
   ],
   "source": [
    "# Contabilizando a frequência de agências por cidade dentro do dataset.\n",
    "\n",
    "t <- town %>%\n",
    "    group_by(Town) %>%\n",
    "    summarise(absFreq = n())\n",
    "\n",
    "# Ordenando resultados.\n",
    "\n",
    "t <- t[order(t$absFreq, decreasing = T),]\n",
    "\n",
    "# Visualizando as primeiras 10 linhas da tabela.\n",
    "\n",
    "head(t, 10)"
   ]
  },
  {
   "cell_type": "code",
   "execution_count": 86,
   "metadata": {
    "colab": {
     "base_uri": "https://localhost:8080/",
     "height": 34
    },
    "colab_type": "code",
    "id": "zpWhil2t3Ldp",
    "outputId": "a2c47c36-67f1-4736-948c-f389ad90546a"
   },
   "outputs": [
    {
     "data": {
      "text/html": [
       "260"
      ],
      "text/latex": [
       "260"
      ],
      "text/markdown": [
       "260"
      ],
      "text/plain": [
       "[1] 260"
      ]
     },
     "metadata": {
      "tags": []
     },
     "output_type": "display_data"
    }
   ],
   "source": [
    "# Determinando o número de agências por cidade atendidas.\n",
    "\n",
    "nrow(t)"
   ]
  },
  {
   "cell_type": "markdown",
   "metadata": {
    "colab_type": "text",
    "id": "JsLCFBMb698a"
   },
   "source": [
    "Detectamos **260** agências por cidades atendidas.\n",
    "\n",
    "Criaremos um boxplot para verificar se existem outliers dentro das frequências de agências por cidade. "
   ]
  },
  {
   "cell_type": "code",
   "execution_count": 87,
   "metadata": {
    "colab": {
     "base_uri": "https://localhost:8080/",
     "height": 857
    },
    "colab_type": "code",
    "id": "w4EXETzE6EdS",
    "outputId": "15420879-af38-401f-f835-43ca3d82515f"
   },
   "outputs": [
    {
     "data": {
      "image/png": "[encoded data removed]",
      "text/plain": [
       "plot without title"
      ]
     },
     "metadata": {
      "image/png": {
       "height": 840,
       "width": 840
      },
      "tags": [],
      "text/plain": {
       "height": 840,
       "width": 840
      }
     },
     "output_type": "display_data"
    }
   ],
   "source": [
    "# Definindo o nome da variável a ser analisada.\n",
    "\n",
    "col <- 'Town'\n",
    "\n",
    "# Criando um gráfico de boxplot para a variável especificada.\n",
    "\n",
    "boxPlot(col, town) "
   ]
  },
  {
   "cell_type": "markdown",
   "metadata": {
    "colab_type": "text",
    "id": "Jb-wme3t-C1Y"
   },
   "source": [
    "Concluímos que a agência ***2013 AG. MEGA NAUCALPAN*** apresenta um frequência absoluta que saí do pradrão das demais presentes no conjunto de dados."
   ]
  },
  {
   "cell_type": "markdown",
   "metadata": {
    "colab_type": "text",
    "id": "agEi81xKWTWY"
   },
   "source": [
    "##### **4.2.14 Variável State**"
   ]
  },
  {
   "cell_type": "code",
   "execution_count": 88,
   "metadata": {
    "colab": {
     "base_uri": "https://localhost:8080/",
     "height": 288
    },
    "colab_type": "code",
    "id": "JOdmThPS1VTY",
    "outputId": "aa0ff6b8-cb88-4715-a3aa-97f21a054bf7"
   },
   "outputs": [
    {
     "data": {
      "text/html": [
       "<table>\n",
       "<caption>A tibble: 10 × 2</caption>\n",
       "<thead>\n",
       "\t<tr><th scope=col>State</th><th scope=col>absFreq</th></tr>\n",
       "\t<tr><th scope=col>&lt;chr&gt;</th><th scope=col>&lt;int&gt;</th></tr>\n",
       "</thead>\n",
       "<tbody>\n",
       "\t<tr><td>ESTADO DE MÉXICO     </td><td>71</td></tr>\n",
       "\t<tr><td>MÉXICO, D.F.         </td><td>65</td></tr>\n",
       "\t<tr><td>JALISCO              </td><td>55</td></tr>\n",
       "\t<tr><td>VERACRUZ             </td><td>45</td></tr>\n",
       "\t<tr><td>GUANAJUATO           </td><td>39</td></tr>\n",
       "\t<tr><td>NUEVO LEÓN           </td><td>34</td></tr>\n",
       "\t<tr><td>PUEBLA               </td><td>34</td></tr>\n",
       "\t<tr><td>SONORA               </td><td>34</td></tr>\n",
       "\t<tr><td>MICHOACÁN            </td><td>33</td></tr>\n",
       "\t<tr><td>BAJA CALIFORNIA NORTE</td><td>32</td></tr>\n",
       "</tbody>\n",
       "</table>\n"
      ],
      "text/latex": [
       "A tibble: 10 × 2\n",
       "\\begin{tabular}{ll}\n",
       " State & absFreq\\\\\n",
       " <chr> & <int>\\\\\n",
       "\\hline\n",
       "\t ESTADO DE MÉXICO      & 71\\\\\n",
       "\t MÉXICO, D.F.          & 65\\\\\n",
       "\t JALISCO               & 55\\\\\n",
       "\t VERACRUZ              & 45\\\\\n",
       "\t GUANAJUATO            & 39\\\\\n",
       "\t NUEVO LEÓN            & 34\\\\\n",
       "\t PUEBLA                & 34\\\\\n",
       "\t SONORA                & 34\\\\\n",
       "\t MICHOACÁN             & 33\\\\\n",
       "\t BAJA CALIFORNIA NORTE & 32\\\\\n",
       "\\end{tabular}\n"
      ],
      "text/markdown": [
       "\n",
       "A tibble: 10 × 2\n",
       "\n",
       "| State &lt;chr&gt; | absFreq &lt;int&gt; |\n",
       "|---|---|\n",
       "| ESTADO DE MÉXICO      | 71 |\n",
       "| MÉXICO, D.F.          | 65 |\n",
       "| JALISCO               | 55 |\n",
       "| VERACRUZ              | 45 |\n",
       "| GUANAJUATO            | 39 |\n",
       "| NUEVO LEÓN            | 34 |\n",
       "| PUEBLA                | 34 |\n",
       "| SONORA                | 34 |\n",
       "| MICHOACÁN             | 33 |\n",
       "| BAJA CALIFORNIA NORTE | 32 |\n",
       "\n"
      ],
      "text/plain": [
       "   State                 absFreq\n",
       "1  ESTADO DE MÉXICO      71     \n",
       "2  MÉXICO, D.F.          65     \n",
       "3  JALISCO               55     \n",
       "4  VERACRUZ              45     \n",
       "5  GUANAJUATO            39     \n",
       "6  NUEVO LEÓN            34     \n",
       "7  PUEBLA                34     \n",
       "8  SONORA                34     \n",
       "9  MICHOACÁN             33     \n",
       "10 BAJA CALIFORNIA NORTE 32     "
      ]
     },
     "metadata": {
      "tags": []
     },
     "output_type": "display_data"
    }
   ],
   "source": [
    "# Contabilizando a frequência de cada estado dentro do dataset.\n",
    "\n",
    "t <- town %>%\n",
    "    group_by(State) %>%\n",
    "    summarise(absFreq = n())\n",
    "\n",
    "# Ordenando resultados.\n",
    "\n",
    "t <- t[order(t$absFreq, decreasing = T),]\n",
    "\n",
    "# Visualizando as primeiras 10 linhas da tabela.\n",
    "\n",
    "head(t, 10)"
   ]
  },
  {
   "cell_type": "code",
   "execution_count": 89,
   "metadata": {
    "colab": {
     "base_uri": "https://localhost:8080/",
     "height": 34
    },
    "colab_type": "code",
    "id": "5t5oYb8E6006",
    "outputId": "852ff5e8-5658-4b93-b95d-ee9f4bdf4940"
   },
   "outputs": [
    {
     "data": {
      "text/html": [
       "33"
      ],
      "text/latex": [
       "33"
      ],
      "text/markdown": [
       "33"
      ],
      "text/plain": [
       "[1] 33"
      ]
     },
     "metadata": {
      "tags": []
     },
     "output_type": "display_data"
    }
   ],
   "source": [
    "# Determinando o número de estados atendidos.\n",
    "\n",
    "nrow(t)"
   ]
  },
  {
   "cell_type": "markdown",
   "metadata": {
    "colab_type": "text",
    "id": "EjKehF2ReiYZ"
   },
   "source": [
    "Detectamos que **33 estados** são atendidos."
   ]
  },
  {
   "cell_type": "code",
   "execution_count": 90,
   "metadata": {
    "colab": {
     "base_uri": "https://localhost:8080/",
     "height": 857
    },
    "colab_type": "code",
    "id": "riFbxVlA-3Mp",
    "outputId": "b28a27e6-7fce-4976-bab5-7b6328edbb0a"
   },
   "outputs": [
    {
     "data": {
      "image/png": "[encoded data removed]",
      "text/plain": [
       "plot without title"
      ]
     },
     "metadata": {
      "image/png": {
       "height": 840,
       "width": 840
      },
      "tags": [],
      "text/plain": {
       "height": 840,
       "width": 840
      }
     },
     "output_type": "display_data"
    }
   ],
   "source": [
    "# Definindo o nome da variável a ser analisada.\n",
    "\n",
    "col <- 'State'\n",
    "\n",
    "# Criando um gráfico de boxplot para a variável especificada.\n",
    "\n",
    "boxPlot(col, town) "
   ]
  },
  {
   "cell_type": "markdown",
   "metadata": {
    "colab_type": "text",
    "id": "sw0A9UqA_R4q"
   },
   "source": [
    "Concluímos que o ***ESTADO DE MÉXICO*** apresenta um frequência absoluta que saí do pradrão dos demais presentes no conjunto de dados."
   ]
  },
  {
   "cell_type": "markdown",
   "metadata": {
    "colab_type": "text",
    "id": "iclSqE3AGzuq"
   },
   "source": [
    "## **5. Análise Preditiva**\n"
   ]
  },
  {
   "cell_type": "markdown",
   "metadata": {
    "colab_type": "text",
    "id": "IUy03MlEJxVV"
   },
   "source": [
    "### **5.1 Importando bibliotecas necessárias**"
   ]
  },
  {
   "cell_type": "markdown",
   "metadata": {
    "colab_type": "text",
    "id": "5BUhqUX7lTHo"
   },
   "source": [
    "Importaremos todas as bilbiotecas necessárias para a realização dos processos de modelagem preditiva."
   ]
  },
  {
   "cell_type": "code",
   "execution_count": null,
   "metadata": {
    "colab": {
     "base_uri": "https://localhost:8080/",
     "height": 119
    },
    "colab_type": "code",
    "id": "ibAOcvqLMDwn",
    "outputId": "e00e8cf4-ddb9-4801-fed9-9f185b84f86f"
   },
   "outputs": [],
   "source": [
    "# Caso não possua uma das bibliotecas importadas abaixo, a instale com um dos comandos a seguir:\n",
    "\n",
    "install.packages(c(\n",
    "    'Metrics',\n",
    "    'xgboost',\n",
    "    'randomForest',\n",
    "    'caret'\n",
    "))"
   ]
  },
  {
   "cell_type": "code",
   "execution_count": null,
   "metadata": {
    "colab": {
     "base_uri": "https://localhost:8080/",
     "height": 663
    },
    "colab_type": "code",
    "id": "j-nvdZUcMDwu",
    "outputId": "6f6b878b-1ab7-4d04-9179-1a2595e4241d"
   },
   "outputs": [],
   "source": [
    "# Importando bibliotecas.\n",
    "\n",
    "library(Metrics)\n",
    "library(xgboost)\n",
    "library(randomForest)\n",
    "library(caret)"
   ]
  },
  {
   "cell_type": "markdown",
   "metadata": {
    "colab_type": "text",
    "id": "0h6GyDdYMxTd"
   },
   "source": [
    "### **5.2 Feature Selection**"
   ]
  },
  {
   "cell_type": "markdown",
   "metadata": {
    "colab_type": "text",
    "id": "Wz7QMuoapfyp"
   },
   "source": [
    "Observe que as variáveis **Venta_uni_hoy**, **Venta_hoy**, **Dev_uni_proxima** e **Dev_proxima** não estão presentes no conjunto de dados de teste e por isso iremos excluí-las do conjunto de dados de treino."
   ]
  },
  {
   "cell_type": "code",
   "execution_count": null,
   "metadata": {
    "colab": {},
    "colab_type": "code",
    "id": "MxO4UzTDsAXh"
   },
   "outputs": [],
   "source": [
    "# Selecionando as variáveis que serão utilizadas na fase de modelagem preditiva dentro do dataset de treino.\n",
    "\n",
    "train <- train %>% select(Semana, Agencia_ID, Canal_ID, Ruta_SAK, Cliente_ID, Producto_ID, Demanda_uni_equil)  "
   ]
  },
  {
   "cell_type": "markdown",
   "metadata": {
    "colab_type": "text",
    "id": "TdmhD5IeIwqz"
   },
   "source": [
    "### **5.3 Feature Engineering I - Transformando variável Target**"
   ]
  },
  {
   "cell_type": "markdown",
   "metadata": {
    "colab_type": "text",
    "id": "TAlbKXBGQNjb"
   },
   "source": [
    "Agora, iremos retornar ao problema da distorção dos valores do conjunto de dados da variável alvo. Criaremos mais uma vez um boxplot para visualizar a distribuição dos dados bem como um gráfico de densidade."
   ]
  },
  {
   "cell_type": "code",
   "execution_count": 94,
   "metadata": {
    "colab": {
     "base_uri": "https://localhost:8080/",
     "height": 857
    },
    "colab_type": "code",
    "id": "Z_YkGmvZQKki",
    "outputId": "52b46bba-fff4-4bcb-8298-f5bd6e5129e9"
   },
   "outputs": [
    {
     "data": {
      "image/png": "[encoded data removed]",
      "text/plain": [
       "plot without title"
      ]
     },
     "metadata": {
      "image/png": {
       "height": 840,
       "width": 840
      },
      "tags": [],
      "text/plain": {
       "height": 840,
       "width": 840
      }
     },
     "output_type": "display_data"
    }
   ],
   "source": [
    "# Criando um boxplot para visualizar a distribuição dos dados da variável Demanda_uni_equil.\n",
    "\n",
    "train %>%\n",
    "    ggplot(aes(x = Demanda_uni_equil)) +\n",
    "    geom_boxplot(fill = '#566E3D', color = '#373D20', alpha = 0.8) +\n",
    "    theme_bw() +\n",
    "    theme(axis.text.y = element_blank()) +\n",
    "    xlab('Values') +\n",
    "    labs(title = 'Boxplot for variable: Demanda uni equil') "
   ]
  },
  {
   "cell_type": "code",
   "execution_count": 95,
   "metadata": {
    "colab": {
     "base_uri": "https://localhost:8080/",
     "height": 857
    },
    "colab_type": "code",
    "id": "E_lLUyx-05Cg",
    "outputId": "080ed6c6-5e78-4418-bad8-52318c84ce36"
   },
   "outputs": [
    {
     "data": {
      "image/png": "[encoded data removed]",
      "text/plain": [
       "plot without title"
      ]
     },
     "metadata": {
      "image/png": {
       "height": 840,
       "width": 840
      },
      "tags": [],
      "text/plain": {
       "height": 840,
       "width": 840
      }
     },
     "output_type": "display_data"
    }
   ],
   "source": [
    "# Criando um gráfico de densidade para visualizar a distribuição dos dados da variável Demanda_uni_equil.\n",
    "\n",
    "train %>%\n",
    "    ggplot(aes(x = Demanda_uni_equil)) + \n",
    "    geom_density(fill = '#A6EBC9') + \n",
    "    theme_bw() + \n",
    "    labs(title = 'Density graph for variable: Demanda uni equil') +\n",
    "    xlab('Demanda uni equil')\n"
   ]
  },
  {
   "cell_type": "markdown",
   "metadata": {
    "colab_type": "text",
    "id": "-3FKmNOFgH9P"
   },
   "source": [
    "Muito bem, para contornar este problema da distorção nos dados usaremos a função de transformação **log1p (ou log(x + 1))** para diminuir a irregularidade nos dados e tornar os padrões que esta variável possuí mais visíveis. Também utilizaremos a função **expm1 (ou exp(x) - 1)** para realizar o processo inverso de transformação dos resultados obtidos ao se aplicar a função **log1p**. \n",
    "\n",
    "Ou seja, transformaremos a variável a ser prevista para realizar a execução da análise preditiva e no final converteremos os resultados gerados para a sua escala original. \n",
    "\n",
    "Para mais informações sobre como a função **log** atua sobre dados distorcidos [consulte este link](http://onlinestatbook.com/2/transformations/log.html). Para entender melhor as funções **log1p e expm1** [consulte este link](https://www.johndcook.com/blog/2010/06/07/math-library-functions-that-seem-unnecessary/).\n",
    "\n",
    "Destacamos que o principal motivo de utilizarmos a função **log1p** é há existência de valores nulos dentro dos dados da variável o que inviabiliza o uso da função **log** pois o [log(0) é um valor indefinido](https://www.rapidtables.com/math/algebra/logarithm/Logarithm_of_0.html)."
   ]
  },
  {
   "cell_type": "code",
   "execution_count": 96,
   "metadata": {
    "colab": {
     "base_uri": "https://localhost:8080/",
     "height": 68
    },
    "colab_type": "code",
    "id": "An_kREZp_Xqx",
    "outputId": "e516081f-7e0d-43f8-b076-7863b23d8172"
   },
   "outputs": [
    {
     "data": {
      "text/plain": [
       "\n",
       "    FALSE      TRUE \n",
       "0.9819788 0.0180212 "
      ]
     },
     "metadata": {
      "tags": []
     },
     "output_type": "display_data"
    }
   ],
   "source": [
    "# Verificando a existência de valores nulos dentro do conjunto de dados da variável Demanda_uni_equil.\n",
    "\n",
    "prop.table(table(train$Demanda_uni_equil == 0))"
   ]
  },
  {
   "cell_type": "markdown",
   "metadata": {
    "colab_type": "text",
    "id": "37BWOpK6B2ee"
   },
   "source": [
    "Detectamos que aproximadamente **1.8%** dos dados da variável a ser prevista são iguais a **0**.\n",
    "\n",
    "Vamos aplicar a função **log1p** ao conjunto de dados."
   ]
  },
  {
   "cell_type": "code",
   "execution_count": null,
   "metadata": {
    "colab": {},
    "colab_type": "code",
    "id": "Z21INN2EMDxA"
   },
   "outputs": [],
   "source": [
    "# Calcula o logaritmo natural de cada valor da variável Demanda_uni_equil acrescido de 1 unidade, ou seja, log(Demanda_uni_equil + 1).\n",
    "\n",
    "train$Demanda_uni_equil <- log1p(train$Demanda_uni_equil)"
   ]
  },
  {
   "cell_type": "markdown",
   "metadata": {
    "colab_type": "text",
    "id": "m435esSvCtv6"
   },
   "source": [
    "Criaremos mais uma vez um gráfico de boxplot e um gráfico de densidade para visualizar o efeito da transformação aplicada sobre os dados."
   ]
  },
  {
   "cell_type": "code",
   "execution_count": 98,
   "metadata": {
    "colab": {
     "base_uri": "https://localhost:8080/",
     "height": 857
    },
    "colab_type": "code",
    "id": "15BXzq6-DDvq",
    "outputId": "78352e6a-61bc-489b-b98b-4b7d6b23264f"
   },
   "outputs": [
    {
     "data": {
      "image/png": "[encoded data removed]",
      "text/plain": [
       "plot without title"
      ]
     },
     "metadata": {
      "image/png": {
       "height": 840,
       "width": 840
      },
      "tags": [],
      "text/plain": {
       "height": 840,
       "width": 840
      }
     },
     "output_type": "display_data"
    }
   ],
   "source": [
    "# Criando um boxplot para visualizar a distribuição dos dados da variável Demanda_uni_equil transformada.\n",
    "\n",
    "train %>%\n",
    "    ggplot(aes(x = Demanda_uni_equil)) +\n",
    "    geom_boxplot(fill = '#566E3D', color = '#373D20', alpha = 0.8) +\n",
    "    theme_bw() +\n",
    "    theme(axis.text.y = element_blank()) +\n",
    "    xlab('log(Demanda uni equil + 1)') +\n",
    "    labs(title = 'Boxplot for variable: Demanda uni equil') "
   ]
  },
  {
   "cell_type": "code",
   "execution_count": 99,
   "metadata": {
    "colab": {
     "base_uri": "https://localhost:8080/",
     "height": 857
    },
    "colab_type": "code",
    "id": "vd0NY8j71Fvk",
    "outputId": "54a7fe46-81dd-43c4-da6e-6fb11653a32d"
   },
   "outputs": [
    {
     "data": {
      "image/png": "[encoded data removed]",
      "text/plain": [
       "plot without title"
      ]
     },
     "metadata": {
      "image/png": {
       "height": 840,
       "width": 840
      },
      "tags": [],
      "text/plain": {
       "height": 840,
       "width": 840
      }
     },
     "output_type": "display_data"
    }
   ],
   "source": [
    "# Criando um gráfico de densidade para visualizar a distribuição dos dados da variável Demanda_uni_equil transformada.\n",
    "\n",
    "train %>%\n",
    "    ggplot(aes(x = Demanda_uni_equil)) + \n",
    "    geom_density(fill = '#A6EBC9') + \n",
    "    theme_bw() + \n",
    "    labs(title = 'Density graph for variable: Demanda uni equil') +\n",
    "    xlab('log(Demanda uni equil + 1)')"
   ]
  },
  {
   "cell_type": "markdown",
   "metadata": {
    "colab_type": "text",
    "id": "eZSoHXCoJFtX"
   },
   "source": [
    "Concluímos que a aplicação da função **log1p** diminuiu a distorção causada pelos valores discrepantes dentro do conjunto de dados da variável a ser prevista e isso nos ajudará a alçancar valores de acurácia melhores nos modelos que criarmos."
   ]
  },
  {
   "cell_type": "markdown",
   "metadata": {
    "colab_type": "text",
    "id": "S06LeTnqKQcS"
   },
   "source": [
    "### **5.4 Unindo dados de treino e de teste em um mesmo dataset**"
   ]
  },
  {
   "cell_type": "markdown",
   "metadata": {
    "colab_type": "text",
    "id": "ZUcKaRFTQUmU"
   },
   "source": [
    "Nosso objetivo nesta etapa é criar um único dataset contendo tanto os dados de treino quanto os dados de teste. Mas, antes de executarmos esta ação devemos observar que há variáveis excluivas para cada um destes conjuntos de dados.\n",
    "\n",
    "O dataset de teste possui a variável **id** que não está contida nos dados de treino e por isso a criaremos para este conjunto de dados. O mesmo processo será efetuado para a variável **Demanda_uni_equil** no dataset de teste.\n",
    "\n",
    "Para distinguir os registros que pertencem ao conjunto de dados de treino dos que pertencem aos dados de teste criaremos uma variável binária denominada **toTest** (**0**: são dados de treino; **1**: são dados de teste)."
   ]
  },
  {
   "cell_type": "code",
   "execution_count": null,
   "metadata": {
    "colab": {},
    "colab_type": "code",
    "id": "4xuGqOU4SvIZ"
   },
   "outputs": [],
   "source": [
    "# Criando variável ID para o conjunto de dados de treino com um valor auxiliar.\n",
    "\n",
    "train$id <- 0\n",
    "\n",
    "# Criando a variável para indicar se o registro pertence ou não ao dados de treino ou aos dados de teste.\n",
    "\n",
    "train$toTest <- 0"
   ]
  },
  {
   "cell_type": "code",
   "execution_count": null,
   "metadata": {
    "colab": {},
    "colab_type": "code",
    "id": "8P-L6_WACToY"
   },
   "outputs": [],
   "source": [
    "# Criando variável Demanda_uni_equil para o conjunto de dados de teste com um valor auxiliar.\n",
    "\n",
    "test$Demanda_uni_equil <- 0\n",
    "\n",
    "# Criando a variável para indicar se o registro pertence ou não ao dados de treino ou aos dados de teste.\n",
    "\n",
    "test$toTest <- 1"
   ]
  },
  {
   "cell_type": "markdown",
   "metadata": {
    "colab_type": "text",
    "id": "QyGJuWlcWGNM"
   },
   "source": [
    "Para começar esta junção entre os datasets, iremos capturar os registros de apenas uma das semanas presentes no dataset de treino e unir com os dados de teste.\n",
    "\n",
    "Os registros dos dados de treino que não irão ser manipulados nesta etapa serão utilizados na etapa a seguir de **Feature Engennier**."
   ]
  },
  {
   "cell_type": "code",
   "execution_count": null,
   "metadata": {
    "colab": {},
    "colab_type": "code",
    "id": "3cIfNKo81GbS"
   },
   "outputs": [],
   "source": [
    "# Unindo os registros do dataset de treino em que a variável Semana é igual a 9 com todos os registros de teste.\n",
    "\n",
    "data <- rbind(train[Semana == 9], test) "
   ]
  },
  {
   "cell_type": "markdown",
   "metadata": {
    "colab_type": "text",
    "id": "1JadPtQ8bmnq"
   },
   "source": [
    "Como já mesclamos todos os registros do dataset de teste, podemos liberar memória excluindo a variável *test*. "
   ]
  },
  {
   "cell_type": "code",
   "execution_count": null,
   "metadata": {
    "colab": {},
    "colab_type": "code",
    "id": "T6JAW1LV1H5h"
   },
   "outputs": [],
   "source": [
    "# Removendo o dataset test.\n",
    "\n",
    "rm(test)"
   ]
  },
  {
   "cell_type": "markdown",
   "metadata": {
    "colab_type": "text",
    "id": "VeUI8jyXMgJA"
   },
   "source": [
    "#### **5.4.1 Feature Engennier II - Criando novas variáveis preditoras**"
   ]
  },
  {
   "cell_type": "markdown",
   "metadata": {
    "colab_type": "text",
    "id": "VRiulkAyfCLj"
   },
   "source": [
    "Os registros de treino das semanas que não foram usados na etapa anterior serão agrupados ao novo dataset que estamos gerando para criar novas variáveis."
   ]
  },
  {
   "cell_type": "code",
   "execution_count": 104,
   "metadata": {
    "colab": {
     "base_uri": "https://localhost:8080/",
     "height": 204
    },
    "colab_type": "code",
    "id": "-WfHwkuRMDxG",
    "outputId": "ae9e4a98-616e-4f2c-e00c-320ab69ef827"
   },
   "outputs": [
    {
     "data": {
      "text/html": [
       "<table>\n",
       "<caption>A data.table: 6 × 15</caption>\n",
       "<thead>\n",
       "\t<tr><th scope=col>Cliente_ID</th><th scope=col>meanClient</th><th scope=col>countCliente</th><th scope=col>Producto_ID</th><th scope=col>meanProd</th><th scope=col>countProd</th><th scope=col>meanClientProd</th><th scope=col>countClientProd</th><th scope=col>Semana</th><th scope=col>Agencia_ID</th><th scope=col>Canal_ID</th><th scope=col>Ruta_SAK</th><th scope=col>Demanda_uni_equil</th><th scope=col>id</th><th scope=col>toTest</th></tr>\n",
       "\t<tr><th scope=col>&lt;int&gt;</th><th scope=col>&lt;dbl&gt;</th><th scope=col>&lt;int&gt;</th><th scope=col>&lt;int&gt;</th><th scope=col>&lt;dbl&gt;</th><th scope=col>&lt;int&gt;</th><th scope=col>&lt;dbl&gt;</th><th scope=col>&lt;int&gt;</th><th scope=col>&lt;int&gt;</th><th scope=col>&lt;int&gt;</th><th scope=col>&lt;int&gt;</th><th scope=col>&lt;int&gt;</th><th scope=col>&lt;dbl&gt;</th><th scope=col>&lt;dbl&gt;</th><th scope=col>&lt;dbl&gt;</th></tr>\n",
       "</thead>\n",
       "<tbody>\n",
       "\t<tr><td>26</td><td>2.853926</td><td>192</td><td>30235</td><td>3.117261</td><td> 2551</td><td>      NA</td><td>NA</td><td> 9</td><td>2655</td><td>2</td><td>4189</td><td>4.574711</td><td>      0</td><td>0</td></tr>\n",
       "\t<tr><td>26</td><td>2.853926</td><td>192</td><td>31393</td><td>1.559129</td><td>19328</td><td>2.917141</td><td> 6</td><td> 9</td><td>2061</td><td>2</td><td>7212</td><td>2.639057</td><td>      0</td><td>0</td></tr>\n",
       "\t<tr><td>26</td><td>2.853926</td><td>192</td><td>31518</td><td>2.514937</td><td>  214</td><td>2.397895</td><td> 1</td><td>10</td><td>2655</td><td>2</td><td>4189</td><td>0.000000</td><td>1569352</td><td>1</td></tr>\n",
       "\t<tr><td>26</td><td>2.853926</td><td>192</td><td>31520</td><td>3.066581</td><td> 1792</td><td>      NA</td><td>NA</td><td>11</td><td>2655</td><td>2</td><td>4189</td><td>0.000000</td><td>4728674</td><td>1</td></tr>\n",
       "\t<tr><td>26</td><td>2.853926</td><td>192</td><td>32962</td><td>2.635926</td><td> 8867</td><td>1.386294</td><td> 1</td><td> 9</td><td>2061</td><td>2</td><td>7212</td><td>2.397895</td><td>      0</td><td>0</td></tr>\n",
       "\t<tr><td>26</td><td>2.853926</td><td>192</td><td>34204</td><td>2.673286</td><td>20791</td><td>3.669958</td><td> 6</td><td> 9</td><td>2061</td><td>2</td><td>7212</td><td>3.784190</td><td>      0</td><td>0</td></tr>\n",
       "</tbody>\n",
       "</table>\n"
      ],
      "text/latex": [
       "A data.table: 6 × 15\n",
       "\\begin{tabular}{lllllllllllllll}\n",
       " Cliente\\_ID & meanClient & countCliente & Producto\\_ID & meanProd & countProd & meanClientProd & countClientProd & Semana & Agencia\\_ID & Canal\\_ID & Ruta\\_SAK & Demanda\\_uni\\_equil & id & toTest\\\\\n",
       " <int> & <dbl> & <int> & <int> & <dbl> & <int> & <dbl> & <int> & <int> & <int> & <int> & <int> & <dbl> & <dbl> & <dbl>\\\\\n",
       "\\hline\n",
       "\t 26 & 2.853926 & 192 & 30235 & 3.117261 &  2551 &       NA & NA &  9 & 2655 & 2 & 4189 & 4.574711 &       0 & 0\\\\\n",
       "\t 26 & 2.853926 & 192 & 31393 & 1.559129 & 19328 & 2.917141 &  6 &  9 & 2061 & 2 & 7212 & 2.639057 &       0 & 0\\\\\n",
       "\t 26 & 2.853926 & 192 & 31518 & 2.514937 &   214 & 2.397895 &  1 & 10 & 2655 & 2 & 4189 & 0.000000 & 1569352 & 1\\\\\n",
       "\t 26 & 2.853926 & 192 & 31520 & 3.066581 &  1792 &       NA & NA & 11 & 2655 & 2 & 4189 & 0.000000 & 4728674 & 1\\\\\n",
       "\t 26 & 2.853926 & 192 & 32962 & 2.635926 &  8867 & 1.386294 &  1 &  9 & 2061 & 2 & 7212 & 2.397895 &       0 & 0\\\\\n",
       "\t 26 & 2.853926 & 192 & 34204 & 2.673286 & 20791 & 3.669958 &  6 &  9 & 2061 & 2 & 7212 & 3.784190 &       0 & 0\\\\\n",
       "\\end{tabular}\n"
      ],
      "text/markdown": [
       "\n",
       "A data.table: 6 × 15\n",
       "\n",
       "| Cliente_ID &lt;int&gt; | meanClient &lt;dbl&gt; | countCliente &lt;int&gt; | Producto_ID &lt;int&gt; | meanProd &lt;dbl&gt; | countProd &lt;int&gt; | meanClientProd &lt;dbl&gt; | countClientProd &lt;int&gt; | Semana &lt;int&gt; | Agencia_ID &lt;int&gt; | Canal_ID &lt;int&gt; | Ruta_SAK &lt;int&gt; | Demanda_uni_equil &lt;dbl&gt; | id &lt;dbl&gt; | toTest &lt;dbl&gt; |\n",
       "|---|---|---|---|---|---|---|---|---|---|---|---|---|---|---|\n",
       "| 26 | 2.853926 | 192 | 30235 | 3.117261 |  2551 |       NA | NA |  9 | 2655 | 2 | 4189 | 4.574711 |       0 | 0 |\n",
       "| 26 | 2.853926 | 192 | 31393 | 1.559129 | 19328 | 2.917141 |  6 |  9 | 2061 | 2 | 7212 | 2.639057 |       0 | 0 |\n",
       "| 26 | 2.853926 | 192 | 31518 | 2.514937 |   214 | 2.397895 |  1 | 10 | 2655 | 2 | 4189 | 0.000000 | 1569352 | 1 |\n",
       "| 26 | 2.853926 | 192 | 31520 | 3.066581 |  1792 |       NA | NA | 11 | 2655 | 2 | 4189 | 0.000000 | 4728674 | 1 |\n",
       "| 26 | 2.853926 | 192 | 32962 | 2.635926 |  8867 | 1.386294 |  1 |  9 | 2061 | 2 | 7212 | 2.397895 |       0 | 0 |\n",
       "| 26 | 2.853926 | 192 | 34204 | 2.673286 | 20791 | 3.669958 |  6 |  9 | 2061 | 2 | 7212 | 3.784190 |       0 | 0 |\n",
       "\n"
      ],
      "text/plain": [
       "  Cliente_ID meanClient countCliente Producto_ID meanProd countProd\n",
       "1 26         2.853926   192          30235       3.117261  2551    \n",
       "2 26         2.853926   192          31393       1.559129 19328    \n",
       "3 26         2.853926   192          31518       2.514937   214    \n",
       "4 26         2.853926   192          31520       3.066581  1792    \n",
       "5 26         2.853926   192          32962       2.635926  8867    \n",
       "6 26         2.853926   192          34204       2.673286 20791    \n",
       "  meanClientProd countClientProd Semana Agencia_ID Canal_ID Ruta_SAK\n",
       "1       NA       NA               9     2655       2        4189    \n",
       "2 2.917141        6               9     2061       2        7212    \n",
       "3 2.397895        1              10     2655       2        4189    \n",
       "4       NA       NA              11     2655       2        4189    \n",
       "5 1.386294        1               9     2061       2        7212    \n",
       "6 3.669958        6               9     2061       2        7212    \n",
       "  Demanda_uni_equil id      toTest\n",
       "1 4.574711                0 0     \n",
       "2 2.639057                0 0     \n",
       "3 0.000000          1569352 1     \n",
       "4 0.000000          4728674 1     \n",
       "5 2.397895                0 0     \n",
       "6 3.784190                0 0     "
      ]
     },
     "metadata": {
      "tags": []
     },
     "output_type": "display_data"
    }
   ],
   "source": [
    "# Determinando a média da demanda ajustada de clientes por produto e a quantidade de registros de clientes por produto.\n",
    "\n",
    "train[Semana <= 8][ , .(meanClientProd  = mean(Demanda_uni_equil), countClientProd = .N),  \n",
    "    by = .(Producto_ID, Cliente_ID)] %>% \n",
    "        merge(data, all.y = TRUE, by = c(\"Producto_ID\", \"Cliente_ID\")) -> data\n",
    "\n",
    "# Determinando a média da demanda ajustada por produto e a quantidade de registros por produto.\n",
    "\n",
    "train[Semana <= 8][ , .(meanProd = mean(Demanda_uni_equil), countProd = .N),\n",
    "    by = .(Producto_ID)] %>% \n",
    "        merge(data, all.y = TRUE, by = c(\"Producto_ID\")) -> data\n",
    "\n",
    "# Determinando a média da demanda ajustada por cliente e a quantidade de registros por cliente.\n",
    "\n",
    "train[Semana <= 8][ , .(meanClient = mean(Demanda_uni_equil), countCliente = .N),\n",
    "    by = .(Cliente_ID)] %>% \n",
    "        merge(data, all.y = TRUE, by = c(\"Cliente_ID\")) -> data\n",
    "\n",
    "# Visualizando as primeiras linhas do dataset.\n",
    "\n",
    "head(data)"
   ]
  },
  {
   "cell_type": "markdown",
   "metadata": {
    "colab_type": "text",
    "id": "T2mWezoDkEcr"
   },
   "source": [
    "Observe que a partir da execução desta fase conseguimos eliminar o problema da existência de produtos dentro dos dados de teste que não estão presentes dentro dos dados de treino, pois passamos a avaliar os valores médios e quantidades de cada variável por agrupamentos.\n",
    "\n",
    "Agora também podemos eliminar a variável *train*."
   ]
  },
  {
   "cell_type": "code",
   "execution_count": null,
   "metadata": {
    "colab": {},
    "colab_type": "code",
    "id": "x1MaoA56j_E9"
   },
   "outputs": [],
   "source": [
    "# Removendo o dataset train.\n",
    "\n",
    "rm(train)"
   ]
  },
  {
   "cell_type": "markdown",
   "metadata": {
    "colab_type": "text",
    "id": "xGq1P4OmMv7h"
   },
   "source": [
    "### **5.5 Feature Engineering III - Transformando variáveis preditoras**"
   ]
  },
  {
   "cell_type": "markdown",
   "metadata": {
    "colab_type": "text",
    "id": "pN6SqrEdOCAq"
   },
   "source": [
    "Nesta etapa vamos escalar os valores das variáveis preditoras entre 0 e 1."
   ]
  },
  {
   "cell_type": "code",
   "execution_count": 106,
   "metadata": {
    "colab": {
     "base_uri": "https://localhost:8080/",
     "height": 204
    },
    "colab_type": "code",
    "id": "VqBnpj18MDxU",
    "outputId": "6f39ed00-c51e-405b-fd3e-0b1a6bbf263e"
   },
   "outputs": [
    {
     "data": {
      "text/html": [
       "<table>\n",
       "<caption>A data.table: 6 × 15</caption>\n",
       "<thead>\n",
       "\t<tr><th scope=col>Cliente_ID</th><th scope=col>meanClient</th><th scope=col>countCliente</th><th scope=col>Producto_ID</th><th scope=col>meanProd</th><th scope=col>countProd</th><th scope=col>meanClientProd</th><th scope=col>countClientProd</th><th scope=col>Semana</th><th scope=col>Agencia_ID</th><th scope=col>Canal_ID</th><th scope=col>Ruta_SAK</th><th scope=col>Demanda_uni_equil</th><th scope=col>id</th><th scope=col>toTest</th></tr>\n",
       "\t<tr><th scope=col>&lt;dbl&gt;</th><th scope=col>&lt;dbl&gt;</th><th scope=col>&lt;dbl&gt;</th><th scope=col>&lt;dbl&gt;</th><th scope=col>&lt;dbl&gt;</th><th scope=col>&lt;dbl&gt;</th><th scope=col>&lt;dbl&gt;</th><th scope=col>&lt;dbl&gt;</th><th scope=col>&lt;dbl&gt;</th><th scope=col>&lt;dbl&gt;</th><th scope=col>&lt;dbl&gt;</th><th scope=col>&lt;dbl&gt;</th><th scope=col>&lt;dbl&gt;</th><th scope=col>&lt;dbl&gt;</th><th scope=col>&lt;dbl&gt;</th></tr>\n",
       "</thead>\n",
       "<tbody>\n",
       "\t<tr><td>0</td><td>0.3432635</td><td>0.001795265</td><td>0.6044119</td><td>0.3979951</td><td>0.0013729304</td><td>       NA</td><td>         NA</td><td>0.0</td><td>0.06268003</td><td>0.1</td><td>0.4201023</td><td>4.574711</td><td>      0</td><td>0</td></tr>\n",
       "\t<tr><td>0</td><td>0.3432635</td><td>0.001795265</td><td>0.6275923</td><td>0.1990612</td><td>0.0104057359</td><td>0.3436378</td><td>0.002200704</td><td>0.0</td><td>0.03858169</td><td>0.1</td><td>0.7233424</td><td>2.639057</td><td>      0</td><td>0</td></tr>\n",
       "\t<tr><td>0</td><td>0.3432635</td><td>0.001795265</td><td>0.6300945</td><td>0.3210936</td><td>0.0001146801</td><td>0.2824709</td><td>0.000000000</td><td>0.5</td><td>0.06268003</td><td>0.1</td><td>0.4201023</td><td>0.000000</td><td>1569352</td><td>1</td></tr>\n",
       "\t<tr><td>0</td><td>0.3432635</td><td>0.001795265</td><td>0.6301345</td><td>0.3915245</td><td>0.0009642817</td><td>       NA</td><td>         NA</td><td>1.0</td><td>0.06268003</td><td>0.1</td><td>0.4201023</td><td>0.000000</td><td>4728674</td><td>1</td></tr>\n",
       "\t<tr><td>0</td><td>0.3432635</td><td>0.001795265</td><td>0.6589999</td><td>0.3365408</td><td>0.0047734907</td><td>0.1633048</td><td>0.000000000</td><td>0.0</td><td>0.03858169</td><td>0.1</td><td>0.7233424</td><td>2.397895</td><td>      0</td><td>0</td></tr>\n",
       "\t<tr><td>0</td><td>0.3432635</td><td>0.001795265</td><td>0.6838618</td><td>0.3413108</td><td>0.0111934211</td><td>0.4323192</td><td>0.002200704</td><td>0.0</td><td>0.03858169</td><td>0.1</td><td>0.7233424</td><td>3.784190</td><td>      0</td><td>0</td></tr>\n",
       "</tbody>\n",
       "</table>\n"
      ],
      "text/latex": [
       "A data.table: 6 × 15\n",
       "\\begin{tabular}{lllllllllllllll}\n",
       " Cliente\\_ID & meanClient & countCliente & Producto\\_ID & meanProd & countProd & meanClientProd & countClientProd & Semana & Agencia\\_ID & Canal\\_ID & Ruta\\_SAK & Demanda\\_uni\\_equil & id & toTest\\\\\n",
       " <dbl> & <dbl> & <dbl> & <dbl> & <dbl> & <dbl> & <dbl> & <dbl> & <dbl> & <dbl> & <dbl> & <dbl> & <dbl> & <dbl> & <dbl>\\\\\n",
       "\\hline\n",
       "\t 0 & 0.3432635 & 0.001795265 & 0.6044119 & 0.3979951 & 0.0013729304 &        NA &          NA & 0.0 & 0.06268003 & 0.1 & 0.4201023 & 4.574711 &       0 & 0\\\\\n",
       "\t 0 & 0.3432635 & 0.001795265 & 0.6275923 & 0.1990612 & 0.0104057359 & 0.3436378 & 0.002200704 & 0.0 & 0.03858169 & 0.1 & 0.7233424 & 2.639057 &       0 & 0\\\\\n",
       "\t 0 & 0.3432635 & 0.001795265 & 0.6300945 & 0.3210936 & 0.0001146801 & 0.2824709 & 0.000000000 & 0.5 & 0.06268003 & 0.1 & 0.4201023 & 0.000000 & 1569352 & 1\\\\\n",
       "\t 0 & 0.3432635 & 0.001795265 & 0.6301345 & 0.3915245 & 0.0009642817 &        NA &          NA & 1.0 & 0.06268003 & 0.1 & 0.4201023 & 0.000000 & 4728674 & 1\\\\\n",
       "\t 0 & 0.3432635 & 0.001795265 & 0.6589999 & 0.3365408 & 0.0047734907 & 0.1633048 & 0.000000000 & 0.0 & 0.03858169 & 0.1 & 0.7233424 & 2.397895 &       0 & 0\\\\\n",
       "\t 0 & 0.3432635 & 0.001795265 & 0.6838618 & 0.3413108 & 0.0111934211 & 0.4323192 & 0.002200704 & 0.0 & 0.03858169 & 0.1 & 0.7233424 & 3.784190 &       0 & 0\\\\\n",
       "\\end{tabular}\n"
      ],
      "text/markdown": [
       "\n",
       "A data.table: 6 × 15\n",
       "\n",
       "| Cliente_ID &lt;dbl&gt; | meanClient &lt;dbl&gt; | countCliente &lt;dbl&gt; | Producto_ID &lt;dbl&gt; | meanProd &lt;dbl&gt; | countProd &lt;dbl&gt; | meanClientProd &lt;dbl&gt; | countClientProd &lt;dbl&gt; | Semana &lt;dbl&gt; | Agencia_ID &lt;dbl&gt; | Canal_ID &lt;dbl&gt; | Ruta_SAK &lt;dbl&gt; | Demanda_uni_equil &lt;dbl&gt; | id &lt;dbl&gt; | toTest &lt;dbl&gt; |\n",
       "|---|---|---|---|---|---|---|---|---|---|---|---|---|---|---|\n",
       "| 0 | 0.3432635 | 0.001795265 | 0.6044119 | 0.3979951 | 0.0013729304 |        NA |          NA | 0.0 | 0.06268003 | 0.1 | 0.4201023 | 4.574711 |       0 | 0 |\n",
       "| 0 | 0.3432635 | 0.001795265 | 0.6275923 | 0.1990612 | 0.0104057359 | 0.3436378 | 0.002200704 | 0.0 | 0.03858169 | 0.1 | 0.7233424 | 2.639057 |       0 | 0 |\n",
       "| 0 | 0.3432635 | 0.001795265 | 0.6300945 | 0.3210936 | 0.0001146801 | 0.2824709 | 0.000000000 | 0.5 | 0.06268003 | 0.1 | 0.4201023 | 0.000000 | 1569352 | 1 |\n",
       "| 0 | 0.3432635 | 0.001795265 | 0.6301345 | 0.3915245 | 0.0009642817 |        NA |          NA | 1.0 | 0.06268003 | 0.1 | 0.4201023 | 0.000000 | 4728674 | 1 |\n",
       "| 0 | 0.3432635 | 0.001795265 | 0.6589999 | 0.3365408 | 0.0047734907 | 0.1633048 | 0.000000000 | 0.0 | 0.03858169 | 0.1 | 0.7233424 | 2.397895 |       0 | 0 |\n",
       "| 0 | 0.3432635 | 0.001795265 | 0.6838618 | 0.3413108 | 0.0111934211 | 0.4323192 | 0.002200704 | 0.0 | 0.03858169 | 0.1 | 0.7233424 | 3.784190 |       0 | 0 |\n",
       "\n"
      ],
      "text/plain": [
       "  Cliente_ID meanClient countCliente Producto_ID meanProd  countProd   \n",
       "1 0          0.3432635  0.001795265  0.6044119   0.3979951 0.0013729304\n",
       "2 0          0.3432635  0.001795265  0.6275923   0.1990612 0.0104057359\n",
       "3 0          0.3432635  0.001795265  0.6300945   0.3210936 0.0001146801\n",
       "4 0          0.3432635  0.001795265  0.6301345   0.3915245 0.0009642817\n",
       "5 0          0.3432635  0.001795265  0.6589999   0.3365408 0.0047734907\n",
       "6 0          0.3432635  0.001795265  0.6838618   0.3413108 0.0111934211\n",
       "  meanClientProd countClientProd Semana Agencia_ID Canal_ID Ruta_SAK \n",
       "1        NA               NA     0.0    0.06268003 0.1      0.4201023\n",
       "2 0.3436378      0.002200704     0.0    0.03858169 0.1      0.7233424\n",
       "3 0.2824709      0.000000000     0.5    0.06268003 0.1      0.4201023\n",
       "4        NA               NA     1.0    0.06268003 0.1      0.4201023\n",
       "5 0.1633048      0.000000000     0.0    0.03858169 0.1      0.7233424\n",
       "6 0.4323192      0.002200704     0.0    0.03858169 0.1      0.7233424\n",
       "  Demanda_uni_equil id      toTest\n",
       "1 4.574711                0 0     \n",
       "2 2.639057                0 0     \n",
       "3 0.000000          1569352 1     \n",
       "4 0.000000          4728674 1     \n",
       "5 2.397895                0 0     \n",
       "6 3.784190                0 0     "
      ]
     },
     "metadata": {
      "tags": []
     },
     "output_type": "display_data"
    }
   ],
   "source": [
    "# Definindo método de pré-processamento.\n",
    "\n",
    "params <- preProcess(data[, !c('id', 'Demanda_uni_equil', 'toTest')], method = 'range')\n",
    "\n",
    "# Transformando os dados.\n",
    "\n",
    "data <- predict(params, data)\n",
    "\n",
    "# Visualizando as primeiras linhas do dataset.\n",
    "\n",
    "head(data)"
   ]
  },
  {
   "cell_type": "markdown",
   "metadata": {
    "colab_type": "text",
    "id": "nMaYLT7HlKqS"
   },
   "source": [
    "### **5.6 Segmentando dados de treino e de teste**"
   ]
  },
  {
   "cell_type": "markdown",
   "metadata": {
    "colab_type": "text",
    "id": "YEIKg7remimA"
   },
   "source": [
    "Iremos separar os dados de treino e de teste do conjunto de dados que criamos nas etapas anteriores."
   ]
  },
  {
   "cell_type": "code",
   "execution_count": 107,
   "metadata": {
    "colab": {
     "base_uri": "https://localhost:8080/",
     "height": 204
    },
    "colab_type": "code",
    "id": "NK9PRSikw0cm",
    "outputId": "9e8265c0-f94b-41d7-efe5-d9a3ef2fa0a6"
   },
   "outputs": [
    {
     "data": {
      "text/html": [
       "<table>\n",
       "<caption>A data.frame: 6 × 13</caption>\n",
       "<thead>\n",
       "\t<tr><th></th><th scope=col>Cliente_ID</th><th scope=col>meanClient</th><th scope=col>countCliente</th><th scope=col>Producto_ID</th><th scope=col>meanProd</th><th scope=col>countProd</th><th scope=col>meanClientProd</th><th scope=col>countClientProd</th><th scope=col>Semana</th><th scope=col>Agencia_ID</th><th scope=col>Canal_ID</th><th scope=col>Ruta_SAK</th><th scope=col>Demanda_uni_equil</th></tr>\n",
       "\t<tr><th></th><th scope=col>&lt;dbl&gt;</th><th scope=col>&lt;dbl&gt;</th><th scope=col>&lt;dbl&gt;</th><th scope=col>&lt;dbl&gt;</th><th scope=col>&lt;dbl&gt;</th><th scope=col>&lt;dbl&gt;</th><th scope=col>&lt;dbl&gt;</th><th scope=col>&lt;dbl&gt;</th><th scope=col>&lt;dbl&gt;</th><th scope=col>&lt;dbl&gt;</th><th scope=col>&lt;dbl&gt;</th><th scope=col>&lt;dbl&gt;</th><th scope=col>&lt;dbl&gt;</th></tr>\n",
       "</thead>\n",
       "<tbody>\n",
       "\t<tr><th scope=row>1</th><td>0</td><td>0.3432635</td><td>0.001795265</td><td>0.6044119</td><td>0.3979951</td><td>0.001372930</td><td>       NA</td><td>         NA</td><td>0</td><td>0.06268003</td><td>0.1</td><td>0.4201023</td><td>4.574711</td></tr>\n",
       "\t<tr><th scope=row>2</th><td>0</td><td>0.3432635</td><td>0.001795265</td><td>0.6275923</td><td>0.1990612</td><td>0.010405736</td><td>0.3436378</td><td>0.002200704</td><td>0</td><td>0.03858169</td><td>0.1</td><td>0.7233424</td><td>2.639057</td></tr>\n",
       "\t<tr><th scope=row>3</th><td>0</td><td>0.3432635</td><td>0.001795265</td><td>0.6589999</td><td>0.3365408</td><td>0.004773491</td><td>0.1633048</td><td>0.000000000</td><td>0</td><td>0.03858169</td><td>0.1</td><td>0.7233424</td><td>2.397895</td></tr>\n",
       "\t<tr><th scope=row>4</th><td>0</td><td>0.3432635</td><td>0.001795265</td><td>0.6838618</td><td>0.3413108</td><td>0.011193421</td><td>0.4323192</td><td>0.002200704</td><td>0</td><td>0.03858169</td><td>0.1</td><td>0.7233424</td><td>3.784190</td></tr>\n",
       "\t<tr><th scope=row>5</th><td>0</td><td>0.3432635</td><td>0.001795265</td><td>0.6839018</td><td>0.2209631</td><td>0.056658417</td><td>0.5160939</td><td>0.002200704</td><td>0</td><td>0.03858169</td><td>0.1</td><td>0.7233424</td><td>4.682131</td></tr>\n",
       "\t<tr><th scope=row>6</th><td>0</td><td>0.3432635</td><td>0.001795265</td><td>0.6839819</td><td>0.5572273</td><td>0.006914185</td><td>0.4133808</td><td>0.002200704</td><td>0</td><td>0.03858169</td><td>0.1</td><td>0.7233424</td><td>3.688879</td></tr>\n",
       "</tbody>\n",
       "</table>\n"
      ],
      "text/latex": [
       "A data.frame: 6 × 13\n",
       "\\begin{tabular}{r|lllllllllllll}\n",
       "  & Cliente\\_ID & meanClient & countCliente & Producto\\_ID & meanProd & countProd & meanClientProd & countClientProd & Semana & Agencia\\_ID & Canal\\_ID & Ruta\\_SAK & Demanda\\_uni\\_equil\\\\\n",
       "  & <dbl> & <dbl> & <dbl> & <dbl> & <dbl> & <dbl> & <dbl> & <dbl> & <dbl> & <dbl> & <dbl> & <dbl> & <dbl>\\\\\n",
       "\\hline\n",
       "\t1 & 0 & 0.3432635 & 0.001795265 & 0.6044119 & 0.3979951 & 0.001372930 &        NA &          NA & 0 & 0.06268003 & 0.1 & 0.4201023 & 4.574711\\\\\n",
       "\t2 & 0 & 0.3432635 & 0.001795265 & 0.6275923 & 0.1990612 & 0.010405736 & 0.3436378 & 0.002200704 & 0 & 0.03858169 & 0.1 & 0.7233424 & 2.639057\\\\\n",
       "\t3 & 0 & 0.3432635 & 0.001795265 & 0.6589999 & 0.3365408 & 0.004773491 & 0.1633048 & 0.000000000 & 0 & 0.03858169 & 0.1 & 0.7233424 & 2.397895\\\\\n",
       "\t4 & 0 & 0.3432635 & 0.001795265 & 0.6838618 & 0.3413108 & 0.011193421 & 0.4323192 & 0.002200704 & 0 & 0.03858169 & 0.1 & 0.7233424 & 3.784190\\\\\n",
       "\t5 & 0 & 0.3432635 & 0.001795265 & 0.6839018 & 0.2209631 & 0.056658417 & 0.5160939 & 0.002200704 & 0 & 0.03858169 & 0.1 & 0.7233424 & 4.682131\\\\\n",
       "\t6 & 0 & 0.3432635 & 0.001795265 & 0.6839819 & 0.5572273 & 0.006914185 & 0.4133808 & 0.002200704 & 0 & 0.03858169 & 0.1 & 0.7233424 & 3.688879\\\\\n",
       "\\end{tabular}\n"
      ],
      "text/markdown": [
       "\n",
       "A data.frame: 6 × 13\n",
       "\n",
       "| <!--/--> | Cliente_ID &lt;dbl&gt; | meanClient &lt;dbl&gt; | countCliente &lt;dbl&gt; | Producto_ID &lt;dbl&gt; | meanProd &lt;dbl&gt; | countProd &lt;dbl&gt; | meanClientProd &lt;dbl&gt; | countClientProd &lt;dbl&gt; | Semana &lt;dbl&gt; | Agencia_ID &lt;dbl&gt; | Canal_ID &lt;dbl&gt; | Ruta_SAK &lt;dbl&gt; | Demanda_uni_equil &lt;dbl&gt; |\n",
       "|---|---|---|---|---|---|---|---|---|---|---|---|---|---|\n",
       "| 1 | 0 | 0.3432635 | 0.001795265 | 0.6044119 | 0.3979951 | 0.001372930 |        NA |          NA | 0 | 0.06268003 | 0.1 | 0.4201023 | 4.574711 |\n",
       "| 2 | 0 | 0.3432635 | 0.001795265 | 0.6275923 | 0.1990612 | 0.010405736 | 0.3436378 | 0.002200704 | 0 | 0.03858169 | 0.1 | 0.7233424 | 2.639057 |\n",
       "| 3 | 0 | 0.3432635 | 0.001795265 | 0.6589999 | 0.3365408 | 0.004773491 | 0.1633048 | 0.000000000 | 0 | 0.03858169 | 0.1 | 0.7233424 | 2.397895 |\n",
       "| 4 | 0 | 0.3432635 | 0.001795265 | 0.6838618 | 0.3413108 | 0.011193421 | 0.4323192 | 0.002200704 | 0 | 0.03858169 | 0.1 | 0.7233424 | 3.784190 |\n",
       "| 5 | 0 | 0.3432635 | 0.001795265 | 0.6839018 | 0.2209631 | 0.056658417 | 0.5160939 | 0.002200704 | 0 | 0.03858169 | 0.1 | 0.7233424 | 4.682131 |\n",
       "| 6 | 0 | 0.3432635 | 0.001795265 | 0.6839819 | 0.5572273 | 0.006914185 | 0.4133808 | 0.002200704 | 0 | 0.03858169 | 0.1 | 0.7233424 | 3.688879 |\n",
       "\n"
      ],
      "text/plain": [
       "  Cliente_ID meanClient countCliente Producto_ID meanProd  countProd  \n",
       "1 0          0.3432635  0.001795265  0.6044119   0.3979951 0.001372930\n",
       "2 0          0.3432635  0.001795265  0.6275923   0.1990612 0.010405736\n",
       "3 0          0.3432635  0.001795265  0.6589999   0.3365408 0.004773491\n",
       "4 0          0.3432635  0.001795265  0.6838618   0.3413108 0.011193421\n",
       "5 0          0.3432635  0.001795265  0.6839018   0.2209631 0.056658417\n",
       "6 0          0.3432635  0.001795265  0.6839819   0.5572273 0.006914185\n",
       "  meanClientProd countClientProd Semana Agencia_ID Canal_ID Ruta_SAK \n",
       "1        NA               NA     0      0.06268003 0.1      0.4201023\n",
       "2 0.3436378      0.002200704     0      0.03858169 0.1      0.7233424\n",
       "3 0.1633048      0.000000000     0      0.03858169 0.1      0.7233424\n",
       "4 0.4323192      0.002200704     0      0.03858169 0.1      0.7233424\n",
       "5 0.5160939      0.002200704     0      0.03858169 0.1      0.7233424\n",
       "6 0.4133808      0.002200704     0      0.03858169 0.1      0.7233424\n",
       "  Demanda_uni_equil\n",
       "1 4.574711         \n",
       "2 2.639057         \n",
       "3 2.397895         \n",
       "4 3.784190         \n",
       "5 4.682131         \n",
       "6 3.688879         "
      ]
     },
     "metadata": {
      "tags": []
     },
     "output_type": "display_data"
    }
   ],
   "source": [
    "# Extraindo registros de treino.\n",
    "\n",
    "train <- data %>% \n",
    "    filter(toTest == 0) %>%\n",
    "    select(-c(id, toTest))\n",
    "\n",
    "# Visualizando as primeiras linhas do dataset.\n",
    "\n",
    "head(train)"
   ]
  },
  {
   "cell_type": "code",
   "execution_count": 108,
   "metadata": {
    "colab": {
     "base_uri": "https://localhost:8080/",
     "height": 204
    },
    "colab_type": "code",
    "id": "Mm0xCa4YyJcT",
    "outputId": "9d733238-4ad8-42fc-a6a6-b7b918f9d957"
   },
   "outputs": [
    {
     "data": {
      "text/html": [
       "<table>\n",
       "<caption>A data.frame: 6 × 13</caption>\n",
       "<thead>\n",
       "\t<tr><th></th><th scope=col>Cliente_ID</th><th scope=col>meanClient</th><th scope=col>countCliente</th><th scope=col>Producto_ID</th><th scope=col>meanProd</th><th scope=col>countProd</th><th scope=col>meanClientProd</th><th scope=col>countClientProd</th><th scope=col>Semana</th><th scope=col>Agencia_ID</th><th scope=col>Canal_ID</th><th scope=col>Ruta_SAK</th><th scope=col>id</th></tr>\n",
       "\t<tr><th></th><th scope=col>&lt;dbl&gt;</th><th scope=col>&lt;dbl&gt;</th><th scope=col>&lt;dbl&gt;</th><th scope=col>&lt;dbl&gt;</th><th scope=col>&lt;dbl&gt;</th><th scope=col>&lt;dbl&gt;</th><th scope=col>&lt;dbl&gt;</th><th scope=col>&lt;dbl&gt;</th><th scope=col>&lt;dbl&gt;</th><th scope=col>&lt;dbl&gt;</th><th scope=col>&lt;dbl&gt;</th><th scope=col>&lt;dbl&gt;</th><th scope=col>&lt;dbl&gt;</th></tr>\n",
       "</thead>\n",
       "<tbody>\n",
       "\t<tr><th scope=row>1</th><td>0</td><td>0.3432635</td><td>0.001795265</td><td>0.6300945</td><td>0.3210936</td><td>0.0001146801</td><td>0.2824709</td><td>0.000000000</td><td>0.5</td><td>0.06268003</td><td>0.1</td><td>0.4201023</td><td>1569352</td></tr>\n",
       "\t<tr><th scope=row>2</th><td>0</td><td>0.3432635</td><td>0.001795265</td><td>0.6301345</td><td>0.3915245</td><td>0.0009642817</td><td>       NA</td><td>         NA</td><td>1.0</td><td>0.06268003</td><td>0.1</td><td>0.4201023</td><td>4728674</td></tr>\n",
       "\t<tr><th scope=row>3</th><td>0</td><td>0.3432635</td><td>0.001795265</td><td>0.6839018</td><td>0.2209631</td><td>0.0566584165</td><td>0.5160939</td><td>0.002200704</td><td>1.0</td><td>0.03858169</td><td>0.1</td><td>0.7233424</td><td>1547831</td></tr>\n",
       "\t<tr><th scope=row>4</th><td>0</td><td>0.3432635</td><td>0.001795265</td><td>0.6839819</td><td>0.5572273</td><td>0.0069141854</td><td>0.4133808</td><td>0.002200704</td><td>0.5</td><td>0.03858169</td><td>0.1</td><td>0.7233424</td><td>6667200</td></tr>\n",
       "\t<tr><th scope=row>5</th><td>0</td><td>0.3432635</td><td>0.001795265</td><td>0.6954920</td><td>0.5098425</td><td>0.0069222614</td><td>0.3481391</td><td>0.001320423</td><td>0.5</td><td>0.03858169</td><td>0.1</td><td>0.7233424</td><td>1592616</td></tr>\n",
       "\t<tr><th scope=row>6</th><td>0</td><td>0.3432635</td><td>0.001795265</td><td>0.6954920</td><td>0.5098425</td><td>0.0069222614</td><td>0.3481391</td><td>0.001320423</td><td>1.0</td><td>0.03858169</td><td>0.1</td><td>0.7233424</td><td>6825659</td></tr>\n",
       "</tbody>\n",
       "</table>\n"
      ],
      "text/latex": [
       "A data.frame: 6 × 13\n",
       "\\begin{tabular}{r|lllllllllllll}\n",
       "  & Cliente\\_ID & meanClient & countCliente & Producto\\_ID & meanProd & countProd & meanClientProd & countClientProd & Semana & Agencia\\_ID & Canal\\_ID & Ruta\\_SAK & id\\\\\n",
       "  & <dbl> & <dbl> & <dbl> & <dbl> & <dbl> & <dbl> & <dbl> & <dbl> & <dbl> & <dbl> & <dbl> & <dbl> & <dbl>\\\\\n",
       "\\hline\n",
       "\t1 & 0 & 0.3432635 & 0.001795265 & 0.6300945 & 0.3210936 & 0.0001146801 & 0.2824709 & 0.000000000 & 0.5 & 0.06268003 & 0.1 & 0.4201023 & 1569352\\\\\n",
       "\t2 & 0 & 0.3432635 & 0.001795265 & 0.6301345 & 0.3915245 & 0.0009642817 &        NA &          NA & 1.0 & 0.06268003 & 0.1 & 0.4201023 & 4728674\\\\\n",
       "\t3 & 0 & 0.3432635 & 0.001795265 & 0.6839018 & 0.2209631 & 0.0566584165 & 0.5160939 & 0.002200704 & 1.0 & 0.03858169 & 0.1 & 0.7233424 & 1547831\\\\\n",
       "\t4 & 0 & 0.3432635 & 0.001795265 & 0.6839819 & 0.5572273 & 0.0069141854 & 0.4133808 & 0.002200704 & 0.5 & 0.03858169 & 0.1 & 0.7233424 & 6667200\\\\\n",
       "\t5 & 0 & 0.3432635 & 0.001795265 & 0.6954920 & 0.5098425 & 0.0069222614 & 0.3481391 & 0.001320423 & 0.5 & 0.03858169 & 0.1 & 0.7233424 & 1592616\\\\\n",
       "\t6 & 0 & 0.3432635 & 0.001795265 & 0.6954920 & 0.5098425 & 0.0069222614 & 0.3481391 & 0.001320423 & 1.0 & 0.03858169 & 0.1 & 0.7233424 & 6825659\\\\\n",
       "\\end{tabular}\n"
      ],
      "text/markdown": [
       "\n",
       "A data.frame: 6 × 13\n",
       "\n",
       "| <!--/--> | Cliente_ID &lt;dbl&gt; | meanClient &lt;dbl&gt; | countCliente &lt;dbl&gt; | Producto_ID &lt;dbl&gt; | meanProd &lt;dbl&gt; | countProd &lt;dbl&gt; | meanClientProd &lt;dbl&gt; | countClientProd &lt;dbl&gt; | Semana &lt;dbl&gt; | Agencia_ID &lt;dbl&gt; | Canal_ID &lt;dbl&gt; | Ruta_SAK &lt;dbl&gt; | id &lt;dbl&gt; |\n",
       "|---|---|---|---|---|---|---|---|---|---|---|---|---|---|\n",
       "| 1 | 0 | 0.3432635 | 0.001795265 | 0.6300945 | 0.3210936 | 0.0001146801 | 0.2824709 | 0.000000000 | 0.5 | 0.06268003 | 0.1 | 0.4201023 | 1569352 |\n",
       "| 2 | 0 | 0.3432635 | 0.001795265 | 0.6301345 | 0.3915245 | 0.0009642817 |        NA |          NA | 1.0 | 0.06268003 | 0.1 | 0.4201023 | 4728674 |\n",
       "| 3 | 0 | 0.3432635 | 0.001795265 | 0.6839018 | 0.2209631 | 0.0566584165 | 0.5160939 | 0.002200704 | 1.0 | 0.03858169 | 0.1 | 0.7233424 | 1547831 |\n",
       "| 4 | 0 | 0.3432635 | 0.001795265 | 0.6839819 | 0.5572273 | 0.0069141854 | 0.4133808 | 0.002200704 | 0.5 | 0.03858169 | 0.1 | 0.7233424 | 6667200 |\n",
       "| 5 | 0 | 0.3432635 | 0.001795265 | 0.6954920 | 0.5098425 | 0.0069222614 | 0.3481391 | 0.001320423 | 0.5 | 0.03858169 | 0.1 | 0.7233424 | 1592616 |\n",
       "| 6 | 0 | 0.3432635 | 0.001795265 | 0.6954920 | 0.5098425 | 0.0069222614 | 0.3481391 | 0.001320423 | 1.0 | 0.03858169 | 0.1 | 0.7233424 | 6825659 |\n",
       "\n"
      ],
      "text/plain": [
       "  Cliente_ID meanClient countCliente Producto_ID meanProd  countProd   \n",
       "1 0          0.3432635  0.001795265  0.6300945   0.3210936 0.0001146801\n",
       "2 0          0.3432635  0.001795265  0.6301345   0.3915245 0.0009642817\n",
       "3 0          0.3432635  0.001795265  0.6839018   0.2209631 0.0566584165\n",
       "4 0          0.3432635  0.001795265  0.6839819   0.5572273 0.0069141854\n",
       "5 0          0.3432635  0.001795265  0.6954920   0.5098425 0.0069222614\n",
       "6 0          0.3432635  0.001795265  0.6954920   0.5098425 0.0069222614\n",
       "  meanClientProd countClientProd Semana Agencia_ID Canal_ID Ruta_SAK  id     \n",
       "1 0.2824709      0.000000000     0.5    0.06268003 0.1      0.4201023 1569352\n",
       "2        NA               NA     1.0    0.06268003 0.1      0.4201023 4728674\n",
       "3 0.5160939      0.002200704     1.0    0.03858169 0.1      0.7233424 1547831\n",
       "4 0.4133808      0.002200704     0.5    0.03858169 0.1      0.7233424 6667200\n",
       "5 0.3481391      0.001320423     0.5    0.03858169 0.1      0.7233424 1592616\n",
       "6 0.3481391      0.001320423     1.0    0.03858169 0.1      0.7233424 6825659"
      ]
     },
     "metadata": {
      "tags": []
     },
     "output_type": "display_data"
    }
   ],
   "source": [
    "# Extraindo registros de teste.\n",
    "\n",
    "test <- data %>% \n",
    "    filter(toTest == 1) %>%\n",
    "    select(-c(Demanda_uni_equil, toTest))\n",
    "\n",
    "# Visualizando as primeiras linhas do dataset.\n",
    "\n",
    "head(test)"
   ]
  },
  {
   "cell_type": "markdown",
   "metadata": {
    "colab_type": "text",
    "id": "Bb_E7fFZz0ll"
   },
   "source": [
    "Agora podemos remover a variável *data*."
   ]
  },
  {
   "cell_type": "code",
   "execution_count": null,
   "metadata": {
    "colab": {},
    "colab_type": "code",
    "id": "FtsQZ_DBzwd7"
   },
   "outputs": [],
   "source": [
    "# Removendo o dataset data.\n",
    "\n",
    "rm(data)"
   ]
  },
  {
   "cell_type": "markdown",
   "metadata": {
    "colab_type": "text",
    "id": "UgZsB3ZI1vuo"
   },
   "source": [
    "### **5.7 Criando função para gerar modelos com diferentes valores de parametrização baseados no algoritmo XGboost**"
   ]
  },
  {
   "cell_type": "markdown",
   "metadata": {
    "colab_type": "text",
    "id": "newG1mPv94cg"
   },
   "source": [
    "Bom, optamos por utilizar o algoritmo **XGboost** para a criação do nosso modelo preditivo por apresentar uma boa performance para gerar os **scores** da métrica de avaliação a ser utilizada e por ser consideravelmente mais rápido quando comparado a outros algoritmos.\n",
    "\n",
    "Como não sabemos quais valores utilizar para sua configuração, criaremos uma função que gere diferentes modelos com diferentes ajustes e selecionaremos aquele que obtiver o melhor desempenho para os dados de teste.\n",
    "\n",
    "Iremos avaliar a performance dos modelos a serem criados com base nos dados de treino e por isso deveremos ter atenção ao *overfitting* quando formos selecionar qual deverá ser utilizado para fazer as previsões dos dados de teste.\n",
    "\n",
    "Adotando esta estratégia conseguiremos extrair o melhor que este algoritmo pode nos oferecer."
   ]
  },
  {
   "cell_type": "code",
   "execution_count": null,
   "metadata": {
    "colab": {},
    "colab_type": "code",
    "id": "6Zh3XYrq2Npg"
   },
   "outputs": [],
   "source": [
    "# Definindo uma função para gerar diferentes modelos com diferentes valores de parametrização baseados no algoritmo XGboost.\n",
    "\n",
    "getBetterXGboostParameters <- function(data, label, maxDepth = 13, nEta = 0.2, nRounds = 86,  subsample = 0.85, colsample = 0.7, statusPrint = F) {\n",
    "\n",
    "    # Criando o dataframe para salvar os resultados dos modelos.\n",
    "\n",
    "    featuresXGboost <- data.frame()\n",
    "\n",
    "    # Define uma varíavel auxiliar para permitir o acompanhamento do progresso na avaliação dos modelos criados.\n",
    "\n",
    "    count <- 0\n",
    "\n",
    "    # Define o número total de modelos a serem criados.\n",
    "\n",
    "    total <- length(maxDepth) * length(nEta) * length(nRounds) * length(subsample) * length(colsample)\n",
    "\n",
    "    # Convertendo os dados das variáveis do dataset para o tipo DMatrix (uma matriz densa).\n",
    "\n",
    "    dTrain <- xgb.DMatrix(\n",
    "        data  = data,      # Define as variáveis preditoras.\n",
    "        label = label      # Define a variável a ser prevista.\n",
    "    )\n",
    "\n",
    "    for(m in maxDepth) {\n",
    "        for(e in nEta) {\n",
    "            for(r in nRounds) {\n",
    "                for(s in subsample) {\n",
    "                    for(c in colsample) {\n",
    "\n",
    "                        # Define um seed para permitir que o mesmo resultado do experimento seja reproduzível.\n",
    "\n",
    "                        set.seed(100)\n",
    "\n",
    "                        # Criando o modelo baseado no algoritmo XGboost.\n",
    "\n",
    "                        model_xgb <-  xgb.train(\n",
    "                            params = list(  \n",
    "                                objective        = \"reg:linear\",         # Define que o modelo deve ser baseado em uma regressão logistica linear.\n",
    "                                booster          = \"gbtree\",             # Definindo o booster a ser utilizado.\n",
    "                                eta              = e,                    # Define a taxa de aprendizado do modelo.\n",
    "                                max_depth        = m,                    # Define o tamanho máximo da árvore.\n",
    "                                subsample        = s,                    # Define a proporção de subamostra da instância de treinamento.\n",
    "                                colsample_bytree = c                     # Define a proporção da subamostra de colunas ao construir cada árvore.\n",
    "                            ),\n",
    "                            data          = dTrain,                      # Define as variáveis preditoras e a variável a ser prevista.\n",
    "                            feval         = rmsle,                       # Define a função de avaliação a ser utilizada.\n",
    "                            nrounds       = r,                           # Define o número de iterações que o algoritmo deve executar.\n",
    "                            verbose       = F,                           # Define a exibição da queda da taxa de erro durante o treinamento.\n",
    "                            maximize      = FALSE,                       # Define que a pontuação da avaliação deve ser minimizada.\n",
    "                            nthread       = 16                           # Define o número de threads que devem ser usadas. Quanto maior for esse número, mais rápido será o treinamento.\n",
    "                        )\n",
    "                                \n",
    "\n",
    "                        # Realizando as previsões com o modelo baseado no algoritmo XGboost.\n",
    "\n",
    "                        pred <- predict(model_xgb, data)\n",
    "\n",
    "                        # Armazena os parâmetros utilizados para criação do modelo e o score da métrica RMSLE obtido em um dataframe.\n",
    "                        \n",
    "                        featuresXGboost <- rbind(featuresXGboost, data.frame(\n",
    "                            maxDepth = m, \n",
    "                            eta      = e,\n",
    "                            nRounds  = r,\n",
    "                            s        = s,\n",
    "                            c        = c, \n",
    "                            rmsle    = rmsle(label, pred)\n",
    "                        ))\n",
    "\n",
    "                        # Incrementa o número de modelos avaliados.\n",
    "\n",
    "                        count <- count + 1\n",
    "\n",
    "                        # Imprime a porcetagem de progresso do treinamento e o melhor score da métrica RMSLE já alcançado.\n",
    "\n",
    "                        print(paste(100 * count / total, '%, best rmsle: ', min(featuresXGboost$rmsle)))\n",
    "\n",
    "                        # Salvando dataframe com os resultados gerados em um arquivo .csv.\n",
    "\n",
    "                        write.csv(\n",
    "                            x         = featuresXGboost,                        # Determinando o conjunto de dados a ser salvo.\n",
    "                            file      = \"/content/outputs/featuresXGboost.csv\", # Define o nome com o qual o conjunto de dados deve ser salvo.\n",
    "                            row.names = FALSE                                   # Indica que o nome das linhas não deve ser gravado no arquivo a ser salvo.\n",
    "                        )\n",
    "                    }\n",
    "                }\n",
    "            }\n",
    "        }\n",
    "    }\n",
    "\n",
    "    # Retorna o dataframe com os resultados obtidos pelo treinamento de cada modelo.\n",
    "    \n",
    "    featuresXGboost\n",
    "}"
   ]
  },
  {
   "cell_type": "markdown",
   "metadata": {
    "colab_type": "text",
    "id": "ISd3FcZMLn8z"
   },
   "source": [
    "### **5.8 Criando modelo XGboost**"
   ]
  },
  {
   "cell_type": "markdown",
   "metadata": {
    "colab_type": "text",
    "id": "I06p-hpBiduC"
   },
   "source": [
    "O algoritmo **XGboost** tem a capacidade de lidar com valores *NA* e por isso não vamos transformar os dados para tratar estas aparições.\n",
    "\n",
    "Dito isto, podemos criar nosso modelo."
   ]
  },
  {
   "cell_type": "code",
   "execution_count": null,
   "metadata": {
    "colab": {},
    "colab_type": "code",
    "id": "zmp-ZXKf5TlN"
   },
   "outputs": [],
   "source": [
    "# Gerando diferentes modelos baseados no algoritmo XGboost e determinando os scores para a métrica RMSLE de cada um.\n",
    "\n",
    "featuresXGboost <- getBetterXGboostParameters(\n",
    "    data        = as.matrix(train %>% select(- Demanda_uni_equil)), \n",
    "    label       = train$Demanda_uni_equil, \n",
    "    maxDepth    = 12:14, \n",
    "    nEta        = 0.2, \n",
    "    nRounds     = 85:87, \n",
    "    subsample   = 0.85,\n",
    "    colsample   = 0.7, \n",
    "    statusPrint = F\n",
    ") "
   ]
  },
  {
   "cell_type": "code",
   "execution_count": null,
   "metadata": {
    "colab": {},
    "colab_type": "code",
    "id": "qgDswT_njjBz"
   },
   "outputs": [],
   "source": [
    "# Salvando dataframe com os resultados gerados em um arquivo .csv.\n",
    "\n",
    "fwrite(featuresXGboost, '/content/outputs/featuresXGboost.csv')"
   ]
  },
  {
   "cell_type": "markdown",
   "metadata": {
    "colab_type": "text",
    "id": "ovXV8GCcjjB_"
   },
   "source": [
    "Caso deseje pular a execução do bloco de código anterior, basta carregar os resultados já processados que estão salvos no arquivo CSV abaixo:"
   ]
  },
  {
   "cell_type": "code",
   "execution_count": null,
   "metadata": {
    "colab": {},
    "colab_type": "code",
    "id": "OEergfBQjjCB"
   },
   "outputs": [],
   "source": [
    "# Carregando dataframe com os resultados obtidos para cada modelo XGboost criado.\n",
    "\n",
    "featuresXGboost <- fread('/content/outputs/featuresXGboost.csv')"
   ]
  },
  {
   "cell_type": "markdown",
   "metadata": {
    "colab_type": "text",
    "id": "A0nf4unFjjCI"
   },
   "source": [
    "Imprimiremos os registros dos modelos criados."
   ]
  },
  {
   "cell_type": "code",
   "execution_count": 115,
   "metadata": {
    "colab": {
     "base_uri": "https://localhost:8080/",
     "height": 267
    },
    "colab_type": "code",
    "id": "jRWT3m8aiy5a",
    "outputId": "64f96fdc-d663-49c4-8913-d0302940ab3b"
   },
   "outputs": [
    {
     "data": {
      "text/html": [
       "<table>\n",
       "<caption>A data.table: 9 × 6</caption>\n",
       "<thead>\n",
       "\t<tr><th scope=col>maxDepth</th><th scope=col>eta</th><th scope=col>nRounds</th><th scope=col>s</th><th scope=col>c</th><th scope=col>rmsle</th></tr>\n",
       "\t<tr><th scope=col>&lt;int&gt;</th><th scope=col>&lt;dbl&gt;</th><th scope=col>&lt;int&gt;</th><th scope=col>&lt;dbl&gt;</th><th scope=col>&lt;dbl&gt;</th><th scope=col>&lt;dbl&gt;</th></tr>\n",
       "</thead>\n",
       "<tbody>\n",
       "\t<tr><td>12</td><td>0.2</td><td>85</td><td>0.85</td><td>0.7</td><td>0.1856601</td></tr>\n",
       "\t<tr><td>12</td><td>0.2</td><td>86</td><td>0.85</td><td>0.7</td><td>0.1856144</td></tr>\n",
       "\t<tr><td>12</td><td>0.2</td><td>87</td><td>0.85</td><td>0.7</td><td>0.1855794</td></tr>\n",
       "\t<tr><td>13</td><td>0.2</td><td>85</td><td>0.85</td><td>0.7</td><td>0.1831419</td></tr>\n",
       "\t<tr><td>13</td><td>0.2</td><td>86</td><td>0.85</td><td>0.7</td><td>0.1830719</td></tr>\n",
       "\t<tr><td>13</td><td>0.2</td><td>87</td><td>0.85</td><td>0.7</td><td>0.1830108</td></tr>\n",
       "\t<tr><td>14</td><td>0.2</td><td>85</td><td>0.85</td><td>0.7</td><td>0.1793361</td></tr>\n",
       "\t<tr><td>14</td><td>0.2</td><td>86</td><td>0.85</td><td>0.7</td><td>0.1792510</td></tr>\n",
       "\t<tr><td>14</td><td>0.2</td><td>87</td><td>0.85</td><td>0.7</td><td>0.1791681</td></tr>\n",
       "</tbody>\n",
       "</table>\n"
      ],
      "text/latex": [
       "A data.table: 9 × 6\n",
       "\\begin{tabular}{llllll}\n",
       " maxDepth & eta & nRounds & s & c & rmsle\\\\\n",
       " <int> & <dbl> & <int> & <dbl> & <dbl> & <dbl>\\\\\n",
       "\\hline\n",
       "\t 12 & 0.2 & 85 & 0.85 & 0.7 & 0.1856601\\\\\n",
       "\t 12 & 0.2 & 86 & 0.85 & 0.7 & 0.1856144\\\\\n",
       "\t 12 & 0.2 & 87 & 0.85 & 0.7 & 0.1855794\\\\\n",
       "\t 13 & 0.2 & 85 & 0.85 & 0.7 & 0.1831419\\\\\n",
       "\t 13 & 0.2 & 86 & 0.85 & 0.7 & 0.1830719\\\\\n",
       "\t 13 & 0.2 & 87 & 0.85 & 0.7 & 0.1830108\\\\\n",
       "\t 14 & 0.2 & 85 & 0.85 & 0.7 & 0.1793361\\\\\n",
       "\t 14 & 0.2 & 86 & 0.85 & 0.7 & 0.1792510\\\\\n",
       "\t 14 & 0.2 & 87 & 0.85 & 0.7 & 0.1791681\\\\\n",
       "\\end{tabular}\n"
      ],
      "text/markdown": [
       "\n",
       "A data.table: 9 × 6\n",
       "\n",
       "| maxDepth &lt;int&gt; | eta &lt;dbl&gt; | nRounds &lt;int&gt; | s &lt;dbl&gt; | c &lt;dbl&gt; | rmsle &lt;dbl&gt; |\n",
       "|---|---|---|---|---|---|\n",
       "| 12 | 0.2 | 85 | 0.85 | 0.7 | 0.1856601 |\n",
       "| 12 | 0.2 | 86 | 0.85 | 0.7 | 0.1856144 |\n",
       "| 12 | 0.2 | 87 | 0.85 | 0.7 | 0.1855794 |\n",
       "| 13 | 0.2 | 85 | 0.85 | 0.7 | 0.1831419 |\n",
       "| 13 | 0.2 | 86 | 0.85 | 0.7 | 0.1830719 |\n",
       "| 13 | 0.2 | 87 | 0.85 | 0.7 | 0.1830108 |\n",
       "| 14 | 0.2 | 85 | 0.85 | 0.7 | 0.1793361 |\n",
       "| 14 | 0.2 | 86 | 0.85 | 0.7 | 0.1792510 |\n",
       "| 14 | 0.2 | 87 | 0.85 | 0.7 | 0.1791681 |\n",
       "\n"
      ],
      "text/plain": [
       "  maxDepth eta nRounds s    c   rmsle    \n",
       "1 12       0.2 85      0.85 0.7 0.1856601\n",
       "2 12       0.2 86      0.85 0.7 0.1856144\n",
       "3 12       0.2 87      0.85 0.7 0.1855794\n",
       "4 13       0.2 85      0.85 0.7 0.1831419\n",
       "5 13       0.2 86      0.85 0.7 0.1830719\n",
       "6 13       0.2 87      0.85 0.7 0.1830108\n",
       "7 14       0.2 85      0.85 0.7 0.1793361\n",
       "8 14       0.2 86      0.85 0.7 0.1792510\n",
       "9 14       0.2 87      0.85 0.7 0.1791681"
      ]
     },
     "metadata": {
      "tags": []
     },
     "output_type": "display_data"
    }
   ],
   "source": [
    "# Visualizando dataframe com os resultados obtidos no treinamento.\n",
    "\n",
    "featuresXGboost"
   ]
  },
  {
   "cell_type": "markdown",
   "metadata": {
    "colab_type": "text",
    "id": "1R_9dfwoFkJe"
   },
   "source": [
    "Após utilizar cada uma das configurações acima para realizar as previsões dos dados de teste, observamos que aquela que obteve o melhor resultado está descrita na **linha 5**. \n",
    "\n",
    "Os modelos registrados após está linha apresentam desempenhos inferiores pois começam a apresentar *overfitting*."
   ]
  },
  {
   "cell_type": "code",
   "execution_count": 116,
   "metadata": {
    "colab": {
     "base_uri": "https://localhost:8080/",
     "height": 99
    },
    "colab_type": "code",
    "id": "cV5Bb4Dg53_e",
    "outputId": "c70e8822-236d-4f88-f7e3-ebde1025c11a"
   },
   "outputs": [
    {
     "data": {
      "text/html": [
       "<table>\n",
       "<caption>A data.table: 1 × 6</caption>\n",
       "<thead>\n",
       "\t<tr><th scope=col>maxDepth</th><th scope=col>eta</th><th scope=col>nRounds</th><th scope=col>s</th><th scope=col>c</th><th scope=col>rmsle</th></tr>\n",
       "\t<tr><th scope=col>&lt;int&gt;</th><th scope=col>&lt;dbl&gt;</th><th scope=col>&lt;int&gt;</th><th scope=col>&lt;dbl&gt;</th><th scope=col>&lt;dbl&gt;</th><th scope=col>&lt;dbl&gt;</th></tr>\n",
       "</thead>\n",
       "<tbody>\n",
       "\t<tr><td>13</td><td>0.2</td><td>86</td><td>0.85</td><td>0.7</td><td>0.1830719</td></tr>\n",
       "</tbody>\n",
       "</table>\n"
      ],
      "text/latex": [
       "A data.table: 1 × 6\n",
       "\\begin{tabular}{llllll}\n",
       " maxDepth & eta & nRounds & s & c & rmsle\\\\\n",
       " <int> & <dbl> & <int> & <dbl> & <dbl> & <dbl>\\\\\n",
       "\\hline\n",
       "\t 13 & 0.2 & 86 & 0.85 & 0.7 & 0.1830719\\\\\n",
       "\\end{tabular}\n"
      ],
      "text/markdown": [
       "\n",
       "A data.table: 1 × 6\n",
       "\n",
       "| maxDepth &lt;int&gt; | eta &lt;dbl&gt; | nRounds &lt;int&gt; | s &lt;dbl&gt; | c &lt;dbl&gt; | rmsle &lt;dbl&gt; |\n",
       "|---|---|---|---|---|---|\n",
       "| 13 | 0.2 | 86 | 0.85 | 0.7 | 0.1830719 |\n",
       "\n"
      ],
      "text/plain": [
       "  maxDepth eta nRounds s    c   rmsle    \n",
       "1 13       0.2 86      0.85 0.7 0.1830719"
      ]
     },
     "metadata": {
      "tags": []
     },
     "output_type": "display_data"
    }
   ],
   "source": [
    "# Visualizando a melhor configuração para realizar as previsões dos dados de teste.\n",
    "\n",
    "bestXGboost <- featuresXGboost[5, ]\n",
    "\n",
    "bestXGboost"
   ]
  },
  {
   "cell_type": "code",
   "execution_count": null,
   "metadata": {
    "colab": {},
    "colab_type": "code",
    "id": "y8X15U98qKce"
   },
   "outputs": [],
   "source": [
    "# Convertendo os dados das variáveis do dataset para o tipo DMatrix (uma matriz densa).\n",
    "\n",
    "dTrain <- xgb.DMatrix(\n",
    "    data  = as.matrix(train %>% select(- Demanda_uni_equil)), # Define as variáveis preditoras.\n",
    "    label = train$Demanda_uni_equil                           # Define a variável a ser prevista.\n",
    ")"
   ]
  },
  {
   "cell_type": "code",
   "execution_count": null,
   "metadata": {
    "colab": {},
    "colab_type": "code",
    "id": "kx8tuOdYMDxZ"
   },
   "outputs": [],
   "source": [
    "# Define um seed para permitir que o mesmo resultado do experimento seja reproduzível.\n",
    "\n",
    "set.seed(100)\n",
    "\n",
    "# Criando o modelo baseado no algoritmo XGboost.\n",
    "\n",
    "model_xgb <-  xgb.train(\n",
    "    params = list(  \n",
    "        objective        = \"reg:linear\",         # Define que o modelo deve ser baseado em uma regressão logistica linear.\n",
    "        booster          = \"gbtree\",             # Definindo o booster a ser utilizado.\n",
    "        eta              = bestXGboost$eta,      # Define a taxa de aprendizado do modelo.\n",
    "        max_depth        = bestXGboost$maxDepth, # Define o tamanho máximo da árvore.\n",
    "        subsample        = bestXGboost$s,        # Define a proporção de subamostra da instância de treinamento.\n",
    "        colsample_bytree = bestXGboost$c         # Define a proporção da subamostra de colunas ao construir cada árvore.\n",
    "    ),\n",
    "    data          = dTrain,                      # Define as variáveis preditoras e a variável a ser prevista.\n",
    "    feval         = rmsle,                       # Define a função de avaliação a ser utilizada.\n",
    "    nrounds       = bestXGboost$nRounds,         # Define o número de iterações que o algoritmo deve executar.\n",
    "    verbose       = T,                           # Define a exibição da queda da taxa de erro durante o treinamento.\n",
    "    print_every_n = 5,                           # Define o número de iterações que devem ocorrer para que a impressão da mensagem de avaliação seja efetuada.\n",
    "    maximize      = FALSE,                       # Define que a pontuação da avaliação deve ser minimizada.\n",
    "    nthread       = 16                           # Define o número de threads que devem ser usadas. Quanto maior for esse número, mais rápido será o treinamento.\n",
    ")"
   ]
  },
  {
   "cell_type": "code",
   "execution_count": null,
   "metadata": {
    "colab": {},
    "colab_type": "code",
    "id": "7Vr4om7QMDxg"
   },
   "outputs": [],
   "source": [
    "# Realizando as previsões com o modelo baseado no algoritmo XGboost.\n",
    "\n",
    "pred <- predict(model_xgb, as.matrix(test %>% select(- id)))"
   ]
  },
  {
   "cell_type": "code",
   "execution_count": null,
   "metadata": {
    "colab": {},
    "colab_type": "code",
    "id": "sdSLOkKEMDxi"
   },
   "outputs": [],
   "source": [
    "# Convertendo os resultados previsto para a escala original da variável alvo (exp(Demanda_uni_equil) - 1).\n",
    "\n",
    "pred <- expm1(pred)\n",
    "\n",
    "# Transformando qualquer previsão negativa em um valor nulo.\n",
    "\n",
    "pred[pred < 0] <- 0"
   ]
  },
  {
   "cell_type": "code",
   "execution_count": null,
   "metadata": {
    "colab": {},
    "colab_type": "code",
    "id": "XFDQa3h0MDxl"
   },
   "outputs": [],
   "source": [
    "# Salvando os resultados gerados em um arquivo CSV. \n",
    "\n",
    "write.csv(\n",
    "    x         = data.frame(id = as.integer(test$id), Demanda_uni_equil = pred),  # Determinando o conjunto de dados a ser salvo.\n",
    "    file      = \"/content/outputs/results.csv\",                                  # Define o nome com o qual o conjunto de dados deve ser salvo.\n",
    "    row.names = FALSE                                                            # Indica que o nome das linhas não deve ser gravado no arquivo a ser salvo.\n",
    ")"
   ]
  },
  {
   "cell_type": "markdown",
   "metadata": {
    "colab_type": "text",
    "id": "1gmAAEZppcBX"
   },
   "source": [
    "Por fim, obtemos as seguintes pontuações com a métrica **RMSLE** no Kaggle ao submeter as previsões geradas pelo nosso modelo para os dados de teste:\n",
    "\n",
    "* **Pontuação privada:** 0.46821\n",
    "* **Pontuação pública:** 0.45352"
   ]
  },
  {
   "cell_type": "markdown",
   "metadata": {
    "colab_type": "text",
    "id": "fMcitPkemOqe"
   },
   "source": [
    "# **Entre em contato comigo!**"
   ]
  },
  {
   "cell_type": "markdown",
   "metadata": {
    "colab_type": "text",
    "id": "jfmuYm8UmQ1u"
   },
   "source": [
    "Caso tenha alguma dúvida, sugestão ou apenas queira trocar uma ideia sobre este projeto, não hesite em entrar em contato comigo!"
   ]
  },
  {
   "cell_type": "markdown",
   "metadata": {
    "colab_type": "text",
    "id": "k39JXj4ZmXYe"
   },
   "source": [
    "<table align='center'>\n",
    "    <tr style=\" background-color: rgba(0,0,0,0);\">\n",
    "        <td>\n",
    "            <img src=\"https://image.flaticon.com/icons/svg/732/732026.svg\" alt=\"Email\" height=\"42\" width=\"42\">\n",
    "        </td>\n",
    "        <td>\n",
    "            <p>\n",
    "                <a href=\"mailto:franklinfs390@gmail.com\">E-mail</href>\n",
    "            </p>\n",
    "        </td>\n",
    "    <td>\n",
    "            <img src=\"https://image.flaticon.com/icons/svg/254/254394.svg\" alt=\"Linkedin\" height=\"42\" width=\"42\">\n",
    "    </td>\n",
    "    <td>\n",
    "        <p>\n",
    "            <a href=\"https://www.linkedin.com/in/franklinfs390/\">Linkedin</href>\n",
    "        </p>\n",
    "    </td>\n",
    "    <td>\n",
    "        <img src=\"https://image.flaticon.com/icons/svg/2111/2111432.svg\" alt=\"Github\" height=\"42\" width=\"42\">\n",
    "    </td>\n",
    "    <td>\n",
    "        <p>\n",
    "            <a href=\"https://github.com/franklin390\">Github</href>\n",
    "        </p>\n",
    "    </td>\n",
    "    <td>\n",
    "        <img src=\"https://image.flaticon.com/icons/svg/1667/1667233.svg\" alt=\"Site\" height=\"42\" width=\"42\">\n",
    "    </td>\n",
    "    <td>\n",
    "        <p>\n",
    "            <a href=\"https://franklin390.github.io/\">Site</href>\n",
    "        </p>\n",
    "    </td>\n",
    "  </tr>\n",
    "</table>\n"
   ]
  }
 ],
 "metadata": {
  "colab": {
   "collapsed_sections": [
    "pEWLHqoL9G2u",
    "u1eZ08QSU1t2",
    "dB_2wwudVuPD",
    "m5tIu9ZmaXHI",
    "SPmum8McvAmx",
    "ozxRNvcS1VS_",
    "jcUPl6U9vAae",
    "sDG2SGjW6xic",
    "4v-dZwu580XP",
    "fTr40_XNDL-V",
    "BI_oLnSqFYb8",
    "zEDC96h1Jziu",
    "2rEmoOjUQK0x",
    "pJScZP_Skry7",
    "hGXVH1gCrqtm"
   ],
   "machine_shape": "hm",
   "name": "Projeto_02_Grupo_Bimbo_Inventory_Demand (2).ipynb",
   "provenance": [],
   "toc_visible": true
  },
  "kernelspec": {
   "display_name": "R",
   "language": "R",
   "name": "ir"
  },
  "language_info": {
   "codemirror_mode": "r",
   "file_extension": ".r",
   "mimetype": "text/x-r-source",
   "name": "R",
   "pygments_lexer": "r",
   "version": "3.6.1"
  }
 },
 "nbformat": 4,
 "nbformat_minor": 4
}
